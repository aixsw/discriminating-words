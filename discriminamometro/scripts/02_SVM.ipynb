{
 "cells": [
  {
   "cell_type": "code",
   "execution_count": 1,
   "metadata": {},
   "outputs": [
    {
     "name": "stdout",
     "output_type": "stream",
     "text": [
      "8\n"
     ]
    }
   ],
   "source": [
    "from Discriminamometro import Utileria, Discriminamometro\n",
    "import pandas as pd\n",
    "\n",
    "# Se instancia la clase del Discriminamometro\n",
    "obj_Discr = Discriminamometro('PRUEBA')\n",
    "\n",
    "# Mostramos la cantidad de tweets\n",
    "print(obj_Discr.nbr_TweetsXCorrida)"
   ]
  },
  {
   "cell_type": "code",
   "execution_count": 2,
   "metadata": {},
   "outputs": [],
   "source": [
    "# Leemos los datasets de acuerdo a cada categoría\n",
    "pd_Apariencia = obj_Discr.Utileria.AbrirJSONComoDataframe('json_apariencia_20200706.txt')\n",
    "pd_Discapacidad = obj_Discr.Utileria.AbrirJSONComoDataframe('json_discapacidad_20200706.txt')\n",
    "pd_Edad = obj_Discr.Utileria.AbrirJSONComoDataframe('json_edad_20200706.txt')\n",
    "pd_Genero = obj_Discr.Utileria.AbrirJSONComoDataframe('json_genero_20200706.txt')\n",
    "pd_Ideologia = obj_Discr.Utileria.AbrirJSONComoDataframe('json_ideologia_20200706.txt')\n",
    "pd_Orientacion = obj_Discr.Utileria.AbrirJSONComoDataframe('json_orientacion_20200706.txt')\n",
    "pd_Religion = obj_Discr.Utileria.AbrirJSONComoDataframe('json_religion_20200706.txt')\n",
    "\n",
    "# Leemos también la categoría neutra\n",
    "pd_Neutro = obj_Discr.Utileria.AbrirJSONComoDataframe('json_neutro_20200706.txt')"
   ]
  },
  {
   "cell_type": "code",
   "execution_count": 3,
   "metadata": {},
   "outputs": [
    {
     "data": {
      "text/html": [
       "<div>\n",
       "<style scoped>\n",
       "    .dataframe tbody tr th:only-of-type {\n",
       "        vertical-align: middle;\n",
       "    }\n",
       "\n",
       "    .dataframe tbody tr th {\n",
       "        vertical-align: top;\n",
       "    }\n",
       "\n",
       "    .dataframe thead th {\n",
       "        text-align: right;\n",
       "    }\n",
       "</style>\n",
       "<table border=\"1\" class=\"dataframe\">\n",
       "  <thead>\n",
       "    <tr style=\"text-align: right;\">\n",
       "      <th></th>\n",
       "      <th>user_id</th>\n",
       "      <th>name</th>\n",
       "      <th>screen_name</th>\n",
       "      <th>full_text</th>\n",
       "      <th>location</th>\n",
       "    </tr>\n",
       "  </thead>\n",
       "  <tbody>\n",
       "    <tr>\n",
       "      <th>0</th>\n",
       "      <td>1247735261326426112</td>\n",
       "      <td>Alejandra Trejo</td>\n",
       "      <td>trej_ale</td>\n",
       "      <td>Asi los bares de la Zona Rosa. Sin autorizacio...</td>\n",
       "      <td></td>\n",
       "    </tr>\n",
       "    <tr>\n",
       "      <th>1</th>\n",
       "      <td>1236513978068713472</td>\n",
       "      <td>BA BY SH</td>\n",
       "      <td>MOONICESH</td>\n",
       "      <td>Tu mama te lo dice y el tiempo te lo confirma</td>\n",
       "      <td>Nicaragua</td>\n",
       "    </tr>\n",
       "    <tr>\n",
       "      <th>2</th>\n",
       "      <td>1035613722830618624</td>\n",
       "      <td>(:</td>\n",
       "      <td>omaramachinn</td>\n",
       "      <td>Yo: ya esta no me importa\\n\\nYo 10 segundos de...</td>\n",
       "      <td>Islas Canarias, Espana</td>\n",
       "    </tr>\n",
       "    <tr>\n",
       "      <th>3</th>\n",
       "      <td>1092086702695419904</td>\n",
       "      <td>el innombrable</td>\n",
       "      <td>JuanCas08348575</td>\n",
       "      <td>le robaron la presidencia a @petrogustavo \\n\\n...</td>\n",
       "      <td></td>\n",
       "    </tr>\n",
       "    <tr>\n",
       "      <th>4</th>\n",
       "      <td>992537502908080128</td>\n",
       "      <td>M</td>\n",
       "      <td>KNKSMYJH13</td>\n",
       "      <td>En ese sentido, Volkov quiere que Greco se res...</td>\n",
       "      <td>Barranquilla, Colombia</td>\n",
       "    </tr>\n",
       "    <tr>\n",
       "      <th>...</th>\n",
       "      <td>...</td>\n",
       "      <td>...</td>\n",
       "      <td>...</td>\n",
       "      <td>...</td>\n",
       "      <td>...</td>\n",
       "    </tr>\n",
       "    <tr>\n",
       "      <th>362</th>\n",
       "      <td>840987060</td>\n",
       "      <td>ANNA</td>\n",
       "      <td>ANIESKR</td>\n",
       "      <td>El populismo es astuto, pero criminal. Primero...</td>\n",
       "      <td></td>\n",
       "    </tr>\n",
       "    <tr>\n",
       "      <th>363</th>\n",
       "      <td>3099560842</td>\n",
       "      <td>Louis</td>\n",
       "      <td>MareBerths</td>\n",
       "      <td>@sora_kf Trabajas mejor bajo presion (?) ajxiw...</td>\n",
       "      <td>Mexico</td>\n",
       "    </tr>\n",
       "    <tr>\n",
       "      <th>364</th>\n",
       "      <td>715760098195423232</td>\n",
       "      <td>Alex Omar Giles Gonz</td>\n",
       "      <td>dralexgiles</td>\n",
       "      <td>Te pasas internet  https://t.co/Nf6orpbVhG</td>\n",
       "      <td>Queretaro, Queretaro Arteaga</td>\n",
       "    </tr>\n",
       "    <tr>\n",
       "      <th>365</th>\n",
       "      <td>1106712336486813696</td>\n",
       "      <td>TODO MUSICA ONLINE</td>\n",
       "      <td>TODOMUSICAONLI1</td>\n",
       "      <td>Hoy Celebramos el Cumple  @ShaneFilan  @westli...</td>\n",
       "      <td>Argentina</td>\n",
       "    </tr>\n",
       "    <tr>\n",
       "      <th>366</th>\n",
       "      <td>91943324</td>\n",
       "      <td>Marce Marelli</td>\n",
       "      <td>marcela41</td>\n",
       "      <td>@dravaleria No tenes verguenza sos de la banda...</td>\n",
       "      <td>argentina</td>\n",
       "    </tr>\n",
       "  </tbody>\n",
       "</table>\n",
       "<p>367 rows × 5 columns</p>\n",
       "</div>"
      ],
      "text/plain": [
       "                 user_id                  name      screen_name  \\\n",
       "0    1247735261326426112       Alejandra Trejo         trej_ale   \n",
       "1    1236513978068713472              BA BY SH        MOONICESH   \n",
       "2    1035613722830618624                    (:     omaramachinn   \n",
       "3    1092086702695419904        el innombrable  JuanCas08348575   \n",
       "4     992537502908080128                    M        KNKSMYJH13   \n",
       "..                   ...                   ...              ...   \n",
       "362            840987060                  ANNA          ANIESKR   \n",
       "363           3099560842                 Louis       MareBerths   \n",
       "364   715760098195423232  Alex Omar Giles Gonz      dralexgiles   \n",
       "365  1106712336486813696    TODO MUSICA ONLINE  TODOMUSICAONLI1   \n",
       "366             91943324         Marce Marelli        marcela41   \n",
       "\n",
       "                                             full_text  \\\n",
       "0    Asi los bares de la Zona Rosa. Sin autorizacio...   \n",
       "1        Tu mama te lo dice y el tiempo te lo confirma   \n",
       "2    Yo: ya esta no me importa\\n\\nYo 10 segundos de...   \n",
       "3    le robaron la presidencia a @petrogustavo \\n\\n...   \n",
       "4    En ese sentido, Volkov quiere que Greco se res...   \n",
       "..                                                 ...   \n",
       "362  El populismo es astuto, pero criminal. Primero...   \n",
       "363  @sora_kf Trabajas mejor bajo presion (?) ajxiw...   \n",
       "364         Te pasas internet  https://t.co/Nf6orpbVhG   \n",
       "365  Hoy Celebramos el Cumple  @ShaneFilan  @westli...   \n",
       "366  @dravaleria No tenes verguenza sos de la banda...   \n",
       "\n",
       "                         location  \n",
       "0                                  \n",
       "1                       Nicaragua  \n",
       "2          Islas Canarias, Espana  \n",
       "3                                  \n",
       "4          Barranquilla, Colombia  \n",
       "..                            ...  \n",
       "362                                \n",
       "363                        Mexico  \n",
       "364  Queretaro, Queretaro Arteaga  \n",
       "365                     Argentina  \n",
       "366                     argentina  \n",
       "\n",
       "[367 rows x 5 columns]"
      ]
     },
     "execution_count": 3,
     "metadata": {},
     "output_type": "execute_result"
    }
   ],
   "source": [
    "pd_Neutro"
   ]
  },
  {
   "cell_type": "code",
   "execution_count": 4,
   "metadata": {},
   "outputs": [],
   "source": [
    "# Hacemos el proceso de limpieza\n",
    "obj_Discr.str_StopWords='StopWords.p'\n",
    "obj_Discr.CargarStopWords()\n",
    "\n",
    "pd_Apariencia = obj_Discr.LimpiarDataFrame(pd_Apariencia)\n",
    "pd_Discapacidad = obj_Discr.LimpiarDataFrame(pd_Discapacidad)\n",
    "pd_Edad = obj_Discr.LimpiarDataFrame(pd_Edad)\n",
    "pd_Genero = obj_Discr.LimpiarDataFrame(pd_Genero)\n",
    "pd_Ideologia = obj_Discr.LimpiarDataFrame(pd_Ideologia)\n",
    "pd_Orientacion = obj_Discr.LimpiarDataFrame(pd_Orientacion)\n",
    "pd_Religion = obj_Discr.LimpiarDataFrame(pd_Religion)\n",
    "\n",
    "pd_Neutro = obj_Discr.LimpiarDataFrame(pd_Neutro)"
   ]
  },
  {
   "cell_type": "code",
   "execution_count": 5,
   "metadata": {},
   "outputs": [
    {
     "data": {
      "text/html": [
       "<div>\n",
       "<style scoped>\n",
       "    .dataframe tbody tr th:only-of-type {\n",
       "        vertical-align: middle;\n",
       "    }\n",
       "\n",
       "    .dataframe tbody tr th {\n",
       "        vertical-align: top;\n",
       "    }\n",
       "\n",
       "    .dataframe thead th {\n",
       "        text-align: right;\n",
       "    }\n",
       "</style>\n",
       "<table border=\"1\" class=\"dataframe\">\n",
       "  <thead>\n",
       "    <tr style=\"text-align: right;\">\n",
       "      <th></th>\n",
       "      <th>user_id</th>\n",
       "      <th>name</th>\n",
       "      <th>screen_name</th>\n",
       "      <th>full_text</th>\n",
       "      <th>location</th>\n",
       "    </tr>\n",
       "  </thead>\n",
       "  <tbody>\n",
       "    <tr>\n",
       "      <th>0</th>\n",
       "      <td>1247735261326426112</td>\n",
       "      <td>Alejandra Trejo</td>\n",
       "      <td>trej_ale</td>\n",
       "      <td>asi los bares de la zona rosa sin autorizacion...</td>\n",
       "      <td></td>\n",
       "    </tr>\n",
       "    <tr>\n",
       "      <th>1</th>\n",
       "      <td>1236513978068713472</td>\n",
       "      <td>BA BY SH</td>\n",
       "      <td>MOONICESH</td>\n",
       "      <td>tu mama te lo dice y el tiempo te lo confirma</td>\n",
       "      <td>Nicaragua</td>\n",
       "    </tr>\n",
       "    <tr>\n",
       "      <th>2</th>\n",
       "      <td>1035613722830618624</td>\n",
       "      <td>(:</td>\n",
       "      <td>omaramachinn</td>\n",
       "      <td>yo ya esta no me yo 10 segundos despues pero s...</td>\n",
       "      <td>Islas Canarias, Espana</td>\n",
       "    </tr>\n",
       "    <tr>\n",
       "      <th>3</th>\n",
       "      <td>1092086702695419904</td>\n",
       "      <td>el innombrable</td>\n",
       "      <td>JuanCas08348575</td>\n",
       "      <td>le robaron la presidencia a eluribismoserobola...</td>\n",
       "      <td></td>\n",
       "    </tr>\n",
       "    <tr>\n",
       "      <th>4</th>\n",
       "      <td>992537502908080128</td>\n",
       "      <td>M</td>\n",
       "      <td>KNKSMYJH13</td>\n",
       "      <td>en ese sentido volkov quiere que greco se resp...</td>\n",
       "      <td>Barranquilla, Colombia</td>\n",
       "    </tr>\n",
       "    <tr>\n",
       "      <th>...</th>\n",
       "      <td>...</td>\n",
       "      <td>...</td>\n",
       "      <td>...</td>\n",
       "      <td>...</td>\n",
       "      <td>...</td>\n",
       "    </tr>\n",
       "    <tr>\n",
       "      <th>362</th>\n",
       "      <td>840987060</td>\n",
       "      <td>ANNA</td>\n",
       "      <td>ANIESKR</td>\n",
       "      <td>el populismo es astuto pero criminal primero m...</td>\n",
       "      <td></td>\n",
       "    </tr>\n",
       "    <tr>\n",
       "      <th>363</th>\n",
       "      <td>3099560842</td>\n",
       "      <td>Louis</td>\n",
       "      <td>MareBerths</td>\n",
       "      <td>trabajas mejor bajo presion ( ajxiwmzoa</td>\n",
       "      <td>Mexico</td>\n",
       "    </tr>\n",
       "    <tr>\n",
       "      <th>364</th>\n",
       "      <td>715760098195423232</td>\n",
       "      <td>Alex Omar Giles Gonz</td>\n",
       "      <td>dralexgiles</td>\n",
       "      <td>te pasas internet</td>\n",
       "      <td>Queretaro, Queretaro Arteaga</td>\n",
       "    </tr>\n",
       "    <tr>\n",
       "      <th>365</th>\n",
       "      <td>1106712336486813696</td>\n",
       "      <td>TODO MUSICA ONLINE</td>\n",
       "      <td>TODOMUSICAONLI1</td>\n",
       "      <td>hoy celebramos el cumple invierno020[]escuchan...</td>\n",
       "      <td>Argentina</td>\n",
       "    </tr>\n",
       "    <tr>\n",
       "      <th>366</th>\n",
       "      <td>91943324</td>\n",
       "      <td>Marce Marelli</td>\n",
       "      <td>marcela41</td>\n",
       "      <td>no tenes verguenza sos de la banda de ladrone</td>\n",
       "      <td>argentina</td>\n",
       "    </tr>\n",
       "  </tbody>\n",
       "</table>\n",
       "<p>367 rows × 5 columns</p>\n",
       "</div>"
      ],
      "text/plain": [
       "                 user_id                  name      screen_name  \\\n",
       "0    1247735261326426112       Alejandra Trejo         trej_ale   \n",
       "1    1236513978068713472              BA BY SH        MOONICESH   \n",
       "2    1035613722830618624                    (:     omaramachinn   \n",
       "3    1092086702695419904        el innombrable  JuanCas08348575   \n",
       "4     992537502908080128                    M        KNKSMYJH13   \n",
       "..                   ...                   ...              ...   \n",
       "362            840987060                  ANNA          ANIESKR   \n",
       "363           3099560842                 Louis       MareBerths   \n",
       "364   715760098195423232  Alex Omar Giles Gonz      dralexgiles   \n",
       "365  1106712336486813696    TODO MUSICA ONLINE  TODOMUSICAONLI1   \n",
       "366             91943324         Marce Marelli        marcela41   \n",
       "\n",
       "                                             full_text  \\\n",
       "0    asi los bares de la zona rosa sin autorizacion...   \n",
       "1        tu mama te lo dice y el tiempo te lo confirma   \n",
       "2    yo ya esta no me yo 10 segundos despues pero s...   \n",
       "3    le robaron la presidencia a eluribismoserobola...   \n",
       "4    en ese sentido volkov quiere que greco se resp...   \n",
       "..                                                 ...   \n",
       "362  el populismo es astuto pero criminal primero m...   \n",
       "363            trabajas mejor bajo presion ( ajxiwmzoa   \n",
       "364                                  te pasas internet   \n",
       "365  hoy celebramos el cumple invierno020[]escuchan...   \n",
       "366      no tenes verguenza sos de la banda de ladrone   \n",
       "\n",
       "                         location  \n",
       "0                                  \n",
       "1                       Nicaragua  \n",
       "2          Islas Canarias, Espana  \n",
       "3                                  \n",
       "4          Barranquilla, Colombia  \n",
       "..                            ...  \n",
       "362                                \n",
       "363                        Mexico  \n",
       "364  Queretaro, Queretaro Arteaga  \n",
       "365                     Argentina  \n",
       "366                     argentina  \n",
       "\n",
       "[367 rows x 5 columns]"
      ]
     },
     "execution_count": 5,
     "metadata": {},
     "output_type": "execute_result"
    }
   ],
   "source": [
    "pd_Neutro"
   ]
  },
  {
   "cell_type": "code",
   "execution_count": 6,
   "metadata": {},
   "outputs": [],
   "source": [
    "pd_Apariencia = obj_Discr.QuitarStopWordsDataFrame(pd_Apariencia)\n",
    "pd_Discapacidad = obj_Discr.QuitarStopWordsDataFrame(pd_Discapacidad)\n",
    "pd_Edad = obj_Discr.QuitarStopWordsDataFrame(pd_Edad)\n",
    "pd_Genero = obj_Discr.QuitarStopWordsDataFrame(pd_Genero)\n",
    "pd_Ideologia = obj_Discr.QuitarStopWordsDataFrame(pd_Ideologia)\n",
    "pd_Orientacion = obj_Discr.QuitarStopWordsDataFrame(pd_Orientacion)\n",
    "pd_Religion = obj_Discr.QuitarStopWordsDataFrame(pd_Religion)\n",
    "\n",
    "pd_Neutro = obj_Discr.QuitarStopWordsDataFrame(pd_Neutro)"
   ]
  },
  {
   "cell_type": "code",
   "execution_count": 7,
   "metadata": {},
   "outputs": [
    {
     "data": {
      "text/html": [
       "<div>\n",
       "<style scoped>\n",
       "    .dataframe tbody tr th:only-of-type {\n",
       "        vertical-align: middle;\n",
       "    }\n",
       "\n",
       "    .dataframe tbody tr th {\n",
       "        vertical-align: top;\n",
       "    }\n",
       "\n",
       "    .dataframe thead th {\n",
       "        text-align: right;\n",
       "    }\n",
       "</style>\n",
       "<table border=\"1\" class=\"dataframe\">\n",
       "  <thead>\n",
       "    <tr style=\"text-align: right;\">\n",
       "      <th></th>\n",
       "      <th>user_id</th>\n",
       "      <th>name</th>\n",
       "      <th>screen_name</th>\n",
       "      <th>full_text</th>\n",
       "      <th>location</th>\n",
       "    </tr>\n",
       "  </thead>\n",
       "  <tbody>\n",
       "    <tr>\n",
       "      <th>0</th>\n",
       "      <td>1247735261326426112</td>\n",
       "      <td>Alejandra Trejo</td>\n",
       "      <td>trej_ale</td>\n",
       "      <td>asi bares zona rosa autorizacion respetar sana...</td>\n",
       "      <td></td>\n",
       "    </tr>\n",
       "    <tr>\n",
       "      <th>1</th>\n",
       "      <td>1236513978068713472</td>\n",
       "      <td>BA BY SH</td>\n",
       "      <td>MOONICESH</td>\n",
       "      <td>mama dice tiempo confirma</td>\n",
       "      <td>Nicaragua</td>\n",
       "    </tr>\n",
       "    <tr>\n",
       "      <th>2</th>\n",
       "      <td>1035613722830618624</td>\n",
       "      <td>(:</td>\n",
       "      <td>omaramachinn</td>\n",
       "      <td>10 segundos despues sabes mas enoja</td>\n",
       "      <td>Islas Canarias, Espana</td>\n",
       "    </tr>\n",
       "    <tr>\n",
       "      <th>3</th>\n",
       "      <td>1092086702695419904</td>\n",
       "      <td>el innombrable</td>\n",
       "      <td>JuanCas08348575</td>\n",
       "      <td>robaron presidencia eluribismoserobolapresiden...</td>\n",
       "      <td></td>\n",
       "    </tr>\n",
       "    <tr>\n",
       "      <th>4</th>\n",
       "      <td>992537502908080128</td>\n",
       "      <td>M</td>\n",
       "      <td>KNKSMYJH13</td>\n",
       "      <td>volkov quiere greco responsabilice forma casti...</td>\n",
       "      <td>Barranquilla, Colombia</td>\n",
       "    </tr>\n",
       "    <tr>\n",
       "      <th>...</th>\n",
       "      <td>...</td>\n",
       "      <td>...</td>\n",
       "      <td>...</td>\n",
       "      <td>...</td>\n",
       "      <td>...</td>\n",
       "    </tr>\n",
       "    <tr>\n",
       "      <th>362</th>\n",
       "      <td>840987060</td>\n",
       "      <td>ANNA</td>\n",
       "      <td>ANIESKR</td>\n",
       "      <td>populismo astuto criminal primero menosprecio ...</td>\n",
       "      <td></td>\n",
       "    </tr>\n",
       "    <tr>\n",
       "      <th>363</th>\n",
       "      <td>3099560842</td>\n",
       "      <td>Louis</td>\n",
       "      <td>MareBerths</td>\n",
       "      <td>trabajas mejor bajo presion ( ajxiwmzoa</td>\n",
       "      <td>Mexico</td>\n",
       "    </tr>\n",
       "    <tr>\n",
       "      <th>364</th>\n",
       "      <td>715760098195423232</td>\n",
       "      <td>Alex Omar Giles Gonz</td>\n",
       "      <td>dralexgiles</td>\n",
       "      <td>pasas internet</td>\n",
       "      <td>Queretaro, Queretaro Arteaga</td>\n",
       "    </tr>\n",
       "    <tr>\n",
       "      <th>365</th>\n",
       "      <td>1106712336486813696</td>\n",
       "      <td>TODO MUSICA ONLINE</td>\n",
       "      <td>TODOMUSICAONLI1</td>\n",
       "      <td>hoy celebramos cumple invierno020[]escuchanos ...</td>\n",
       "      <td>Argentina</td>\n",
       "    </tr>\n",
       "    <tr>\n",
       "      <th>366</th>\n",
       "      <td>91943324</td>\n",
       "      <td>Marce Marelli</td>\n",
       "      <td>marcela41</td>\n",
       "      <td>tenes verguenza sos banda ladrone</td>\n",
       "      <td>argentina</td>\n",
       "    </tr>\n",
       "  </tbody>\n",
       "</table>\n",
       "<p>367 rows × 5 columns</p>\n",
       "</div>"
      ],
      "text/plain": [
       "                 user_id                  name      screen_name  \\\n",
       "0    1247735261326426112       Alejandra Trejo         trej_ale   \n",
       "1    1236513978068713472              BA BY SH        MOONICESH   \n",
       "2    1035613722830618624                    (:     omaramachinn   \n",
       "3    1092086702695419904        el innombrable  JuanCas08348575   \n",
       "4     992537502908080128                    M        KNKSMYJH13   \n",
       "..                   ...                   ...              ...   \n",
       "362            840987060                  ANNA          ANIESKR   \n",
       "363           3099560842                 Louis       MareBerths   \n",
       "364   715760098195423232  Alex Omar Giles Gonz      dralexgiles   \n",
       "365  1106712336486813696    TODO MUSICA ONLINE  TODOMUSICAONLI1   \n",
       "366             91943324         Marce Marelli        marcela41   \n",
       "\n",
       "                                             full_text  \\\n",
       "0    asi bares zona rosa autorizacion respetar sana...   \n",
       "1                            mama dice tiempo confirma   \n",
       "2                  10 segundos despues sabes mas enoja   \n",
       "3    robaron presidencia eluribismoserobolapresiden...   \n",
       "4    volkov quiere greco responsabilice forma casti...   \n",
       "..                                                 ...   \n",
       "362  populismo astuto criminal primero menosprecio ...   \n",
       "363            trabajas mejor bajo presion ( ajxiwmzoa   \n",
       "364                                     pasas internet   \n",
       "365  hoy celebramos cumple invierno020[]escuchanos ...   \n",
       "366                  tenes verguenza sos banda ladrone   \n",
       "\n",
       "                         location  \n",
       "0                                  \n",
       "1                       Nicaragua  \n",
       "2          Islas Canarias, Espana  \n",
       "3                                  \n",
       "4          Barranquilla, Colombia  \n",
       "..                            ...  \n",
       "362                                \n",
       "363                        Mexico  \n",
       "364  Queretaro, Queretaro Arteaga  \n",
       "365                     Argentina  \n",
       "366                     argentina  \n",
       "\n",
       "[367 rows x 5 columns]"
      ]
     },
     "execution_count": 7,
     "metadata": {},
     "output_type": "execute_result"
    }
   ],
   "source": [
    "pd_Neutro"
   ]
  },
  {
   "cell_type": "code",
   "execution_count": 8,
   "metadata": {},
   "outputs": [],
   "source": [
    "# Quitamos las columnas que no nos interesan\n",
    "list_ColumnasDrop = ['user_id', 'name','screen_name','location']\n",
    "\n",
    "pd_Apariencia=pd_Apariencia.drop(list_ColumnasDrop, axis=1)\n",
    "pd_Discapacidad=pd_Discapacidad.drop(list_ColumnasDrop, axis=1)\n",
    "pd_Edad=pd_Edad.drop(list_ColumnasDrop, axis=1)\n",
    "pd_Genero=pd_Genero.drop(list_ColumnasDrop, axis=1)\n",
    "pd_Ideologia=pd_Ideologia.drop(list_ColumnasDrop, axis=1)\n",
    "pd_Orientacion=pd_Orientacion.drop(list_ColumnasDrop, axis=1)\n",
    "pd_Religion=pd_Religion.drop(list_ColumnasDrop, axis=1)\n",
    "\n",
    "pd_Neutro=pd_Neutro.drop(list_ColumnasDrop, axis=1)"
   ]
  },
  {
   "cell_type": "code",
   "execution_count": 9,
   "metadata": {},
   "outputs": [
    {
     "data": {
      "text/html": [
       "<div>\n",
       "<style scoped>\n",
       "    .dataframe tbody tr th:only-of-type {\n",
       "        vertical-align: middle;\n",
       "    }\n",
       "\n",
       "    .dataframe tbody tr th {\n",
       "        vertical-align: top;\n",
       "    }\n",
       "\n",
       "    .dataframe thead th {\n",
       "        text-align: right;\n",
       "    }\n",
       "</style>\n",
       "<table border=\"1\" class=\"dataframe\">\n",
       "  <thead>\n",
       "    <tr style=\"text-align: right;\">\n",
       "      <th></th>\n",
       "      <th>full_text</th>\n",
       "    </tr>\n",
       "  </thead>\n",
       "  <tbody>\n",
       "    <tr>\n",
       "      <th>0</th>\n",
       "      <td>asi bares zona rosa autorizacion respetar sana...</td>\n",
       "    </tr>\n",
       "    <tr>\n",
       "      <th>1</th>\n",
       "      <td>mama dice tiempo confirma</td>\n",
       "    </tr>\n",
       "    <tr>\n",
       "      <th>2</th>\n",
       "      <td>10 segundos despues sabes mas enoja</td>\n",
       "    </tr>\n",
       "    <tr>\n",
       "      <th>3</th>\n",
       "      <td>robaron presidencia eluribismoserobolapresiden...</td>\n",
       "    </tr>\n",
       "    <tr>\n",
       "      <th>4</th>\n",
       "      <td>volkov quiere greco responsabilice forma casti...</td>\n",
       "    </tr>\n",
       "    <tr>\n",
       "      <th>...</th>\n",
       "      <td>...</td>\n",
       "    </tr>\n",
       "    <tr>\n",
       "      <th>362</th>\n",
       "      <td>populismo astuto criminal primero menosprecio ...</td>\n",
       "    </tr>\n",
       "    <tr>\n",
       "      <th>363</th>\n",
       "      <td>trabajas mejor bajo presion ( ajxiwmzoa</td>\n",
       "    </tr>\n",
       "    <tr>\n",
       "      <th>364</th>\n",
       "      <td>pasas internet</td>\n",
       "    </tr>\n",
       "    <tr>\n",
       "      <th>365</th>\n",
       "      <td>hoy celebramos cumple invierno020[]escuchanos ...</td>\n",
       "    </tr>\n",
       "    <tr>\n",
       "      <th>366</th>\n",
       "      <td>tenes verguenza sos banda ladrone</td>\n",
       "    </tr>\n",
       "  </tbody>\n",
       "</table>\n",
       "<p>367 rows × 1 columns</p>\n",
       "</div>"
      ],
      "text/plain": [
       "                                             full_text\n",
       "0    asi bares zona rosa autorizacion respetar sana...\n",
       "1                            mama dice tiempo confirma\n",
       "2                  10 segundos despues sabes mas enoja\n",
       "3    robaron presidencia eluribismoserobolapresiden...\n",
       "4    volkov quiere greco responsabilice forma casti...\n",
       "..                                                 ...\n",
       "362  populismo astuto criminal primero menosprecio ...\n",
       "363            trabajas mejor bajo presion ( ajxiwmzoa\n",
       "364                                     pasas internet\n",
       "365  hoy celebramos cumple invierno020[]escuchanos ...\n",
       "366                  tenes verguenza sos banda ladrone\n",
       "\n",
       "[367 rows x 1 columns]"
      ]
     },
     "execution_count": 9,
     "metadata": {},
     "output_type": "execute_result"
    }
   ],
   "source": [
    "pd_Neutro"
   ]
  },
  {
   "cell_type": "code",
   "execution_count": 10,
   "metadata": {},
   "outputs": [],
   "source": [
    "# Agregamos una columna con la categoría que corresponde a cada grupo de tweets\n",
    "\n",
    "pd_Apariencia['categoria'] = 'apariencia'\n",
    "pd_Discapacidad['categoria'] = 'discapacidad'\n",
    "pd_Edad['categoria'] = 'edad'\n",
    "pd_Genero['categoria'] = 'genero'\n",
    "pd_Ideologia['categoria'] = 'ideologia'\n",
    "pd_Orientacion['categoria'] = 'orientacion'\n",
    "pd_Religion['categoria'] = 'religion'\n",
    "\n",
    "pd_Neutro['categoria'] = 'neutro'"
   ]
  },
  {
   "cell_type": "code",
   "execution_count": 11,
   "metadata": {},
   "outputs": [
    {
     "data": {
      "text/html": [
       "<div>\n",
       "<style scoped>\n",
       "    .dataframe tbody tr th:only-of-type {\n",
       "        vertical-align: middle;\n",
       "    }\n",
       "\n",
       "    .dataframe tbody tr th {\n",
       "        vertical-align: top;\n",
       "    }\n",
       "\n",
       "    .dataframe thead th {\n",
       "        text-align: right;\n",
       "    }\n",
       "</style>\n",
       "<table border=\"1\" class=\"dataframe\">\n",
       "  <thead>\n",
       "    <tr style=\"text-align: right;\">\n",
       "      <th></th>\n",
       "      <th>full_text</th>\n",
       "      <th>categoria</th>\n",
       "    </tr>\n",
       "  </thead>\n",
       "  <tbody>\n",
       "    <tr>\n",
       "      <th>0</th>\n",
       "      <td>asi bares zona rosa autorizacion respetar sana...</td>\n",
       "      <td>neutro</td>\n",
       "    </tr>\n",
       "    <tr>\n",
       "      <th>1</th>\n",
       "      <td>mama dice tiempo confirma</td>\n",
       "      <td>neutro</td>\n",
       "    </tr>\n",
       "    <tr>\n",
       "      <th>2</th>\n",
       "      <td>10 segundos despues sabes mas enoja</td>\n",
       "      <td>neutro</td>\n",
       "    </tr>\n",
       "    <tr>\n",
       "      <th>3</th>\n",
       "      <td>robaron presidencia eluribismoserobolapresiden...</td>\n",
       "      <td>neutro</td>\n",
       "    </tr>\n",
       "    <tr>\n",
       "      <th>4</th>\n",
       "      <td>volkov quiere greco responsabilice forma casti...</td>\n",
       "      <td>neutro</td>\n",
       "    </tr>\n",
       "    <tr>\n",
       "      <th>...</th>\n",
       "      <td>...</td>\n",
       "      <td>...</td>\n",
       "    </tr>\n",
       "    <tr>\n",
       "      <th>362</th>\n",
       "      <td>populismo astuto criminal primero menosprecio ...</td>\n",
       "      <td>neutro</td>\n",
       "    </tr>\n",
       "    <tr>\n",
       "      <th>363</th>\n",
       "      <td>trabajas mejor bajo presion ( ajxiwmzoa</td>\n",
       "      <td>neutro</td>\n",
       "    </tr>\n",
       "    <tr>\n",
       "      <th>364</th>\n",
       "      <td>pasas internet</td>\n",
       "      <td>neutro</td>\n",
       "    </tr>\n",
       "    <tr>\n",
       "      <th>365</th>\n",
       "      <td>hoy celebramos cumple invierno020[]escuchanos ...</td>\n",
       "      <td>neutro</td>\n",
       "    </tr>\n",
       "    <tr>\n",
       "      <th>366</th>\n",
       "      <td>tenes verguenza sos banda ladrone</td>\n",
       "      <td>neutro</td>\n",
       "    </tr>\n",
       "  </tbody>\n",
       "</table>\n",
       "<p>367 rows × 2 columns</p>\n",
       "</div>"
      ],
      "text/plain": [
       "                                             full_text categoria\n",
       "0    asi bares zona rosa autorizacion respetar sana...    neutro\n",
       "1                            mama dice tiempo confirma    neutro\n",
       "2                  10 segundos despues sabes mas enoja    neutro\n",
       "3    robaron presidencia eluribismoserobolapresiden...    neutro\n",
       "4    volkov quiere greco responsabilice forma casti...    neutro\n",
       "..                                                 ...       ...\n",
       "362  populismo astuto criminal primero menosprecio ...    neutro\n",
       "363            trabajas mejor bajo presion ( ajxiwmzoa    neutro\n",
       "364                                     pasas internet    neutro\n",
       "365  hoy celebramos cumple invierno020[]escuchanos ...    neutro\n",
       "366                  tenes verguenza sos banda ladrone    neutro\n",
       "\n",
       "[367 rows x 2 columns]"
      ]
     },
     "execution_count": 11,
     "metadata": {},
     "output_type": "execute_result"
    }
   ],
   "source": [
    "pd_Neutro"
   ]
  },
  {
   "cell_type": "code",
   "execution_count": 12,
   "metadata": {},
   "outputs": [],
   "source": [
    "# Juntamos todos los dataset en uno solo\n",
    "pd_Todos = pd.DataFrame(columns=['full_text','categoria'])\n",
    "\n",
    "pd_Todos = pd_Todos.append(pd_Apariencia)\n",
    "pd_Todos = pd_Todos.append(pd_Discapacidad)\n",
    "pd_Todos = pd_Todos.append(pd_Edad)\n",
    "pd_Todos = pd_Todos.append(pd_Genero)\n",
    "pd_Todos = pd_Todos.append(pd_Ideologia)\n",
    "pd_Todos = pd_Todos.append(pd_Orientacion)\n",
    "pd_Todos = pd_Todos.append(pd_Religion)\n",
    "pd_Todos = pd_Todos.append(pd_Neutro)\n",
    "\n"
   ]
  },
  {
   "cell_type": "code",
   "execution_count": 13,
   "metadata": {},
   "outputs": [],
   "source": [
    "#pd_Todos.to_csv('muestra.csv')"
   ]
  },
  {
   "cell_type": "code",
   "execution_count": 14,
   "metadata": {},
   "outputs": [],
   "source": [
    "from sklearn.utils import shuffle\n",
    "pd_Todos = shuffle(pd_Todos)"
   ]
  },
  {
   "cell_type": "code",
   "execution_count": 15,
   "metadata": {},
   "outputs": [
    {
     "data": {
      "text/html": [
       "<div>\n",
       "<style scoped>\n",
       "    .dataframe tbody tr th:only-of-type {\n",
       "        vertical-align: middle;\n",
       "    }\n",
       "\n",
       "    .dataframe tbody tr th {\n",
       "        vertical-align: top;\n",
       "    }\n",
       "\n",
       "    .dataframe thead th {\n",
       "        text-align: right;\n",
       "    }\n",
       "</style>\n",
       "<table border=\"1\" class=\"dataframe\">\n",
       "  <thead>\n",
       "    <tr style=\"text-align: right;\">\n",
       "      <th></th>\n",
       "      <th>full_text</th>\n",
       "      <th>categoria</th>\n",
       "    </tr>\n",
       "  </thead>\n",
       "  <tbody>\n",
       "    <tr>\n",
       "      <th>98</th>\n",
       "      <td>siempre imbecil siempre inutil siempre inepto ...</td>\n",
       "      <td>apariencia</td>\n",
       "    </tr>\n",
       "    <tr>\n",
       "      <th>167</th>\n",
       "      <td>jajajajja nini</td>\n",
       "      <td>edad</td>\n",
       "    </tr>\n",
       "    <tr>\n",
       "      <th>180</th>\n",
       "      <td>playlist bien verga cojer cojo</td>\n",
       "      <td>discapacidad</td>\n",
       "    </tr>\n",
       "    <tr>\n",
       "      <th>76</th>\n",
       "      <td>dijo nini becas amlo</td>\n",
       "      <td>edad</td>\n",
       "    </tr>\n",
       "    <tr>\n",
       "      <th>91</th>\n",
       "      <td>jodido pueblo dana dejandolo empleo gracias ll...</td>\n",
       "      <td>apariencia</td>\n",
       "    </tr>\n",
       "    <tr>\n",
       "      <th>...</th>\n",
       "      <td>...</td>\n",
       "      <td>...</td>\n",
       "    </tr>\n",
       "    <tr>\n",
       "      <th>256</th>\n",
       "      <td>menos chingaron chumel shsss lastima juntes ti...</td>\n",
       "      <td>ideologia</td>\n",
       "    </tr>\n",
       "    <tr>\n",
       "      <th>44</th>\n",
       "      <td>deberias preguntarle derechairo-bots</td>\n",
       "      <td>ideologia</td>\n",
       "    </tr>\n",
       "    <tr>\n",
       "      <th>249</th>\n",
       "      <td>acaso suficiente dinero becas nini regalan sal...</td>\n",
       "      <td>edad</td>\n",
       "    </tr>\n",
       "    <tr>\n",
       "      <th>371</th>\n",
       "      <td>mueran papas abuelos contagiaron puto covid va...</td>\n",
       "      <td>orientacion</td>\n",
       "    </tr>\n",
       "    <tr>\n",
       "      <th>337</th>\n",
       "      <td>elcacas tantititita madre rencor complejos rev...</td>\n",
       "      <td>discapacidad</td>\n",
       "    </tr>\n",
       "  </tbody>\n",
       "</table>\n",
       "<p>2992 rows × 2 columns</p>\n",
       "</div>"
      ],
      "text/plain": [
       "                                             full_text     categoria\n",
       "98   siempre imbecil siempre inutil siempre inepto ...    apariencia\n",
       "167                                     jajajajja nini          edad\n",
       "180                     playlist bien verga cojer cojo  discapacidad\n",
       "76                                dijo nini becas amlo          edad\n",
       "91   jodido pueblo dana dejandolo empleo gracias ll...    apariencia\n",
       "..                                                 ...           ...\n",
       "256  menos chingaron chumel shsss lastima juntes ti...     ideologia\n",
       "44                deberias preguntarle derechairo-bots     ideologia\n",
       "249  acaso suficiente dinero becas nini regalan sal...          edad\n",
       "371  mueran papas abuelos contagiaron puto covid va...   orientacion\n",
       "337  elcacas tantititita madre rencor complejos rev...  discapacidad\n",
       "\n",
       "[2992 rows x 2 columns]"
      ]
     },
     "execution_count": 15,
     "metadata": {},
     "output_type": "execute_result"
    }
   ],
   "source": [
    "pd_Todos"
   ]
  },
  {
   "cell_type": "code",
   "execution_count": 16,
   "metadata": {},
   "outputs": [],
   "source": [
    "from sklearn.model_selection import train_test_split\n",
    "\n",
    "train, test = train_test_split(pd_Todos, test_size=0.2)"
   ]
  },
  {
   "cell_type": "code",
   "execution_count": 17,
   "metadata": {},
   "outputs": [
    {
     "name": "stderr",
     "output_type": "stream",
     "text": [
      "/home/jupyter-ronmoy007@gmail.co-0e856/.local/lib/python3.7/site-packages/sklearn/linear_model/_stochastic_gradient.py:573: ConvergenceWarning: Maximum number of iteration reached before convergence. Consider increasing max_iter to improve the fit.\n",
      "  ConvergenceWarning)\n"
     ]
    },
    {
     "data": {
      "text/plain": [
       "0.9131886477462438"
      ]
     },
     "execution_count": 17,
     "metadata": {},
     "output_type": "execute_result"
    }
   ],
   "source": [
    "# Training Support Vector Machines - SVM and calculating its performance\n",
    "import numpy as np\n",
    "from sklearn.pipeline import Pipeline\n",
    "from sklearn.feature_extraction.text import CountVectorizer\n",
    "from sklearn.linear_model import SGDClassifier\n",
    "from sklearn.feature_extraction.text import TfidfTransformer\n",
    "text_clf_svm = Pipeline([('vect', CountVectorizer()), ('tfidf', TfidfTransformer()),\n",
    "                         ('clf-svm', SGDClassifier(loss='hinge', penalty='l2',alpha=1e-3, max_iter=5, random_state=42))])\n",
    "\n",
    "text_clf_svm = text_clf_svm.fit(train.full_text, train.categoria)\n",
    "predicted_svm = text_clf_svm.predict(test.full_text)\n",
    "np.mean(predicted_svm == test.categoria)"
   ]
  },
  {
   "cell_type": "code",
   "execution_count": 18,
   "metadata": {},
   "outputs": [
    {
     "data": {
      "text/plain": [
       "array(['orientacion'], dtype='<U12')"
      ]
     },
     "execution_count": 18,
     "metadata": {},
     "output_type": "execute_result"
    }
   ],
   "source": [
    "predicted_svm = text_clf_svm.predict(['Ese compa es un maricon'])\n",
    "predicted_svm"
   ]
  },
  {
   "cell_type": "code",
   "execution_count": 19,
   "metadata": {},
   "outputs": [
    {
     "data": {
      "text/plain": [
       "array(['edad'], dtype='<U12')"
      ]
     },
     "execution_count": 19,
     "metadata": {},
     "output_type": "execute_result"
    }
   ],
   "source": [
    "predicted_svm = text_clf_svm.predict(['Eres muy joven para entenderlo'])\n",
    "predicted_svm"
   ]
  },
  {
   "cell_type": "code",
   "execution_count": 20,
   "metadata": {},
   "outputs": [
    {
     "data": {
      "text/plain": [
       "array(['neutro'], dtype='<U12')"
      ]
     },
     "execution_count": 20,
     "metadata": {},
     "output_type": "execute_result"
    }
   ],
   "source": [
    "predicted_svm = text_clf_svm.predict(['Hoy es un día muy bonito'])\n",
    "predicted_svm"
   ]
  },
  {
   "cell_type": "code",
   "execution_count": 21,
   "metadata": {},
   "outputs": [
    {
     "data": {
      "text/plain": [
       "array(['neutro'], dtype='<U12')"
      ]
     },
     "execution_count": 21,
     "metadata": {},
     "output_type": "execute_result"
    }
   ],
   "source": [
    "predicted_svm = text_clf_svm.predict(['Eres gordo'])\n",
    "predicted_svm"
   ]
  },
  {
   "cell_type": "code",
   "execution_count": 22,
   "metadata": {},
   "outputs": [
    {
     "data": {
      "text/plain": [
       "array(['discapacidad'], dtype='<U12')"
      ]
     },
     "execution_count": 22,
     "metadata": {},
     "output_type": "execute_result"
    }
   ],
   "source": [
    "predicted_svm = text_clf_svm.predict(['cojo rico'])\n",
    "predicted_svm"
   ]
  },
  {
   "cell_type": "code",
   "execution_count": 23,
   "metadata": {},
   "outputs": [],
   "source": [
    " #################################### Propuesta con Embeddings ####################################"
   ]
  },
  {
   "cell_type": "code",
   "execution_count": 24,
   "metadata": {},
   "outputs": [
    {
     "data": {
      "text/plain": [
       "(2393, 96)"
      ]
     },
     "execution_count": 24,
     "metadata": {},
     "output_type": "execute_result"
    }
   ],
   "source": [
    "import spacy\n",
    "import numpy as np\n",
    "\n",
    "# Load the spacy model that you have installed\n",
    "nlp = spacy.load('es_core_news_sm')\n",
    "\n",
    "npEmbeddings = np.empty([0, 96])\n",
    "\n",
    "for texto in train['full_text']:\n",
    "    \n",
    "    #print(texto)\n",
    "    \n",
    "    # process a sentence using the model\n",
    "    doc = nlp(texto)\n",
    "    \n",
    "    # print(doc.vector.shape)\n",
    "    if doc.vector.shape[0]==96:\n",
    "        npEmbeddings = np.append(npEmbeddings, [doc.vector], axis = 0)\n",
    "    else:\n",
    "        npAux = np.empty([1, 96])\n",
    "        npEmbeddings = np.append(npEmbeddings, npAux, axis = 0)\n",
    "\n",
    "npEmbeddings.shape"
   ]
  },
  {
   "cell_type": "code",
   "execution_count": 25,
   "metadata": {},
   "outputs": [
    {
     "name": "stderr",
     "output_type": "stream",
     "text": [
      "/home/jupyter-ronmoy007@gmail.co-0e856/.local/lib/python3.7/site-packages/sklearn/linear_model/_stochastic_gradient.py:573: ConvergenceWarning: Maximum number of iteration reached before convergence. Consider increasing max_iter to improve the fit.\n",
      "  ConvergenceWarning)\n"
     ]
    },
    {
     "data": {
      "text/plain": [
       "SGDClassifier(alpha=0.001, max_iter=5, random_state=42)"
      ]
     },
     "execution_count": 25,
     "metadata": {},
     "output_type": "execute_result"
    }
   ],
   "source": [
    "from sklearn.linear_model import SGDClassifier\n",
    "clf = SGDClassifier(loss='hinge', penalty='l2',alpha=1e-3, max_iter=5, random_state=42).fit(npEmbeddings, train.categoria)\n",
    "clf"
   ]
  },
  {
   "cell_type": "code",
   "execution_count": 26,
   "metadata": {},
   "outputs": [
    {
     "data": {
      "text/plain": [
       "(599, 96)"
      ]
     },
     "execution_count": 26,
     "metadata": {},
     "output_type": "execute_result"
    }
   ],
   "source": [
    "npEmbeddings = np.empty([0, 96])\n",
    "for texto in test['full_text']:\n",
    "    \n",
    "    #print(frase)\n",
    "    \n",
    "    # process a sentence using the model\n",
    "    doc = nlp(texto)\n",
    "    \n",
    "    # print(doc.vector.shape)\n",
    "    #print(npEmbeddings.shape)\n",
    "    #print(doc.vector.shape)\n",
    "    \n",
    "    if doc.vector.shape[0]==96:\n",
    "        npEmbeddings = np.append(npEmbeddings, [doc.vector], axis = 0)\n",
    "    else:\n",
    "        npAux = np.empty([1, 96])\n",
    "        doc = nlp('prueba')\n",
    "        #npEmbeddings = np.append(npEmbeddings, npAux, axis = 0)\n",
    "        npEmbeddings = np.append(npEmbeddings, [doc.vector], axis = 0)\n",
    "        predicted_svm = clf.predict([doc.vector])\n",
    "        \n",
    "npEmbeddings.shape"
   ]
  },
  {
   "cell_type": "code",
   "execution_count": 27,
   "metadata": {},
   "outputs": [
    {
     "data": {
      "text/plain": [
       "0.6494156928213689"
      ]
     },
     "execution_count": 27,
     "metadata": {},
     "output_type": "execute_result"
    }
   ],
   "source": [
    "predicted_svm = clf.predict(npEmbeddings)\n",
    "np.mean(predicted_svm == test.categoria)"
   ]
  },
  {
   "cell_type": "code",
   "execution_count": 28,
   "metadata": {},
   "outputs": [
    {
     "data": {
      "text/plain": [
       "array(['discapacidad'], dtype='<U12')"
      ]
     },
     "execution_count": 28,
     "metadata": {},
     "output_type": "execute_result"
    }
   ],
   "source": [
    "npAux = nlp('Ese compa es un maricon').vector\n",
    "predicted_svm = clf.predict([npAux])\n",
    "predicted_svm"
   ]
  },
  {
   "cell_type": "code",
   "execution_count": 29,
   "metadata": {},
   "outputs": [
    {
     "data": {
      "text/plain": [
       "array(['religion'], dtype='<U12')"
      ]
     },
     "execution_count": 29,
     "metadata": {},
     "output_type": "execute_result"
    }
   ],
   "source": [
    "npAux = nlp('Eres muy joven para entenderlo').vector\n",
    "predicted_svm = clf.predict([npAux])\n",
    "predicted_svm"
   ]
  },
  {
   "cell_type": "code",
   "execution_count": 30,
   "metadata": {},
   "outputs": [
    {
     "data": {
      "text/plain": [
       "array(['discapacidad'], dtype='<U12')"
      ]
     },
     "execution_count": 30,
     "metadata": {},
     "output_type": "execute_result"
    }
   ],
   "source": [
    "npAux = nlp('Hoy es un día muy bonito').vector\n",
    "predicted_svm = clf.predict([npAux])\n",
    "predicted_svm"
   ]
  },
  {
   "cell_type": "code",
   "execution_count": 31,
   "metadata": {},
   "outputs": [
    {
     "data": {
      "text/plain": [
       "array(['neutro'], dtype='<U12')"
      ]
     },
     "execution_count": 31,
     "metadata": {},
     "output_type": "execute_result"
    }
   ],
   "source": [
    "npAux = nlp('Eres gordo').vector\n",
    "predicted_svm = clf.predict([npAux])\n",
    "predicted_svm"
   ]
  },
  {
   "cell_type": "code",
   "execution_count": 32,
   "metadata": {},
   "outputs": [
    {
     "data": {
      "text/plain": [
       "array(['discapacidad'], dtype='<U12')"
      ]
     },
     "execution_count": 32,
     "metadata": {},
     "output_type": "execute_result"
    }
   ],
   "source": [
    "npAux = nlp('Cojo rico').vector\n",
    "predicted_svm = clf.predict([npAux])\n",
    "predicted_svm"
   ]
  },
  {
   "cell_type": "code",
   "execution_count": null,
   "metadata": {},
   "outputs": [],
   "source": []
  }
 ],
 "metadata": {
  "kernelspec": {
   "display_name": "Python 3",
   "language": "python",
   "name": "python3"
  },
  "language_info": {
   "codemirror_mode": {
    "name": "ipython",
    "version": 3
   },
   "file_extension": ".py",
   "mimetype": "text/x-python",
   "name": "python",
   "nbconvert_exporter": "python",
   "pygments_lexer": "ipython3",
   "version": "3.7.6"
  }
 },
 "nbformat": 4,
 "nbformat_minor": 4
}
