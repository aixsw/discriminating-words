{
 "cells": [
  {
   "cell_type": "markdown",
   "metadata": {},
   "source": [
    "## Script para balancear los data sets de entrenamiento"
   ]
  },
  {
   "cell_type": "code",
   "execution_count": 1,
   "metadata": {},
   "outputs": [],
   "source": [
    "import pandas as pd\n",
    "\n",
    "bases = ['tweets_entrenamiento_apariencia',\n",
    "         'tweets_entrenamiento_discapacidad',\n",
    "         'tweets_entrenamiento_edad',\n",
    "         'tweets_entrenamiento_genero',\n",
    "         'tweets_entrenamiento_ideologia',\n",
    "         'tweets_entrenamiento_orientacion',\n",
    "         'tweets_entrenamiento_religion']\n",
    "for base in bases : \n",
    "    lectura = '../datos/entrenamiento_modelos_categorias/' + base + '.csv'\n",
    "    guardado = '../datos/entrenamiento_modelos_categorias/' + base +'_balance.csv'\n",
    "    \n",
    "    data = pd.read_csv(lectura)\n",
    "    num_etiquetas = data.groupby('label').count()[['full_text']].iloc[1].values[0]\n",
    "    num_etiquetas = num_etiquetas*3\n",
    "    data_ceros =  data[data['label']==0]\n",
    "    data_ceros = data_ceros.sample(frac=1).reset_index(drop=True)\n",
    "    data_ceros = data_ceros.iloc[0:num_etiquetas]\n",
    "    data_uno = data[data['label']==1]\n",
    "    data_balance = data_uno.append(data_ceros)\n",
    "    data_balance.to_csv(guardado)\n"
   ]
  }
 ],
 "metadata": {
  "kernelspec": {
   "display_name": "Python 3",
   "language": "python",
   "name": "python3"
  },
  "language_info": {
   "codemirror_mode": {
    "name": "ipython",
    "version": 3
   },
   "file_extension": ".py",
   "mimetype": "text/x-python",
   "name": "python",
   "nbconvert_exporter": "python",
   "pygments_lexer": "ipython3",
   "version": "3.7.6"
  }
 },
 "nbformat": 4,
 "nbformat_minor": 4
}
