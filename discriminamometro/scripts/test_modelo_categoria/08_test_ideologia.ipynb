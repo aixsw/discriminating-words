{
 "cells": [
  {
   "cell_type": "code",
   "execution_count": 1,
   "metadata": {},
   "outputs": [],
   "source": [
    "import spacy\n",
    "import numpy as np\n",
    "import pandas as pd\n",
    "from sklearn.metrics import confusion_matrix\n",
    "from sklearn.model_selection import train_test_split\n",
    "from sklearn import metrics\n",
    "from matplotlib import pyplot as plt\n",
    "nlp = spacy.load('./data/embeddings_disc/')"
   ]
  },
  {
   "cell_type": "code",
   "execution_count": 2,
   "metadata": {},
   "outputs": [],
   "source": [
    "categoria = 'ideologia'"
   ]
  },
  {
   "cell_type": "code",
   "execution_count": 3,
   "metadata": {},
   "outputs": [],
   "source": [
    "lectura = '../datos/entrenamiento_modelos_categorias/tweets_entrenamiento_' + categoria + '_balance.csv'\n",
    "data = pd.read_csv(lectura)"
   ]
  },
  {
   "cell_type": "code",
   "execution_count": 4,
   "metadata": {},
   "outputs": [
    {
     "data": {
      "text/html": [
       "<div>\n",
       "<style scoped>\n",
       "    .dataframe tbody tr th:only-of-type {\n",
       "        vertical-align: middle;\n",
       "    }\n",
       "\n",
       "    .dataframe tbody tr th {\n",
       "        vertical-align: top;\n",
       "    }\n",
       "\n",
       "    .dataframe thead th {\n",
       "        text-align: right;\n",
       "    }\n",
       "</style>\n",
       "<table border=\"1\" class=\"dataframe\">\n",
       "  <thead>\n",
       "    <tr style=\"text-align: right;\">\n",
       "      <th></th>\n",
       "      <th>Unnamed: 0</th>\n",
       "      <th>Unnamed: 0.1</th>\n",
       "      <th>full_text</th>\n",
       "      <th>categoria_1-ap</th>\n",
       "      <th>categoria_2-dis</th>\n",
       "      <th>categoria_3-ed</th>\n",
       "      <th>categoria_4-gen</th>\n",
       "      <th>label</th>\n",
       "      <th>categoria_6-or</th>\n",
       "      <th>categoria_7-rel</th>\n",
       "    </tr>\n",
       "  </thead>\n",
       "  <tbody>\n",
       "    <tr>\n",
       "      <th>0</th>\n",
       "      <td>221790</td>\n",
       "      <td>222800</td>\n",
       "      <td>logro desbloqueado llamaron whitemexican ayer ...</td>\n",
       "      <td>0</td>\n",
       "      <td>0</td>\n",
       "      <td>0</td>\n",
       "      <td>0</td>\n",
       "      <td>1</td>\n",
       "      <td>0</td>\n",
       "      <td>0</td>\n",
       "    </tr>\n",
       "    <tr>\n",
       "      <th>1</th>\n",
       "      <td>221791</td>\n",
       "      <td>222801</td>\n",
       "      <td>chairo paralelo senor mejor destrozos economia...</td>\n",
       "      <td>0</td>\n",
       "      <td>0</td>\n",
       "      <td>0</td>\n",
       "      <td>0</td>\n",
       "      <td>1</td>\n",
       "      <td>0</td>\n",
       "      <td>0</td>\n",
       "    </tr>\n",
       "    <tr>\n",
       "      <th>2</th>\n",
       "      <td>221792</td>\n",
       "      <td>222802</td>\n",
       "      <td>puede decir chairo identidad simple - mexicano...</td>\n",
       "      <td>0</td>\n",
       "      <td>0</td>\n",
       "      <td>0</td>\n",
       "      <td>0</td>\n",
       "      <td>1</td>\n",
       "      <td>0</td>\n",
       "      <td>0</td>\n",
       "    </tr>\n",
       "    <tr>\n",
       "      <th>3</th>\n",
       "      <td>221793</td>\n",
       "      <td>222803</td>\n",
       "      <td>breve fallaste ser humano sino emputar chairo</td>\n",
       "      <td>0</td>\n",
       "      <td>0</td>\n",
       "      <td>0</td>\n",
       "      <td>0</td>\n",
       "      <td>1</td>\n",
       "      <td>0</td>\n",
       "      <td>0</td>\n",
       "    </tr>\n",
       "    <tr>\n",
       "      <th>4</th>\n",
       "      <td>221794</td>\n",
       "      <td>222804</td>\n",
       "      <td>pasaste trafico perderan 2 dir qro mexicoquere...</td>\n",
       "      <td>0</td>\n",
       "      <td>0</td>\n",
       "      <td>0</td>\n",
       "      <td>0</td>\n",
       "      <td>1</td>\n",
       "      <td>0</td>\n",
       "      <td>0</td>\n",
       "    </tr>\n",
       "    <tr>\n",
       "      <th>...</th>\n",
       "      <td>...</td>\n",
       "      <td>...</td>\n",
       "      <td>...</td>\n",
       "      <td>...</td>\n",
       "      <td>...</td>\n",
       "      <td>...</td>\n",
       "      <td>...</td>\n",
       "      <td>...</td>\n",
       "      <td>...</td>\n",
       "      <td>...</td>\n",
       "    </tr>\n",
       "    <tr>\n",
       "      <th>115523</th>\n",
       "      <td>86641</td>\n",
       "      <td>202023</td>\n",
       "      <td>puta</td>\n",
       "      <td>0</td>\n",
       "      <td>0</td>\n",
       "      <td>0</td>\n",
       "      <td>1</td>\n",
       "      <td>0</td>\n",
       "      <td>0</td>\n",
       "      <td>0</td>\n",
       "    </tr>\n",
       "    <tr>\n",
       "      <th>115524</th>\n",
       "      <td>86642</td>\n",
       "      <td>266933</td>\n",
       "      <td>*nota tuit palabra usada hacer referencia coba...</td>\n",
       "      <td>0</td>\n",
       "      <td>0</td>\n",
       "      <td>0</td>\n",
       "      <td>0</td>\n",
       "      <td>0</td>\n",
       "      <td>1</td>\n",
       "      <td>0</td>\n",
       "    </tr>\n",
       "    <tr>\n",
       "      <th>115525</th>\n",
       "      <td>86643</td>\n",
       "      <td>105415</td>\n",
       "      <td>chairos tendencia moda puta lombriz lentejuela...</td>\n",
       "      <td>0</td>\n",
       "      <td>0</td>\n",
       "      <td>0</td>\n",
       "      <td>1</td>\n",
       "      <td>0</td>\n",
       "      <td>0</td>\n",
       "      <td>0</td>\n",
       "    </tr>\n",
       "    <tr>\n",
       "      <th>115526</th>\n",
       "      <td>86644</td>\n",
       "      <td>392512</td>\n",
       "      <td>gente lleva ahuevada jajajaja senora adelante ...</td>\n",
       "      <td>0</td>\n",
       "      <td>0</td>\n",
       "      <td>0</td>\n",
       "      <td>0</td>\n",
       "      <td>0</td>\n",
       "      <td>0</td>\n",
       "      <td>0</td>\n",
       "    </tr>\n",
       "    <tr>\n",
       "      <th>115527</th>\n",
       "      <td>86645</td>\n",
       "      <td>704917</td>\n",
       "      <td>templada pretende ingrata ofende facil</td>\n",
       "      <td>0</td>\n",
       "      <td>0</td>\n",
       "      <td>0</td>\n",
       "      <td>0</td>\n",
       "      <td>0</td>\n",
       "      <td>0</td>\n",
       "      <td>0</td>\n",
       "    </tr>\n",
       "  </tbody>\n",
       "</table>\n",
       "<p>115528 rows × 10 columns</p>\n",
       "</div>"
      ],
      "text/plain": [
       "        Unnamed: 0  Unnamed: 0.1  \\\n",
       "0           221790        222800   \n",
       "1           221791        222801   \n",
       "2           221792        222802   \n",
       "3           221793        222803   \n",
       "4           221794        222804   \n",
       "...            ...           ...   \n",
       "115523       86641        202023   \n",
       "115524       86642        266933   \n",
       "115525       86643        105415   \n",
       "115526       86644        392512   \n",
       "115527       86645        704917   \n",
       "\n",
       "                                                full_text  categoria_1-ap  \\\n",
       "0       logro desbloqueado llamaron whitemexican ayer ...               0   \n",
       "1       chairo paralelo senor mejor destrozos economia...               0   \n",
       "2       puede decir chairo identidad simple - mexicano...               0   \n",
       "3           breve fallaste ser humano sino emputar chairo               0   \n",
       "4       pasaste trafico perderan 2 dir qro mexicoquere...               0   \n",
       "...                                                   ...             ...   \n",
       "115523                                               puta               0   \n",
       "115524  *nota tuit palabra usada hacer referencia coba...               0   \n",
       "115525  chairos tendencia moda puta lombriz lentejuela...               0   \n",
       "115526  gente lleva ahuevada jajajaja senora adelante ...               0   \n",
       "115527             templada pretende ingrata ofende facil               0   \n",
       "\n",
       "        categoria_2-dis  categoria_3-ed  categoria_4-gen  label  \\\n",
       "0                     0               0                0      1   \n",
       "1                     0               0                0      1   \n",
       "2                     0               0                0      1   \n",
       "3                     0               0                0      1   \n",
       "4                     0               0                0      1   \n",
       "...                 ...             ...              ...    ...   \n",
       "115523                0               0                1      0   \n",
       "115524                0               0                0      0   \n",
       "115525                0               0                1      0   \n",
       "115526                0               0                0      0   \n",
       "115527                0               0                0      0   \n",
       "\n",
       "        categoria_6-or  categoria_7-rel  \n",
       "0                    0                0  \n",
       "1                    0                0  \n",
       "2                    0                0  \n",
       "3                    0                0  \n",
       "4                    0                0  \n",
       "...                ...              ...  \n",
       "115523               0                0  \n",
       "115524               1                0  \n",
       "115525               0                0  \n",
       "115526               0                0  \n",
       "115527               0                0  \n",
       "\n",
       "[115528 rows x 10 columns]"
      ]
     },
     "execution_count": 4,
     "metadata": {},
     "output_type": "execute_result"
    }
   ],
   "source": [
    "data"
   ]
  },
  {
   "cell_type": "code",
   "execution_count": 5,
   "metadata": {},
   "outputs": [],
   "source": [
    "train, test = train_test_split(data, test_size=0.2,random_state = 202008)"
   ]
  },
  {
   "cell_type": "code",
   "execution_count": 6,
   "metadata": {},
   "outputs": [
    {
     "data": {
      "text/plain": [
       "(23106, 300)"
      ]
     },
     "execution_count": 6,
     "metadata": {},
     "output_type": "execute_result"
    }
   ],
   "source": [
    "npEmbeddings2 = np.empty([0, 300])\n",
    "for texto in test['full_text']:\n",
    "    \n",
    "    #print(frase)\n",
    "    \n",
    "    # process a sentence using the model\n",
    "    doc = nlp(texto)\n",
    "    \n",
    "    # print(doc.vector.shape)\n",
    "    #print(npEmbeddings.shape)\n",
    "    #print(doc.vector.shape)\n",
    "    \n",
    "    if doc.vector.shape[0]==300:\n",
    "        npEmbeddings2 = np.append(npEmbeddings2, [doc.vector], axis = 0)\n",
    "    else:\n",
    "        npAux = np.empty([1, 300])\n",
    "        doc = nlp('prueba')\n",
    "        #npEmbeddings = np.append(npEmbeddings, npAux, axis = 0)\n",
    "        npEmbeddings2 = np.append(npEmbeddings2, [doc.vector], axis = 0)\n",
    "        predicted_svm = clf.predict([doc.vector])\n",
    "        \n",
    "npEmbeddings2.shape"
   ]
  },
  {
   "cell_type": "code",
   "execution_count": 7,
   "metadata": {},
   "outputs": [],
   "source": [
    "import pickle as pickle\n",
    "\n",
    "carga_modelo = '../modelos/modelo_capa2_' + categoria +'.p'\n",
    "pickleFile = open(carga_modelo, 'rb')\n",
    "best_model = pickle.load(pickleFile)\n",
    "pickleFile.close()"
   ]
  },
  {
   "cell_type": "code",
   "execution_count": 8,
   "metadata": {},
   "outputs": [],
   "source": [
    "y_probas = best_model.predict_proba(npEmbeddings2)\n",
    "y_true = test['label']\n",
    "y_prob = pd.DataFrame(y_probas)\n",
    "y_prob.columns = [\"cero\",\"uno\"]\n",
    "y_prob = y_prob[\"uno\"] "
   ]
  },
  {
   "cell_type": "code",
   "execution_count": 9,
   "metadata": {},
   "outputs": [
    {
     "data": {
      "text/plain": [
       "array([[17078,   269],\n",
       "       [ 1212,  4547]])"
      ]
     },
     "execution_count": 9,
     "metadata": {},
     "output_type": "execute_result"
    }
   ],
   "source": [
    "y_prob = best_model.predict(npEmbeddings2)\n",
    "confusion_matrix(y_true, y_prob)"
   ]
  },
  {
   "cell_type": "code",
   "execution_count": 10,
   "metadata": {},
   "outputs": [
    {
     "data": {
      "image/png": "[encoded data removed]",
      "text/plain": [
       "<Figure size 432x288 with 1 Axes>"
      ]
     },
     "metadata": {},
     "output_type": "display_data"
    }
   ],
   "source": [
    "#Definimos la funcion que graficará la ROC\n",
    "def plot_ROC(test_labels, test_predictions):\n",
    "    fpr, tpr, thresholds = metrics.roc_curve(test_labels, \n",
    "                                             test_predictions, pos_label=1)\n",
    "    auc = \"%.2f\" % metrics.auc(fpr, tpr)\n",
    "    title = 'ROC Curve, AUC = '+str(auc)\n",
    "    with plt.style.context(('seaborn-whitegrid')):\n",
    "        fig, ax = plt.subplots()\n",
    "        ax.plot(fpr, tpr, \"#000099\", label='ROC curve')\n",
    "        ax.plot([0, 1], [0, 1], 'k--', label='Baseline')\n",
    "        plt.xlim([0.0, 1.0])\n",
    "        plt.ylim([0.0, 1.05])\n",
    "        plt.xlabel('False Positive Rate')\n",
    "        plt.ylabel('True Positive Rate')\n",
    "        plt.legend(loc='lower right')\n",
    "        plt.title(title)\n",
    "    return  \n",
    "plot_ROC(y_true, y_prob) "
   ]
  },
  {
   "cell_type": "code",
   "execution_count": 11,
   "metadata": {},
   "outputs": [
    {
     "data": {
      "text/plain": [
       "0.8599527186761229"
      ]
     },
     "execution_count": 11,
     "metadata": {},
     "output_type": "execute_result"
    }
   ],
   "source": [
    "metrics.f1_score(y_true, y_prob)"
   ]
  },
  {
   "cell_type": "code",
   "execution_count": 12,
   "metadata": {},
   "outputs": [
    {
     "data": {
      "text/plain": [
       "0.7895467963188053"
      ]
     },
     "execution_count": 12,
     "metadata": {},
     "output_type": "execute_result"
    }
   ],
   "source": [
    "metrics.recall_score(y_true, y_prob)"
   ]
  },
  {
   "cell_type": "code",
   "execution_count": null,
   "metadata": {},
   "outputs": [],
   "source": []
  }
 ],
 "metadata": {
  "kernelspec": {
   "display_name": "Python 3",
   "language": "python",
   "name": "python3"
  },
  "language_info": {
   "codemirror_mode": {
    "name": "ipython",
    "version": 3
   },
   "file_extension": ".py",
   "mimetype": "text/x-python",
   "name": "python",
   "nbconvert_exporter": "python",
   "pygments_lexer": "ipython3",
   "version": "3.7.6"
  }
 },
 "nbformat": 4,
 "nbformat_minor": 4
}
