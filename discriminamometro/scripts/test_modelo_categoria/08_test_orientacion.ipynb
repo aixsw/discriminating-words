{
 "cells": [
  {
   "cell_type": "code",
   "execution_count": 1,
   "metadata": {},
   "outputs": [],
   "source": [
    "import spacy\n",
    "import numpy as np\n",
    "import pandas as pd\n",
    "from sklearn.metrics import confusion_matrix\n",
    "from sklearn.model_selection import train_test_split\n",
    "from sklearn import metrics\n",
    "from matplotlib import pyplot as plt\n",
    "nlp = spacy.load('./data/embeddings_disc/')"
   ]
  },
  {
   "cell_type": "code",
   "execution_count": 2,
   "metadata": {},
   "outputs": [],
   "source": [
    "categoria = 'orientacion'"
   ]
  },
  {
   "cell_type": "code",
   "execution_count": 3,
   "metadata": {},
   "outputs": [],
   "source": [
    "lectura = '../datos/entrenamiento_modelos_categorias/tweets_entrenamiento_' + categoria + '_balance.csv'\n",
    "data = pd.read_csv(lectura)"
   ]
  },
  {
   "cell_type": "code",
   "execution_count": 4,
   "metadata": {},
   "outputs": [
    {
     "data": {
      "text/html": [
       "<div>\n",
       "<style scoped>\n",
       "    .dataframe tbody tr th:only-of-type {\n",
       "        vertical-align: middle;\n",
       "    }\n",
       "\n",
       "    .dataframe tbody tr th {\n",
       "        vertical-align: top;\n",
       "    }\n",
       "\n",
       "    .dataframe thead th {\n",
       "        text-align: right;\n",
       "    }\n",
       "</style>\n",
       "<table border=\"1\" class=\"dataframe\">\n",
       "  <thead>\n",
       "    <tr style=\"text-align: right;\">\n",
       "      <th></th>\n",
       "      <th>Unnamed: 0</th>\n",
       "      <th>Unnamed: 0.1</th>\n",
       "      <th>full_text</th>\n",
       "      <th>categoria_1-ap</th>\n",
       "      <th>categoria_2-dis</th>\n",
       "      <th>categoria_3-ed</th>\n",
       "      <th>categoria_4-gen</th>\n",
       "      <th>categoria_5-id</th>\n",
       "      <th>label</th>\n",
       "      <th>categoria_7-rel</th>\n",
       "    </tr>\n",
       "  </thead>\n",
       "  <tbody>\n",
       "    <tr>\n",
       "      <th>0</th>\n",
       "      <td>250672</td>\n",
       "      <td>251798</td>\n",
       "      <td>maricon ultimos 100 pendejo</td>\n",
       "      <td>0</td>\n",
       "      <td>0</td>\n",
       "      <td>0</td>\n",
       "      <td>0</td>\n",
       "      <td>0</td>\n",
       "      <td>1</td>\n",
       "      <td>0</td>\n",
       "    </tr>\n",
       "    <tr>\n",
       "      <th>1</th>\n",
       "      <td>250673</td>\n",
       "      <td>251799</td>\n",
       "      <td>fico puto</td>\n",
       "      <td>0</td>\n",
       "      <td>0</td>\n",
       "      <td>0</td>\n",
       "      <td>0</td>\n",
       "      <td>0</td>\n",
       "      <td>1</td>\n",
       "      <td>0</td>\n",
       "    </tr>\n",
       "    <tr>\n",
       "      <th>2</th>\n",
       "      <td>250674</td>\n",
       "      <td>251800</td>\n",
       "      <td>puto usted messi saquense chingar puta</td>\n",
       "      <td>0</td>\n",
       "      <td>0</td>\n",
       "      <td>0</td>\n",
       "      <td>0</td>\n",
       "      <td>0</td>\n",
       "      <td>1</td>\n",
       "      <td>0</td>\n",
       "    </tr>\n",
       "    <tr>\n",
       "      <th>3</th>\n",
       "      <td>250675</td>\n",
       "      <td>251801</td>\n",
       "      <td>duermete puto deja chingando</td>\n",
       "      <td>0</td>\n",
       "      <td>0</td>\n",
       "      <td>0</td>\n",
       "      <td>0</td>\n",
       "      <td>0</td>\n",
       "      <td>1</td>\n",
       "      <td>0</td>\n",
       "    </tr>\n",
       "    <tr>\n",
       "      <th>4</th>\n",
       "      <td>250676</td>\n",
       "      <td>251802</td>\n",
       "      <td>prender ir cine lastimosamente cines cerrados ...</td>\n",
       "      <td>0</td>\n",
       "      <td>0</td>\n",
       "      <td>0</td>\n",
       "      <td>0</td>\n",
       "      <td>0</td>\n",
       "      <td>1</td>\n",
       "      <td>0</td>\n",
       "    </tr>\n",
       "    <tr>\n",
       "      <th>...</th>\n",
       "      <td>...</td>\n",
       "      <td>...</td>\n",
       "      <td>...</td>\n",
       "      <td>...</td>\n",
       "      <td>...</td>\n",
       "      <td>...</td>\n",
       "      <td>...</td>\n",
       "      <td>...</td>\n",
       "      <td>...</td>\n",
       "      <td>...</td>\n",
       "    </tr>\n",
       "    <tr>\n",
       "      <th>340367</th>\n",
       "      <td>255274</td>\n",
       "      <td>752060</td>\n",
       "      <td>aqui recordando bloqueo instagram jajajajajajaja</td>\n",
       "      <td>0</td>\n",
       "      <td>0</td>\n",
       "      <td>0</td>\n",
       "      <td>0</td>\n",
       "      <td>0</td>\n",
       "      <td>0</td>\n",
       "      <td>0</td>\n",
       "    </tr>\n",
       "    <tr>\n",
       "      <th>340368</th>\n",
       "      <td>255275</td>\n",
       "      <td>831861</td>\n",
       "      <td>gente tarde puedo asique stream mananero vamos...</td>\n",
       "      <td>0</td>\n",
       "      <td>0</td>\n",
       "      <td>0</td>\n",
       "      <td>0</td>\n",
       "      <td>0</td>\n",
       "      <td>0</td>\n",
       "      <td>0</td>\n",
       "    </tr>\n",
       "    <tr>\n",
       "      <th>340369</th>\n",
       "      <td>255276</td>\n",
       "      <td>725607</td>\n",
       "      <td>nunca t</td>\n",
       "      <td>0</td>\n",
       "      <td>0</td>\n",
       "      <td>0</td>\n",
       "      <td>0</td>\n",
       "      <td>0</td>\n",
       "      <td>0</td>\n",
       "      <td>0</td>\n",
       "    </tr>\n",
       "    <tr>\n",
       "      <th>340370</th>\n",
       "      <td>255277</td>\n",
       "      <td>610798</td>\n",
       "      <td>asi ser pensamientos positivos menos presiones...</td>\n",
       "      <td>0</td>\n",
       "      <td>0</td>\n",
       "      <td>0</td>\n",
       "      <td>0</td>\n",
       "      <td>0</td>\n",
       "      <td>0</td>\n",
       "      <td>0</td>\n",
       "    </tr>\n",
       "    <tr>\n",
       "      <th>340371</th>\n",
       "      <td>255278</td>\n",
       "      <td>662076</td>\n",
       "      <td>glow up nadie voy hablar</td>\n",
       "      <td>0</td>\n",
       "      <td>0</td>\n",
       "      <td>0</td>\n",
       "      <td>0</td>\n",
       "      <td>0</td>\n",
       "      <td>0</td>\n",
       "      <td>0</td>\n",
       "    </tr>\n",
       "  </tbody>\n",
       "</table>\n",
       "<p>340372 rows × 10 columns</p>\n",
       "</div>"
      ],
      "text/plain": [
       "        Unnamed: 0  Unnamed: 0.1  \\\n",
       "0           250672        251798   \n",
       "1           250673        251799   \n",
       "2           250674        251800   \n",
       "3           250675        251801   \n",
       "4           250676        251802   \n",
       "...            ...           ...   \n",
       "340367      255274        752060   \n",
       "340368      255275        831861   \n",
       "340369      255276        725607   \n",
       "340370      255277        610798   \n",
       "340371      255278        662076   \n",
       "\n",
       "                                                full_text  categoria_1-ap  \\\n",
       "0                             maricon ultimos 100 pendejo               0   \n",
       "1                                               fico puto               0   \n",
       "2                  puto usted messi saquense chingar puta               0   \n",
       "3                            duermete puto deja chingando               0   \n",
       "4       prender ir cine lastimosamente cines cerrados ...               0   \n",
       "...                                                   ...             ...   \n",
       "340367   aqui recordando bloqueo instagram jajajajajajaja               0   \n",
       "340368  gente tarde puedo asique stream mananero vamos...               0   \n",
       "340369                                            nunca t               0   \n",
       "340370  asi ser pensamientos positivos menos presiones...               0   \n",
       "340371                           glow up nadie voy hablar               0   \n",
       "\n",
       "        categoria_2-dis  categoria_3-ed  categoria_4-gen  categoria_5-id  \\\n",
       "0                     0               0                0               0   \n",
       "1                     0               0                0               0   \n",
       "2                     0               0                0               0   \n",
       "3                     0               0                0               0   \n",
       "4                     0               0                0               0   \n",
       "...                 ...             ...              ...             ...   \n",
       "340367                0               0                0               0   \n",
       "340368                0               0                0               0   \n",
       "340369                0               0                0               0   \n",
       "340370                0               0                0               0   \n",
       "340371                0               0                0               0   \n",
       "\n",
       "        label  categoria_7-rel  \n",
       "0           1                0  \n",
       "1           1                0  \n",
       "2           1                0  \n",
       "3           1                0  \n",
       "4           1                0  \n",
       "...       ...              ...  \n",
       "340367      0                0  \n",
       "340368      0                0  \n",
       "340369      0                0  \n",
       "340370      0                0  \n",
       "340371      0                0  \n",
       "\n",
       "[340372 rows x 10 columns]"
      ]
     },
     "execution_count": 4,
     "metadata": {},
     "output_type": "execute_result"
    }
   ],
   "source": [
    "data"
   ]
  },
  {
   "cell_type": "code",
   "execution_count": 5,
   "metadata": {},
   "outputs": [],
   "source": [
    "train, test = train_test_split(data, test_size=0.2,random_state = 202008)"
   ]
  },
  {
   "cell_type": "code",
   "execution_count": 6,
   "metadata": {},
   "outputs": [
    {
     "data": {
      "text/plain": [
       "(68075, 300)"
      ]
     },
     "execution_count": 6,
     "metadata": {},
     "output_type": "execute_result"
    }
   ],
   "source": [
    "npEmbeddings2 = np.empty([0, 300])\n",
    "for texto in test['full_text']:\n",
    "    \n",
    "    #print(frase)\n",
    "    \n",
    "    # process a sentence using the model\n",
    "    doc = nlp(texto)\n",
    "    \n",
    "    # print(doc.vector.shape)\n",
    "    #print(npEmbeddings.shape)\n",
    "    #print(doc.vector.shape)\n",
    "    \n",
    "    if doc.vector.shape[0]==300:\n",
    "        npEmbeddings2 = np.append(npEmbeddings2, [doc.vector], axis = 0)\n",
    "    else:\n",
    "        npAux = np.empty([1, 300])\n",
    "        doc = nlp('prueba')\n",
    "        #npEmbeddings = np.append(npEmbeddings, npAux, axis = 0)\n",
    "        npEmbeddings2 = np.append(npEmbeddings2, [doc.vector], axis = 0)\n",
    "        predicted_svm = clf.predict([doc.vector])\n",
    "        \n",
    "npEmbeddings2.shape"
   ]
  },
  {
   "cell_type": "code",
   "execution_count": 7,
   "metadata": {},
   "outputs": [],
   "source": [
    "import pickle as pickle\n",
    "\n",
    "carga_modelo = '../modelos/modelo_capa2_' + categoria +'.p'\n",
    "pickleFile = open(carga_modelo, 'rb')\n",
    "best_model = pickle.load(pickleFile)\n",
    "pickleFile.close()"
   ]
  },
  {
   "cell_type": "code",
   "execution_count": 8,
   "metadata": {},
   "outputs": [],
   "source": [
    "y_probas = best_model.predict_proba(npEmbeddings2)\n",
    "y_true = test['label']\n",
    "y_prob = pd.DataFrame(y_probas)\n",
    "y_prob.columns = [\"cero\",\"uno\"]\n",
    "y_prob = y_prob[\"uno\"] "
   ]
  },
  {
   "cell_type": "code",
   "execution_count": 9,
   "metadata": {},
   "outputs": [
    {
     "data": {
      "text/plain": [
       "array([[50683,   248],\n",
       "       [ 1418, 15726]])"
      ]
     },
     "execution_count": 9,
     "metadata": {},
     "output_type": "execute_result"
    }
   ],
   "source": [
    "y_prob = best_model.predict(npEmbeddings2)\n",
    "confusion_matrix(y_true, y_prob)"
   ]
  },
  {
   "cell_type": "code",
   "execution_count": 10,
   "metadata": {},
   "outputs": [
    {
     "data": {
      "image/png": "[encoded data removed]",
      "text/plain": [
       "<Figure size 432x288 with 1 Axes>"
      ]
     },
     "metadata": {},
     "output_type": "display_data"
    }
   ],
   "source": [
    "#Definimos la funcion que graficará la ROC\n",
    "def plot_ROC(test_labels, test_predictions):\n",
    "    fpr, tpr, thresholds = metrics.roc_curve(test_labels, \n",
    "                                             test_predictions, pos_label=1)\n",
    "    auc = \"%.2f\" % metrics.auc(fpr, tpr)\n",
    "    title = 'ROC Curve, AUC = '+str(auc)\n",
    "    with plt.style.context(('seaborn-whitegrid')):\n",
    "        fig, ax = plt.subplots()\n",
    "        ax.plot(fpr, tpr, \"#000099\", label='ROC curve')\n",
    "        ax.plot([0, 1], [0, 1], 'k--', label='Baseline')\n",
    "        plt.xlim([0.0, 1.0])\n",
    "        plt.ylim([0.0, 1.05])\n",
    "        plt.xlabel('False Positive Rate')\n",
    "        plt.ylabel('True Positive Rate')\n",
    "        plt.legend(loc='lower right')\n",
    "        plt.title(title)\n",
    "    return  \n",
    "plot_ROC(y_true, y_prob) "
   ]
  },
  {
   "cell_type": "code",
   "execution_count": 11,
   "metadata": {},
   "outputs": [
    {
     "data": {
      "text/plain": [
       "0.9496950298931094"
      ]
     },
     "execution_count": 11,
     "metadata": {},
     "output_type": "execute_result"
    }
   ],
   "source": [
    "metrics.f1_score(y_true, y_prob)"
   ]
  },
  {
   "cell_type": "code",
   "execution_count": 12,
   "metadata": {},
   "outputs": [
    {
     "data": {
      "text/plain": [
       "0.9172888474101727"
      ]
     },
     "execution_count": 12,
     "metadata": {},
     "output_type": "execute_result"
    }
   ],
   "source": [
    "metrics.recall_score(y_true, y_prob)"
   ]
  },
  {
   "cell_type": "code",
   "execution_count": null,
   "metadata": {},
   "outputs": [],
   "source": []
  }
 ],
 "metadata": {
  "kernelspec": {
   "display_name": "Python 3",
   "language": "python",
   "name": "python3"
  },
  "language_info": {
   "codemirror_mode": {
    "name": "ipython",
    "version": 3
   },
   "file_extension": ".py",
   "mimetype": "text/x-python",
   "name": "python",
   "nbconvert_exporter": "python",
   "pygments_lexer": "ipython3",
   "version": "3.7.6"
  }
 },
 "nbformat": 4,
 "nbformat_minor": 4
}
