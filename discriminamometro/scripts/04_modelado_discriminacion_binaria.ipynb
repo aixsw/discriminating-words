{
 "cells": [
  {
   "cell_type": "code",
   "execution_count": 1,
   "metadata": {},
   "outputs": [
    {
     "name": "stdout",
     "output_type": "stream",
     "text": [
      "8\n"
     ]
    }
   ],
   "source": [
    "from Discriminamometro import Utileria, Discriminamometro\n",
    "import pandas as pd\n",
    "import spacy\n",
    "import numpy as np\n",
    "from sklearn.model_selection import train_test_split\n",
    "from sklearn.linear_model import SGDClassifier\n",
    "\n",
    "\n",
    "nlp = spacy.load('./data/tweets/')\n",
    "# Se instancia la clase del Discriminamometro\n",
    "obj_Discr = Discriminamometro('PRUEBA')\n",
    "\n",
    "# Mostramos la cantidad de tweets\n",
    "print(obj_Discr.nbr_TweetsXCorrida)"
   ]
  },
  {
   "cell_type": "code",
   "execution_count": 2,
   "metadata": {},
   "outputs": [],
   "source": [
    "data = pd.read_csv(\"data/Tuits Discriminatorios - jul2020 - Muestra Tuits.csv\")"
   ]
  },
  {
   "cell_type": "code",
   "execution_count": 3,
   "metadata": {},
   "outputs": [],
   "source": [
    "data.columns = ['full_text', 'categoria', 'disc', 'Observaciones']\n",
    "data[\"disc\"] = data[\"disc\"].replace(['???'],'SI')"
   ]
  },
  {
   "cell_type": "code",
   "execution_count": 5,
   "metadata": {},
   "outputs": [
    {
     "data": {
      "text/plain": [
       "NO    631\n",
       "SI    369\n",
       "Name: disc, dtype: int64"
      ]
     },
     "execution_count": 5,
     "metadata": {},
     "output_type": "execute_result"
    }
   ],
   "source": [
    "data[\"disc\"].value_counts()"
   ]
  },
  {
   "cell_type": "code",
   "execution_count": 6,
   "metadata": {},
   "outputs": [],
   "source": [
    "data[\"disc\"] = data[\"disc\"].replace(['SI'],1)\n",
    "data[\"disc\"] = data[\"disc\"].replace(['NO'],0)"
   ]
  },
  {
   "cell_type": "code",
   "execution_count": 7,
   "metadata": {},
   "outputs": [
    {
     "data": {
      "text/html": [
       "<div>\n",
       "<style scoped>\n",
       "    .dataframe tbody tr th:only-of-type {\n",
       "        vertical-align: middle;\n",
       "    }\n",
       "\n",
       "    .dataframe tbody tr th {\n",
       "        vertical-align: top;\n",
       "    }\n",
       "\n",
       "    .dataframe thead th {\n",
       "        text-align: right;\n",
       "    }\n",
       "</style>\n",
       "<table border=\"1\" class=\"dataframe\">\n",
       "  <thead>\n",
       "    <tr style=\"text-align: right;\">\n",
       "      <th></th>\n",
       "      <th>full_text</th>\n",
       "      <th>categoria</th>\n",
       "      <th>disc</th>\n",
       "      <th>Observaciones</th>\n",
       "    </tr>\n",
       "  </thead>\n",
       "  <tbody>\n",
       "    <tr>\n",
       "      <th>0</th>\n",
       "      <td>!Viva la \"diversidad\"! [?] \\n\\n!Proximamente e...</td>\n",
       "      <td>apariencia</td>\n",
       "      <td>0</td>\n",
       "      <td>capaz que la imagen es discriminatoria</td>\n",
       "    </tr>\n",
       "    <tr>\n",
       "      <th>1</th>\n",
       "      <td>@tennissucios @TenochHuerta Jajajaja... Muy ac...</td>\n",
       "      <td>apariencia</td>\n",
       "      <td>0</td>\n",
       "      <td>NaN</td>\n",
       "    </tr>\n",
       "    <tr>\n",
       "      <th>2</th>\n",
       "      <td>Hay momentos de la vida en los que te das cuen...</td>\n",
       "      <td>apariencia</td>\n",
       "      <td>0</td>\n",
       "      <td>NaN</td>\n",
       "    </tr>\n",
       "    <tr>\n",
       "      <th>3</th>\n",
       "      <td>@hornyboysmex @Hombres_sexgay Hermoso guerito !</td>\n",
       "      <td>apariencia</td>\n",
       "      <td>0</td>\n",
       "      <td>sextuiter es un mundo raro</td>\n",
       "    </tr>\n",
       "    <tr>\n",
       "      <th>4</th>\n",
       "      <td>Que restriccion tiene @DrGiammattei preparado ...</td>\n",
       "      <td>apariencia</td>\n",
       "      <td>0</td>\n",
       "      <td>NaN</td>\n",
       "    </tr>\n",
       "  </tbody>\n",
       "</table>\n",
       "</div>"
      ],
      "text/plain": [
       "                                           full_text   categoria  disc  \\\n",
       "0  !Viva la \"diversidad\"! [?] \\n\\n!Proximamente e...  apariencia     0   \n",
       "1  @tennissucios @TenochHuerta Jajajaja... Muy ac...  apariencia     0   \n",
       "2  Hay momentos de la vida en los que te das cuen...  apariencia     0   \n",
       "3    @hornyboysmex @Hombres_sexgay Hermoso guerito !  apariencia     0   \n",
       "4  Que restriccion tiene @DrGiammattei preparado ...  apariencia     0   \n",
       "\n",
       "                            Observaciones  \n",
       "0  capaz que la imagen es discriminatoria  \n",
       "1                                     NaN  \n",
       "2                                     NaN  \n",
       "3              sextuiter es un mundo raro  \n",
       "4                                     NaN  "
      ]
     },
     "execution_count": 7,
     "metadata": {},
     "output_type": "execute_result"
    }
   ],
   "source": [
    "data.head()"
   ]
  },
  {
   "cell_type": "code",
   "execution_count": 8,
   "metadata": {},
   "outputs": [],
   "source": [
    "obj_Discr.str_StopWords='StopWords.p'\n",
    "obj_Discr.CargarStopWords()\n",
    "\n",
    "data = obj_Discr.LimpiarDataFrame(data)\n",
    "data = obj_Discr.QuitarStopWordsDataFrame(data)"
   ]
  },
  {
   "cell_type": "code",
   "execution_count": 9,
   "metadata": {},
   "outputs": [],
   "source": [
    "train, test = train_test_split(data, test_size=0.2)"
   ]
  },
  {
   "cell_type": "code",
   "execution_count": 10,
   "metadata": {},
   "outputs": [
    {
     "data": {
      "text/plain": [
       "(800, 300)"
      ]
     },
     "execution_count": 10,
     "metadata": {},
     "output_type": "execute_result"
    }
   ],
   "source": [
    "npEmbeddings = np.empty([0, 300])\n",
    "\n",
    "for texto in train['full_text']:\n",
    "    \n",
    "    #print(texto)\n",
    "    \n",
    "    # process a sentence using the model\n",
    "    doc = nlp(texto)\n",
    "    \n",
    "    # print(doc.vector.shape)\n",
    "    if doc.vector.shape[0]==300:\n",
    "        npEmbeddings = np.append(npEmbeddings, [doc.vector], axis = 0)\n",
    "    else:\n",
    "        npAux = np.empty([1, 300])\n",
    "        npEmbeddings = np.append(npEmbeddings, npAux, axis = 0)\n",
    "\n",
    "npEmbeddings.shape"
   ]
  },
  {
   "cell_type": "code",
   "execution_count": 11,
   "metadata": {},
   "outputs": [],
   "source": [
    "import numpy as np\n",
    "from sklearn.ensemble import GradientBoostingClassifier\n",
    "from sklearn.ensemble import RandomForestClassifier\n",
    "from sklearn.model_selection import GridSearchCV\n",
    "from sklearn import tree\n",
    "import pandas as pd\n",
    "import os"
   ]
  },
  {
   "cell_type": "code",
   "execution_count": 12,
   "metadata": {},
   "outputs": [],
   "source": [
    "def Correr_Magic_Loop( npClassifier, npDictHyperParams, X_train, Y_train, nbrCv, strScoring):\n",
    "\n",
    "        npResultados = np.array([])\n",
    "        for i, classifier in enumerate(npClassifier):\n",
    "            dictHyperParams = npDictHyperParams[i]\n",
    "            grid_search = GridSearchCV(classifier,\n",
    "                                       dictHyperParams,\n",
    "                                       scoring=strScoring,\n",
    "                                       cv=nbrCv,\n",
    "                                       n_jobs=-1,\n",
    "                                       verbose=3\n",
    "                                       )\n",
    "            grid_search.fit(X_train, Y_train)\n",
    "            npResultados = np.append(npResultados, grid_search)\n",
    "\n",
    "            # de los valores posibles que pusimos en el grid, cuáles fueron los mejores\n",
    "            print('grid_search.best_params_: ', grid_search.best_params_)\n",
    "\n",
    "            # mejor score asociado a los modelos generados con los diferentes hiperparametros\n",
    "            # corresponde al promedio de los scores generados con los cv\n",
    "            print('grid_search.best_score_: ', grid_search.best_score_)\n",
    "\n",
    "            best_model = grid_search.best_estimator_\n",
    "\n",
    "\n",
    "        return best_model, npResultados"
   ]
  },
  {
   "cell_type": "code",
   "execution_count": 13,
   "metadata": {},
   "outputs": [],
   "source": [
    "def Prep_Modelos(npModelos):\n",
    "\n",
    "    npArrayModelos = np.array([])\n",
    "    for strModelo in npModelos:\n",
    "\n",
    "        if strModelo == 'DECTREE':\n",
    "            classifier = tree.DecisionTreeClassifier()\n",
    "        if strModelo == 'RANDOMF':\n",
    "            classifier = RandomForestClassifier()\n",
    "        if strModelo == 'XGBOOST':\n",
    "            classifier = GradientBoostingClassifier()\n",
    "\n",
    "        npArrayModelos = np.append(npArrayModelos, classifier)\n",
    "\n",
    "    return npArrayModelos"
   ]
  },
  {
   "cell_type": "code",
   "execution_count": 14,
   "metadata": {},
   "outputs": [],
   "source": [
    "npDictHiperParam = np.array([]) \n",
    "# Parametrización para Árboles\n",
    "dictHyperParams = {'max_depth': [4,7],  # \n",
    "                   'min_samples_split': [4,16],  # \n",
    "                   'min_samples_leaf': [3,7],  # \n",
    "                   'max_features': ['sqrt','log2']  # \n",
    "                   }\n",
    "npDictHiperParam = np.append(npDictHiperParam, dictHyperParams)\n",
    "\n",
    "# Parametrización para Bosques\n",
    "dictHyperParams = {'n_estimators': [50],  # Se redujo a 50\n",
    "                   'max_depth': [4,7],  # \n",
    "                   'max_features': ['sqrt','log2'],\n",
    "                   'min_samples_split': [4,16],\n",
    "                   'min_samples_leaf': [3,7]\n",
    "                   }\n",
    "npDictHiperParam = np.append(npDictHiperParam, dictHyperParams)\n",
    "\n",
    "# Parametrización para XGBoost\n",
    "dictHyperParams = {'learning_rate': [0.1,0.25, 0.75],\n",
    "                   'n_estimators': [50,100,150],  # Se redujo a 50\n",
    "                   'min_samples_split': [4,16],\n",
    "                   'min_samples_leaf': [3,7],\n",
    "                   'max_depth': [3,4,5,6,7,10,15],\n",
    "                   'max_features': ['sqrt','log2']\n",
    "                   }\n",
    "npDictHiperParam = np.append(npDictHiperParam, dictHyperParams)\n",
    "\n",
    "# Se crean los modelos de clasificaión que se emplearán (en el mismo orden que los diccionarios)\n",
    "npNombreModelos = np.array([])\n",
    "npNombreModelos = np.append(npNombreModelos, 'DECTREE')\n",
    "npNombreModelos = np.append(npNombreModelos, 'RANDOMF')\n",
    "npNombreModelos = np.append(npNombreModelos, 'XGBOOST')"
   ]
  },
  {
   "cell_type": "code",
   "execution_count": 15,
   "metadata": {},
   "outputs": [
    {
     "name": "stdout",
     "output_type": "stream",
     "text": [
      "Fitting 5 folds for each of 16 candidates, totalling 80 fits\n"
     ]
    },
    {
     "name": "stderr",
     "output_type": "stream",
     "text": [
      "[Parallel(n_jobs=-1)]: Using backend LokyBackend with 12 concurrent workers.\n",
      "[Parallel(n_jobs=-1)]: Done   8 tasks      | elapsed:    1.6s\n",
      "[Parallel(n_jobs=-1)]: Done  80 out of  80 | elapsed:    2.2s finished\n",
      "[Parallel(n_jobs=-1)]: Using backend LokyBackend with 12 concurrent workers.\n"
     ]
    },
    {
     "name": "stdout",
     "output_type": "stream",
     "text": [
      "grid_search.best_params_:  {'max_depth': 4, 'max_features': 'sqrt', 'min_samples_leaf': 3, 'min_samples_split': 4}\n",
      "grid_search.best_score_:  0.7166704790601452\n",
      "Fitting 5 folds for each of 16 candidates, totalling 80 fits\n"
     ]
    },
    {
     "name": "stderr",
     "output_type": "stream",
     "text": [
      "[Parallel(n_jobs=-1)]: Done   8 tasks      | elapsed:    0.5s\n",
      "[Parallel(n_jobs=-1)]: Done  80 out of  80 | elapsed:    3.3s finished\n",
      "/home/francisco/anaconda3/envs/discriminamometro/lib/python3.7/site-packages/sklearn/model_selection/_search.py:739: DataConversionWarning: A column-vector y was passed when a 1d array was expected. Please change the shape of y to (n_samples,), for example using ravel().\n",
      "  self.best_estimator_.fit(X, y, **fit_params)\n"
     ]
    },
    {
     "name": "stdout",
     "output_type": "stream",
     "text": [
      "grid_search.best_params_:  {'max_depth': 7, 'max_features': 'sqrt', 'min_samples_leaf': 7, 'min_samples_split': 16, 'n_estimators': 50}\n",
      "grid_search.best_score_:  0.8160482136156684\n",
      "Fitting 5 folds for each of 504 candidates, totalling 2520 fits\n"
     ]
    },
    {
     "name": "stderr",
     "output_type": "stream",
     "text": [
      "[Parallel(n_jobs=-1)]: Using backend LokyBackend with 12 concurrent workers.\n",
      "[Parallel(n_jobs=-1)]: Done   8 tasks      | elapsed:    1.0s\n",
      "[Parallel(n_jobs=-1)]: Done 104 tasks      | elapsed:    6.1s\n",
      "[Parallel(n_jobs=-1)]: Done 264 tasks      | elapsed:   17.0s\n",
      "[Parallel(n_jobs=-1)]: Done 488 tasks      | elapsed:   38.5s\n",
      "[Parallel(n_jobs=-1)]: Done 776 tasks      | elapsed:  1.2min\n",
      "[Parallel(n_jobs=-1)]: Done 1128 tasks      | elapsed:  1.7min\n",
      "[Parallel(n_jobs=-1)]: Done 1544 tasks      | elapsed:  2.2min\n",
      "[Parallel(n_jobs=-1)]: Done 2024 tasks      | elapsed:  2.6min\n",
      "[Parallel(n_jobs=-1)]: Done 2520 out of 2520 | elapsed:  3.1min finished\n",
      "/home/francisco/anaconda3/envs/discriminamometro/lib/python3.7/site-packages/sklearn/ensemble/_gb.py:1454: DataConversionWarning: A column-vector y was passed when a 1d array was expected. Please change the shape of y to (n_samples, ), for example using ravel().\n",
      "  y = column_or_1d(y, warn=True)\n"
     ]
    },
    {
     "name": "stdout",
     "output_type": "stream",
     "text": [
      "grid_search.best_params_:  {'learning_rate': 0.1, 'max_depth': 3, 'max_features': 'log2', 'min_samples_leaf': 3, 'min_samples_split': 4, 'n_estimators': 100}\n",
      "grid_search.best_score_:  0.8356639027948589\n"
     ]
    }
   ],
   "source": [
    "X_train = pd.DataFrame(npEmbeddings)\n",
    "Y_train = pd.DataFrame(train.disc)\n",
    "arrModelos = Prep_Modelos(npNombreModelos)\n",
    "\n",
    "# #Se corre el magic loop para realizar las predicciones con los parámetros previamente establecidos\n",
    "best_model,npGridSearchCv = Correr_Magic_Loop(arrModelos,\n",
    "                                    npDictHiperParam,\n",
    "                                    X_train,\n",
    "                                    Y_train,\n",
    "                                    5,\n",
    "                                    'roc_auc')\n",
    "\n",
    "npArrBestScores = np.array([])\n",
    "npArrBestParams = np.array([])\n",
    "\n",
    "# Barremos el arreglo de GridSearchCV´s para sacar los mejores scores y parámetros\n",
    "for grid in npGridSearchCv:\n",
    "    npArrBestScores = np.append(npArrBestScores, grid.best_score_)\n",
    "    npArrBestParams = np.append(npArrBestParams, grid.best_params_)"
   ]
  },
  {
   "cell_type": "code",
   "execution_count": 18,
   "metadata": {},
   "outputs": [],
   "source": [
    "# Obtenemos el índice del mejor score\n",
    "nbrIndiceGanador = np.argmax(npArrBestScores, axis=0)\n",
    "\n",
    "# Mostramos el modelo, parámetros y score ganador\n",
    "# print(\"Modelo ganador: \\n\", arrModelos[nbrIndiceGanador])\n",
    "# print(\"Score del modelo ganador: \\n\", npArrBestScores[nbrIndiceGanador])\n",
    "# print(\"Parametros del modelo ganador: \\n\", npArrBestParams[nbrIndiceGanador])\n",
    "\n",
    "# Se instancia el modelo ganador\n",
    "# self.ModeloGanadorMagicLoop = objEda.InstanciarModeloDinamico(npNombreModelos, nbrIndiceGanador, npArrBestParams[nbrIndiceGanador])\n",
    "ModeloGanadorMagicLoop = best_model"
   ]
  },
  {
   "cell_type": "code",
   "execution_count": 19,
   "metadata": {},
   "outputs": [
    {
     "data": {
      "text/plain": [
       "GradientBoostingClassifier(ccp_alpha=0.0, criterion='friedman_mse', init=None,\n",
       "                           learning_rate=0.1, loss='deviance', max_depth=3,\n",
       "                           max_features='log2', max_leaf_nodes=None,\n",
       "                           min_impurity_decrease=0.0, min_impurity_split=None,\n",
       "                           min_samples_leaf=3, min_samples_split=4,\n",
       "                           min_weight_fraction_leaf=0.0, n_estimators=100,\n",
       "                           n_iter_no_change=None, presort='deprecated',\n",
       "                           random_state=None, subsample=1.0, tol=0.0001,\n",
       "                           validation_fraction=0.1, verbose=0,\n",
       "                           warm_start=False)"
      ]
     },
     "execution_count": 19,
     "metadata": {},
     "output_type": "execute_result"
    }
   ],
   "source": [
    "ModeloGanadorMagicLoop"
   ]
  },
  {
   "cell_type": "markdown",
   "metadata": {},
   "source": [
    "### Desempeño en test"
   ]
  },
  {
   "cell_type": "code",
   "execution_count": 20,
   "metadata": {},
   "outputs": [
    {
     "data": {
      "text/plain": [
       "(200, 300)"
      ]
     },
     "execution_count": 20,
     "metadata": {},
     "output_type": "execute_result"
    }
   ],
   "source": [
    "npEmbeddings2 = np.empty([0, 300])\n",
    "for texto in test['full_text']:\n",
    "    \n",
    "    #print(frase)\n",
    "    \n",
    "    # process a sentence using the model\n",
    "    doc = nlp(texto)\n",
    "    \n",
    "    # print(doc.vector.shape)\n",
    "    #print(npEmbeddings.shape)\n",
    "    #print(doc.vector.shape)\n",
    "    \n",
    "    if doc.vector.shape[0]==300:\n",
    "        npEmbeddings2 = np.append(npEmbeddings2, [doc.vector], axis = 0)\n",
    "    else:\n",
    "        npAux = np.empty([1, 300])\n",
    "        doc = nlp('prueba')\n",
    "        #npEmbeddings = np.append(npEmbeddings, npAux, axis = 0)\n",
    "        npEmbeddings2 = np.append(npEmbeddings2, [doc.vector], axis = 0)\n",
    "        predicted_svm = clf.predict([doc.vector])\n",
    "        \n",
    "npEmbeddings2.shape"
   ]
  },
  {
   "cell_type": "code",
   "execution_count": 21,
   "metadata": {},
   "outputs": [
    {
     "data": {
      "text/plain": [
       "0.79"
      ]
     },
     "execution_count": 21,
     "metadata": {},
     "output_type": "execute_result"
    }
   ],
   "source": [
    "predicted_svm = best_model.predict(npEmbeddings2)\n",
    "np.mean(predicted_svm == test.disc)"
   ]
  },
  {
   "cell_type": "code",
   "execution_count": 119,
   "metadata": {},
   "outputs": [
    {
     "name": "stdout",
     "output_type": "stream",
     "text": [
      "No discriminación\n"
     ]
    }
   ],
   "source": [
    "npAux = nlp('cojo rico').vector\n",
    "predicted_svm = best_model.predict([npAux])\n",
    "if(predicted_svm==0):\n",
    "    print('No discriminación')\n",
    "else:\n",
    "    print('Si discrimina')"
   ]
  },
  {
   "cell_type": "code",
   "execution_count": 116,
   "metadata": {},
   "outputs": [],
   "source": [
    "\n",
    "################### Carga de parámetros\n",
    "import pickle as pickle\n",
    "\n",
    "pickleFile = open('modelo_clasificacion_binaria.p', 'rb')\n",
    "best_model = pickle.load(pickleFile)\n",
    "pickleFile.close()"
   ]
  },
  {
   "cell_type": "code",
   "execution_count": 24,
   "metadata": {},
   "outputs": [],
   "source": [
    "y_probas = best_model.predict_proba(npEmbeddings2)\n",
    "y_true = test.disc\n",
    "y_prob = pd.DataFrame(y_probas)\n",
    "y_prob.columns = [\"cero\",\"uno\"]\n",
    "y_prob = y_prob[\"uno\"]"
   ]
  },
  {
   "cell_type": "code",
   "execution_count": 25,
   "metadata": {},
   "outputs": [
    {
     "data": {
      "image/png": "[encoded data removed]",
      "text/plain": [
       "<Figure size 432x288 with 1 Axes>"
      ]
     },
     "metadata": {},
     "output_type": "display_data"
    }
   ],
   "source": [
    "from sklearn import metrics\n",
    "from matplotlib import pyplot as plt \n",
    "\n",
    "#Definimos la funcion que graficará la ROC\n",
    "def plot_ROC(test_labels, test_predictions):\n",
    "    fpr, tpr, thresholds = metrics.roc_curve(test_labels, \n",
    "                                             test_predictions, pos_label=1)\n",
    "    auc = \"%.2f\" % metrics.auc(fpr, tpr)\n",
    "    title = 'ROC Curve, AUC = '+str(auc)\n",
    "    with plt.style.context(('seaborn-whitegrid')):\n",
    "        fig, ax = plt.subplots()\n",
    "        ax.plot(fpr, tpr, \"#000099\", label='ROC curve')\n",
    "        ax.plot([0, 1], [0, 1], 'k--', label='Baseline')\n",
    "        plt.xlim([0.0, 1.0])\n",
    "        plt.ylim([0.0, 1.05])\n",
    "        plt.xlabel('False Positive Rate')\n",
    "        plt.ylabel('True Positive Rate')\n",
    "        plt.legend(loc='lower right')\n",
    "        plt.title(title)\n",
    "    return  \n",
    "plot_ROC(y_true, y_prob) "
   ]
  },
  {
   "cell_type": "markdown",
   "metadata": {},
   "source": [
    "# Prueba de categorías"
   ]
  },
  {
   "cell_type": "code",
   "execution_count": 120,
   "metadata": {},
   "outputs": [
    {
     "name": "stderr",
     "output_type": "stream",
     "text": [
      "/home/francisco/anaconda3/envs/discriminamometro/lib/python3.7/site-packages/IPython/core/interactiveshell.py:3072: DtypeWarning: Columns (0,1,2) have mixed types.Specify dtype option on import or set low_memory=False.\n",
      "  interactivity=interactivity, compiler=compiler, result=result)\n"
     ]
    },
    {
     "data": {
      "text/html": [
       "<div>\n",
       "<style scoped>\n",
       "    .dataframe tbody tr th:only-of-type {\n",
       "        vertical-align: middle;\n",
       "    }\n",
       "\n",
       "    .dataframe tbody tr th {\n",
       "        vertical-align: top;\n",
       "    }\n",
       "\n",
       "    .dataframe thead th {\n",
       "        text-align: right;\n",
       "    }\n",
       "</style>\n",
       "<table border=\"1\" class=\"dataframe\">\n",
       "  <thead>\n",
       "    <tr style=\"text-align: right;\">\n",
       "      <th></th>\n",
       "      <th>Unnamed: 0</th>\n",
       "      <th>full_text</th>\n",
       "      <th>categoria</th>\n",
       "    </tr>\n",
       "  </thead>\n",
       "  <tbody>\n",
       "    <tr>\n",
       "      <th>0</th>\n",
       "      <td>0</td>\n",
       "      <td>!Viva la \"diversidad\"! [?] \\n\\n!Proximamente e...</td>\n",
       "      <td>apariencia</td>\n",
       "    </tr>\n",
       "    <tr>\n",
       "      <th>1</th>\n",
       "      <td>1</td>\n",
       "      <td>@tennissucios @TenochHuerta Jajajaja... Muy ac...</td>\n",
       "      <td>apariencia</td>\n",
       "    </tr>\n",
       "    <tr>\n",
       "      <th>2</th>\n",
       "      <td>3</td>\n",
       "      <td>Hay momentos de la vida en los  que te das cue...</td>\n",
       "      <td>apariencia</td>\n",
       "    </tr>\n",
       "    <tr>\n",
       "      <th>3</th>\n",
       "      <td>4</td>\n",
       "      <td>@hornyboysmex @Hombres_sexgay Hermoso  guerito !</td>\n",
       "      <td>apariencia</td>\n",
       "    </tr>\n",
       "    <tr>\n",
       "      <th>4</th>\n",
       "      <td>5</td>\n",
       "      <td>Que restriccion tiene @DrGiammattei preparado ...</td>\n",
       "      <td>apariencia</td>\n",
       "    </tr>\n",
       "    <tr>\n",
       "      <th>...</th>\n",
       "      <td>...</td>\n",
       "      <td>...</td>\n",
       "      <td>...</td>\n",
       "    </tr>\n",
       "    <tr>\n",
       "      <th>3160328</th>\n",
       "      <td>360</td>\n",
       "      <td>@tamairycabrera Esa fue tu cara. https://t.co/...</td>\n",
       "      <td>neutro</td>\n",
       "    </tr>\n",
       "    <tr>\n",
       "      <th>3160329</th>\n",
       "      <td>361</td>\n",
       "      <td>no me voy a cansar de felicitar a todos los qu...</td>\n",
       "      <td>neutro</td>\n",
       "    </tr>\n",
       "    <tr>\n",
       "      <th>3160330</th>\n",
       "      <td>362</td>\n",
       "      <td>@CESARRRASCON Se mueren porque se encuentre al...</td>\n",
       "      <td>neutro</td>\n",
       "    </tr>\n",
       "    <tr>\n",
       "      <th>3160331</th>\n",
       "      <td>363</td>\n",
       "      <td>Las ganas son grandes bruh</td>\n",
       "      <td>neutro</td>\n",
       "    </tr>\n",
       "    <tr>\n",
       "      <th>3160332</th>\n",
       "      <td>364</td>\n",
       "      <td>Hasta manana camaradas\\n@Briggittems1 @lrrc202...</td>\n",
       "      <td>neutro</td>\n",
       "    </tr>\n",
       "  </tbody>\n",
       "</table>\n",
       "<p>3160333 rows × 3 columns</p>\n",
       "</div>"
      ],
      "text/plain": [
       "        Unnamed: 0                                          full_text  \\\n",
       "0                0  !Viva la \"diversidad\"! [?] \\n\\n!Proximamente e...   \n",
       "1                1  @tennissucios @TenochHuerta Jajajaja... Muy ac...   \n",
       "2                3  Hay momentos de la vida en los  que te das cue...   \n",
       "3                4   @hornyboysmex @Hombres_sexgay Hermoso  guerito !   \n",
       "4                5  Que restriccion tiene @DrGiammattei preparado ...   \n",
       "...            ...                                                ...   \n",
       "3160328        360  @tamairycabrera Esa fue tu cara. https://t.co/...   \n",
       "3160329        361  no me voy a cansar de felicitar a todos los qu...   \n",
       "3160330        362  @CESARRRASCON Se mueren porque se encuentre al...   \n",
       "3160331        363                         Las ganas son grandes bruh   \n",
       "3160332        364  Hasta manana camaradas\\n@Briggittems1 @lrrc202...   \n",
       "\n",
       "          categoria  \n",
       "0        apariencia  \n",
       "1        apariencia  \n",
       "2        apariencia  \n",
       "3        apariencia  \n",
       "4        apariencia  \n",
       "...             ...  \n",
       "3160328      neutro  \n",
       "3160329      neutro  \n",
       "3160330      neutro  \n",
       "3160331      neutro  \n",
       "3160332      neutro  \n",
       "\n",
       "[3160333 rows x 3 columns]"
      ]
     },
     "execution_count": 120,
     "metadata": {},
     "output_type": "execute_result"
    }
   ],
   "source": [
    "data = pd.read_csv(\"tweets_julio_embeddings.csv\")\n",
    "data"
   ]
  },
  {
   "cell_type": "code",
   "execution_count": 121,
   "metadata": {},
   "outputs": [
    {
     "data": {
      "text/html": [
       "<div>\n",
       "<style scoped>\n",
       "    .dataframe tbody tr th:only-of-type {\n",
       "        vertical-align: middle;\n",
       "    }\n",
       "\n",
       "    .dataframe tbody tr th {\n",
       "        vertical-align: top;\n",
       "    }\n",
       "\n",
       "    .dataframe thead th {\n",
       "        text-align: right;\n",
       "    }\n",
       "</style>\n",
       "<table border=\"1\" class=\"dataframe\">\n",
       "  <thead>\n",
       "    <tr style=\"text-align: right;\">\n",
       "      <th></th>\n",
       "      <th>Unnamed: 0</th>\n",
       "      <th>full_text</th>\n",
       "      <th>categoria</th>\n",
       "    </tr>\n",
       "  </thead>\n",
       "  <tbody>\n",
       "    <tr>\n",
       "      <th>0</th>\n",
       "      <td>0</td>\n",
       "      <td>!Viva la \"diversidad\"! [?] \\n\\n!Proximamente e...</td>\n",
       "      <td>1-ap</td>\n",
       "    </tr>\n",
       "    <tr>\n",
       "      <th>1</th>\n",
       "      <td>1</td>\n",
       "      <td>@tennissucios @TenochHuerta Jajajaja... Muy ac...</td>\n",
       "      <td>1-ap</td>\n",
       "    </tr>\n",
       "    <tr>\n",
       "      <th>2</th>\n",
       "      <td>3</td>\n",
       "      <td>Hay momentos de la vida en los  que te das cue...</td>\n",
       "      <td>1-ap</td>\n",
       "    </tr>\n",
       "    <tr>\n",
       "      <th>3</th>\n",
       "      <td>4</td>\n",
       "      <td>@hornyboysmex @Hombres_sexgay Hermoso  guerito !</td>\n",
       "      <td>1-ap</td>\n",
       "    </tr>\n",
       "    <tr>\n",
       "      <th>4</th>\n",
       "      <td>5</td>\n",
       "      <td>Que restriccion tiene @DrGiammattei preparado ...</td>\n",
       "      <td>1-ap</td>\n",
       "    </tr>\n",
       "    <tr>\n",
       "      <th>...</th>\n",
       "      <td>...</td>\n",
       "      <td>...</td>\n",
       "      <td>...</td>\n",
       "    </tr>\n",
       "    <tr>\n",
       "      <th>3160328</th>\n",
       "      <td>360</td>\n",
       "      <td>@tamairycabrera Esa fue tu cara. https://t.co/...</td>\n",
       "      <td>8-neu</td>\n",
       "    </tr>\n",
       "    <tr>\n",
       "      <th>3160329</th>\n",
       "      <td>361</td>\n",
       "      <td>no me voy a cansar de felicitar a todos los qu...</td>\n",
       "      <td>8-neu</td>\n",
       "    </tr>\n",
       "    <tr>\n",
       "      <th>3160330</th>\n",
       "      <td>362</td>\n",
       "      <td>@CESARRRASCON Se mueren porque se encuentre al...</td>\n",
       "      <td>8-neu</td>\n",
       "    </tr>\n",
       "    <tr>\n",
       "      <th>3160331</th>\n",
       "      <td>363</td>\n",
       "      <td>Las ganas son grandes bruh</td>\n",
       "      <td>8-neu</td>\n",
       "    </tr>\n",
       "    <tr>\n",
       "      <th>3160332</th>\n",
       "      <td>364</td>\n",
       "      <td>Hasta manana camaradas\\n@Briggittems1 @lrrc202...</td>\n",
       "      <td>8-neu</td>\n",
       "    </tr>\n",
       "  </tbody>\n",
       "</table>\n",
       "<p>3160333 rows × 3 columns</p>\n",
       "</div>"
      ],
      "text/plain": [
       "        Unnamed: 0                                          full_text  \\\n",
       "0                0  !Viva la \"diversidad\"! [?] \\n\\n!Proximamente e...   \n",
       "1                1  @tennissucios @TenochHuerta Jajajaja... Muy ac...   \n",
       "2                3  Hay momentos de la vida en los  que te das cue...   \n",
       "3                4   @hornyboysmex @Hombres_sexgay Hermoso  guerito !   \n",
       "4                5  Que restriccion tiene @DrGiammattei preparado ...   \n",
       "...            ...                                                ...   \n",
       "3160328        360  @tamairycabrera Esa fue tu cara. https://t.co/...   \n",
       "3160329        361  no me voy a cansar de felicitar a todos los qu...   \n",
       "3160330        362  @CESARRRASCON Se mueren porque se encuentre al...   \n",
       "3160331        363                         Las ganas son grandes bruh   \n",
       "3160332        364  Hasta manana camaradas\\n@Briggittems1 @lrrc202...   \n",
       "\n",
       "        categoria  \n",
       "0            1-ap  \n",
       "1            1-ap  \n",
       "2            1-ap  \n",
       "3            1-ap  \n",
       "4            1-ap  \n",
       "...           ...  \n",
       "3160328     8-neu  \n",
       "3160329     8-neu  \n",
       "3160330     8-neu  \n",
       "3160331     8-neu  \n",
       "3160332     8-neu  \n",
       "\n",
       "[3160333 rows x 3 columns]"
      ]
     },
     "execution_count": 121,
     "metadata": {},
     "output_type": "execute_result"
    }
   ],
   "source": [
    "class_names = ['1-ap','2-dis','3-ed', '4-gen',\n",
    "               '5-id', '6-or', '7-rel', '8-neu']\n",
    "\n",
    "data[\"categoria\"] = data[\"categoria\"].replace(['apariencia'],'1-ap')\n",
    "data[\"categoria\"] = data[\"categoria\"].replace(['discapacidad'],'2-dis')\n",
    "data[\"categoria\"] = data[\"categoria\"].replace(['edad'],'3-ed')\n",
    "data[\"categoria\"] = data[\"categoria\"].replace(['genero'],'4-gen')\n",
    "data[\"categoria\"] = data[\"categoria\"].replace(['ideologia'],'5-id')\n",
    "data[\"categoria\"] = data[\"categoria\"].replace(['orientacion'],'6-or')\n",
    "data[\"categoria\"] = data[\"categoria\"].replace(['religion'],'7-rel')\n",
    "data[\"categoria\"] = data[\"categoria\"].replace(['neutro'],'8-neu')\n",
    "data"
   ]
  },
  {
   "cell_type": "code",
   "execution_count": 123,
   "metadata": {},
   "outputs": [
    {
     "data": {
      "text/plain": [
       "8-neu    714821\n",
       "4-gen    170274\n",
       "6-or      85207\n",
       "5-id      28998\n",
       "1-ap      26987\n",
       "2-dis     19956\n",
       "3-ed       5583\n",
       "7-rel      1772\n",
       "Name: categoria, dtype: int64"
      ]
     },
     "execution_count": 123,
     "metadata": {},
     "output_type": "execute_result"
    }
   ],
   "source": [
    "data['categoria'].value_counts()"
   ]
  },
  {
   "cell_type": "code",
   "execution_count": 102,
   "metadata": {},
   "outputs": [
    {
     "data": {
      "text/html": [
       "<div>\n",
       "<style scoped>\n",
       "    .dataframe tbody tr th:only-of-type {\n",
       "        vertical-align: middle;\n",
       "    }\n",
       "\n",
       "    .dataframe tbody tr th {\n",
       "        vertical-align: top;\n",
       "    }\n",
       "\n",
       "    .dataframe thead th {\n",
       "        text-align: right;\n",
       "    }\n",
       "</style>\n",
       "<table border=\"1\" class=\"dataframe\">\n",
       "  <thead>\n",
       "    <tr style=\"text-align: right;\">\n",
       "      <th></th>\n",
       "      <th>Unnamed: 0</th>\n",
       "      <th>full_text</th>\n",
       "      <th>categoria</th>\n",
       "    </tr>\n",
       "  </thead>\n",
       "  <tbody>\n",
       "    <tr>\n",
       "      <th>0</th>\n",
       "      <td>0</td>\n",
       "      <td>!Viva la \"diversidad\"! [?] \\n\\n!Proximamente e...</td>\n",
       "      <td>1-ap</td>\n",
       "    </tr>\n",
       "    <tr>\n",
       "      <th>1</th>\n",
       "      <td>1</td>\n",
       "      <td>@tennissucios @TenochHuerta Jajajaja... Muy ac...</td>\n",
       "      <td>1-ap</td>\n",
       "    </tr>\n",
       "    <tr>\n",
       "      <th>2</th>\n",
       "      <td>3</td>\n",
       "      <td>Hay momentos de la vida en los  que te das cue...</td>\n",
       "      <td>1-ap</td>\n",
       "    </tr>\n",
       "    <tr>\n",
       "      <th>3</th>\n",
       "      <td>4</td>\n",
       "      <td>@hornyboysmex @Hombres_sexgay Hermoso  guerito !</td>\n",
       "      <td>1-ap</td>\n",
       "    </tr>\n",
       "    <tr>\n",
       "      <th>4</th>\n",
       "      <td>5</td>\n",
       "      <td>Que restriccion tiene @DrGiammattei preparado ...</td>\n",
       "      <td>1-ap</td>\n",
       "    </tr>\n",
       "    <tr>\n",
       "      <th>...</th>\n",
       "      <td>...</td>\n",
       "      <td>...</td>\n",
       "      <td>...</td>\n",
       "    </tr>\n",
       "    <tr>\n",
       "      <th>3160328</th>\n",
       "      <td>360</td>\n",
       "      <td>@tamairycabrera Esa fue tu cara. https://t.co/...</td>\n",
       "      <td>8-neu</td>\n",
       "    </tr>\n",
       "    <tr>\n",
       "      <th>3160329</th>\n",
       "      <td>361</td>\n",
       "      <td>no me voy a cansar de felicitar a todos los qu...</td>\n",
       "      <td>8-neu</td>\n",
       "    </tr>\n",
       "    <tr>\n",
       "      <th>3160330</th>\n",
       "      <td>362</td>\n",
       "      <td>@CESARRRASCON Se mueren porque se encuentre al...</td>\n",
       "      <td>8-neu</td>\n",
       "    </tr>\n",
       "    <tr>\n",
       "      <th>3160331</th>\n",
       "      <td>363</td>\n",
       "      <td>Las ganas son grandes bruh</td>\n",
       "      <td>8-neu</td>\n",
       "    </tr>\n",
       "    <tr>\n",
       "      <th>3160332</th>\n",
       "      <td>364</td>\n",
       "      <td>Hasta manana camaradas\\n@Briggittems1 @lrrc202...</td>\n",
       "      <td>8-neu</td>\n",
       "    </tr>\n",
       "  </tbody>\n",
       "</table>\n",
       "<p>1053598 rows × 3 columns</p>\n",
       "</div>"
      ],
      "text/plain": [
       "        Unnamed: 0                                          full_text  \\\n",
       "0                0  !Viva la \"diversidad\"! [?] \\n\\n!Proximamente e...   \n",
       "1                1  @tennissucios @TenochHuerta Jajajaja... Muy ac...   \n",
       "2                3  Hay momentos de la vida en los  que te das cue...   \n",
       "3                4   @hornyboysmex @Hombres_sexgay Hermoso  guerito !   \n",
       "4                5  Que restriccion tiene @DrGiammattei preparado ...   \n",
       "...            ...                                                ...   \n",
       "3160328        360  @tamairycabrera Esa fue tu cara. https://t.co/...   \n",
       "3160329        361  no me voy a cansar de felicitar a todos los qu...   \n",
       "3160330        362  @CESARRRASCON Se mueren porque se encuentre al...   \n",
       "3160331        363                         Las ganas son grandes bruh   \n",
       "3160332        364  Hasta manana camaradas\\n@Briggittems1 @lrrc202...   \n",
       "\n",
       "        categoria  \n",
       "0            1-ap  \n",
       "1            1-ap  \n",
       "2            1-ap  \n",
       "3            1-ap  \n",
       "4            1-ap  \n",
       "...           ...  \n",
       "3160328     8-neu  \n",
       "3160329     8-neu  \n",
       "3160330     8-neu  \n",
       "3160331     8-neu  \n",
       "3160332     8-neu  \n",
       "\n",
       "[1053598 rows x 3 columns]"
      ]
     },
     "execution_count": 102,
     "metadata": {},
     "output_type": "execute_result"
    }
   ],
   "source": [
    "data = data[data[\"categoria\"].isnull()==False]\n",
    "data"
   ]
  },
  {
   "cell_type": "code",
   "execution_count": 103,
   "metadata": {},
   "outputs": [
    {
     "data": {
      "text/html": [
       "<div>\n",
       "<style scoped>\n",
       "    .dataframe tbody tr th:only-of-type {\n",
       "        vertical-align: middle;\n",
       "    }\n",
       "\n",
       "    .dataframe tbody tr th {\n",
       "        vertical-align: top;\n",
       "    }\n",
       "\n",
       "    .dataframe thead th {\n",
       "        text-align: right;\n",
       "    }\n",
       "</style>\n",
       "<table border=\"1\" class=\"dataframe\">\n",
       "  <thead>\n",
       "    <tr style=\"text-align: right;\">\n",
       "      <th></th>\n",
       "      <th>Unnamed: 0</th>\n",
       "      <th>full_text</th>\n",
       "      <th>categoria</th>\n",
       "    </tr>\n",
       "  </thead>\n",
       "  <tbody>\n",
       "    <tr>\n",
       "      <th>0</th>\n",
       "      <td>0</td>\n",
       "      <td>!Viva la \"diversidad\"! [?] \\n\\n!Proximamente e...</td>\n",
       "      <td>1-ap</td>\n",
       "    </tr>\n",
       "    <tr>\n",
       "      <th>1</th>\n",
       "      <td>1</td>\n",
       "      <td>@tennissucios @TenochHuerta Jajajaja... Muy ac...</td>\n",
       "      <td>1-ap</td>\n",
       "    </tr>\n",
       "    <tr>\n",
       "      <th>2</th>\n",
       "      <td>3</td>\n",
       "      <td>Hay momentos de la vida en los  que te das cue...</td>\n",
       "      <td>1-ap</td>\n",
       "    </tr>\n",
       "    <tr>\n",
       "      <th>3</th>\n",
       "      <td>4</td>\n",
       "      <td>@hornyboysmex @Hombres_sexgay Hermoso  guerito !</td>\n",
       "      <td>1-ap</td>\n",
       "    </tr>\n",
       "    <tr>\n",
       "      <th>4</th>\n",
       "      <td>5</td>\n",
       "      <td>Que restriccion tiene @DrGiammattei preparado ...</td>\n",
       "      <td>1-ap</td>\n",
       "    </tr>\n",
       "    <tr>\n",
       "      <th>...</th>\n",
       "      <td>...</td>\n",
       "      <td>...</td>\n",
       "      <td>...</td>\n",
       "    </tr>\n",
       "    <tr>\n",
       "      <th>338772</th>\n",
       "      <td>0</td>\n",
       "      <td>@reinatorres7 Exactamente es el derecho de la ...</td>\n",
       "      <td>7-rel</td>\n",
       "    </tr>\n",
       "    <tr>\n",
       "      <th>338773</th>\n",
       "      <td>1</td>\n",
       "      <td>Esta gente mojigata del fandom BL que se queja...</td>\n",
       "      <td>7-rel</td>\n",
       "    </tr>\n",
       "    <tr>\n",
       "      <th>338774</th>\n",
       "      <td>0</td>\n",
       "      <td>Me dice un amigo, no si vos sos famosa, influe...</td>\n",
       "      <td>7-rel</td>\n",
       "    </tr>\n",
       "    <tr>\n",
       "      <th>338775</th>\n",
       "      <td>0</td>\n",
       "      <td>@Fernand12373883 Es su karma por burlarse de n...</td>\n",
       "      <td>7-rel</td>\n",
       "    </tr>\n",
       "    <tr>\n",
       "      <th>338776</th>\n",
       "      <td>1</td>\n",
       "      <td>@LizbethCaro07 ...o ya las aflojo o ya se.moch...</td>\n",
       "      <td>7-rel</td>\n",
       "    </tr>\n",
       "  </tbody>\n",
       "</table>\n",
       "<p>338777 rows × 3 columns</p>\n",
       "</div>"
      ],
      "text/plain": [
       "       Unnamed: 0                                          full_text categoria\n",
       "0               0  !Viva la \"diversidad\"! [?] \\n\\n!Proximamente e...      1-ap\n",
       "1               1  @tennissucios @TenochHuerta Jajajaja... Muy ac...      1-ap\n",
       "2               3  Hay momentos de la vida en los  que te das cue...      1-ap\n",
       "3               4   @hornyboysmex @Hombres_sexgay Hermoso  guerito !      1-ap\n",
       "4               5  Que restriccion tiene @DrGiammattei preparado ...      1-ap\n",
       "...           ...                                                ...       ...\n",
       "338772          0  @reinatorres7 Exactamente es el derecho de la ...     7-rel\n",
       "338773          1  Esta gente mojigata del fandom BL que se queja...     7-rel\n",
       "338774          0  Me dice un amigo, no si vos sos famosa, influe...     7-rel\n",
       "338775          0  @Fernand12373883 Es su karma por burlarse de n...     7-rel\n",
       "338776          1  @LizbethCaro07 ...o ya las aflojo o ya se.moch...     7-rel\n",
       "\n",
       "[338777 rows x 3 columns]"
      ]
     },
     "execution_count": 103,
     "metadata": {},
     "output_type": "execute_result"
    }
   ],
   "source": [
    "data = data[data[\"categoria\"]!='8-neu']\n",
    "data"
   ]
  },
  {
   "cell_type": "code",
   "execution_count": 104,
   "metadata": {},
   "outputs": [
    {
     "data": {
      "text/html": [
       "<div>\n",
       "<style scoped>\n",
       "    .dataframe tbody tr th:only-of-type {\n",
       "        vertical-align: middle;\n",
       "    }\n",
       "\n",
       "    .dataframe tbody tr th {\n",
       "        vertical-align: top;\n",
       "    }\n",
       "\n",
       "    .dataframe thead th {\n",
       "        text-align: right;\n",
       "    }\n",
       "</style>\n",
       "<table border=\"1\" class=\"dataframe\">\n",
       "  <thead>\n",
       "    <tr style=\"text-align: right;\">\n",
       "      <th></th>\n",
       "      <th>Unnamed: 0</th>\n",
       "      <th>full_text</th>\n",
       "      <th>categoria</th>\n",
       "    </tr>\n",
       "  </thead>\n",
       "  <tbody>\n",
       "    <tr>\n",
       "      <th>10193</th>\n",
       "      <td>5</td>\n",
       "      <td>Vida para ser eterna jodido  https://t.co/9Jqp...</td>\n",
       "      <td>1-ap</td>\n",
       "    </tr>\n",
       "    <tr>\n",
       "      <th>293914</th>\n",
       "      <td>25</td>\n",
       "      <td>ojo que dijo P O R D E S G R A C I A \\nque put...</td>\n",
       "      <td>6-or</td>\n",
       "    </tr>\n",
       "    <tr>\n",
       "      <th>28481</th>\n",
       "      <td>83</td>\n",
       "      <td>Tengo un amigo que siempre me dice que no cojo...</td>\n",
       "      <td>2-dis</td>\n",
       "    </tr>\n",
       "    <tr>\n",
       "      <th>298565</th>\n",
       "      <td>20</td>\n",
       "      <td>Cuando me peso y perdi % de musculo por no com...</td>\n",
       "      <td>6-or</td>\n",
       "    </tr>\n",
       "    <tr>\n",
       "      <th>89727</th>\n",
       "      <td>133</td>\n",
       "      <td>@ChinaBarraza @VicGarciaDice Puta si eso es ci...</td>\n",
       "      <td>4-gen</td>\n",
       "    </tr>\n",
       "    <tr>\n",
       "      <th>...</th>\n",
       "      <td>...</td>\n",
       "      <td>...</td>\n",
       "      <td>...</td>\n",
       "    </tr>\n",
       "    <tr>\n",
       "      <th>114263</th>\n",
       "      <td>27</td>\n",
       "      <td>@AztecaNoticiaGT Todos invitados a la mierda e...</td>\n",
       "      <td>4-gen</td>\n",
       "    </tr>\n",
       "    <tr>\n",
       "      <th>289456</th>\n",
       "      <td>17</td>\n",
       "      <td>Nmms ya deja trabajar en paz, puto castroso</td>\n",
       "      <td>6-or</td>\n",
       "    </tr>\n",
       "    <tr>\n",
       "      <th>59978</th>\n",
       "      <td>57</td>\n",
       "      <td>Puta pila no me esta durando nada</td>\n",
       "      <td>4-gen</td>\n",
       "    </tr>\n",
       "    <tr>\n",
       "      <th>267819</th>\n",
       "      <td>60</td>\n",
       "      <td>@ramon51878697 @LOVREGA Creo que un joto te co...</td>\n",
       "      <td>6-or</td>\n",
       "    </tr>\n",
       "    <tr>\n",
       "      <th>142106</th>\n",
       "      <td>42</td>\n",
       "      <td>Lo siento, yo jamas le diria de groserias a mi...</td>\n",
       "      <td>4-gen</td>\n",
       "    </tr>\n",
       "  </tbody>\n",
       "</table>\n",
       "<p>338777 rows × 3 columns</p>\n",
       "</div>"
      ],
      "text/plain": [
       "       Unnamed: 0                                          full_text categoria\n",
       "10193           5  Vida para ser eterna jodido  https://t.co/9Jqp...      1-ap\n",
       "293914         25  ojo que dijo P O R D E S G R A C I A \\nque put...      6-or\n",
       "28481          83  Tengo un amigo que siempre me dice que no cojo...     2-dis\n",
       "298565         20  Cuando me peso y perdi % de musculo por no com...      6-or\n",
       "89727         133  @ChinaBarraza @VicGarciaDice Puta si eso es ci...     4-gen\n",
       "...           ...                                                ...       ...\n",
       "114263         27  @AztecaNoticiaGT Todos invitados a la mierda e...     4-gen\n",
       "289456         17        Nmms ya deja trabajar en paz, puto castroso      6-or\n",
       "59978          57                  Puta pila no me esta durando nada     4-gen\n",
       "267819         60  @ramon51878697 @LOVREGA Creo que un joto te co...      6-or\n",
       "142106         42  Lo siento, yo jamas le diria de groserias a mi...     4-gen\n",
       "\n",
       "[338777 rows x 3 columns]"
      ]
     },
     "execution_count": 104,
     "metadata": {},
     "output_type": "execute_result"
    }
   ],
   "source": [
    "from sklearn.utils import shuffle\n",
    "data = shuffle(data)\n",
    "data"
   ]
  },
  {
   "cell_type": "code",
   "execution_count": 105,
   "metadata": {},
   "outputs": [
    {
     "data": {
      "text/html": [
       "<div>\n",
       "<style scoped>\n",
       "    .dataframe tbody tr th:only-of-type {\n",
       "        vertical-align: middle;\n",
       "    }\n",
       "\n",
       "    .dataframe tbody tr th {\n",
       "        vertical-align: top;\n",
       "    }\n",
       "\n",
       "    .dataframe thead th {\n",
       "        text-align: right;\n",
       "    }\n",
       "</style>\n",
       "<table border=\"1\" class=\"dataframe\">\n",
       "  <thead>\n",
       "    <tr style=\"text-align: right;\">\n",
       "      <th></th>\n",
       "      <th>Unnamed: 0</th>\n",
       "      <th>full_text</th>\n",
       "      <th>categoria</th>\n",
       "    </tr>\n",
       "  </thead>\n",
       "  <tbody>\n",
       "    <tr>\n",
       "      <th>10193</th>\n",
       "      <td>5</td>\n",
       "      <td>Vida para ser eterna jodido  https://t.co/9Jqp...</td>\n",
       "      <td>1-ap</td>\n",
       "    </tr>\n",
       "    <tr>\n",
       "      <th>293914</th>\n",
       "      <td>25</td>\n",
       "      <td>ojo que dijo P O R D E S G R A C I A \\nque put...</td>\n",
       "      <td>6-or</td>\n",
       "    </tr>\n",
       "    <tr>\n",
       "      <th>28481</th>\n",
       "      <td>83</td>\n",
       "      <td>Tengo un amigo que siempre me dice que no cojo...</td>\n",
       "      <td>2-dis</td>\n",
       "    </tr>\n",
       "    <tr>\n",
       "      <th>298565</th>\n",
       "      <td>20</td>\n",
       "      <td>Cuando me peso y perdi % de musculo por no com...</td>\n",
       "      <td>6-or</td>\n",
       "    </tr>\n",
       "    <tr>\n",
       "      <th>89727</th>\n",
       "      <td>133</td>\n",
       "      <td>@ChinaBarraza @VicGarciaDice Puta si eso es ci...</td>\n",
       "      <td>4-gen</td>\n",
       "    </tr>\n",
       "    <tr>\n",
       "      <th>...</th>\n",
       "      <td>...</td>\n",
       "      <td>...</td>\n",
       "      <td>...</td>\n",
       "    </tr>\n",
       "    <tr>\n",
       "      <th>14072</th>\n",
       "      <td>11</td>\n",
       "      <td>@jesusarroyo39 @roberta_diazv @Fernilalanina E...</td>\n",
       "      <td>1-ap</td>\n",
       "    </tr>\n",
       "    <tr>\n",
       "      <th>167641</th>\n",
       "      <td>61</td>\n",
       "      <td>Ofrecele cafe a tu puta madre pinche anciano.</td>\n",
       "      <td>4-gen</td>\n",
       "    </tr>\n",
       "    <tr>\n",
       "      <th>57677</th>\n",
       "      <td>150</td>\n",
       "      <td>Maxi es una puta mentira</td>\n",
       "      <td>4-gen</td>\n",
       "    </tr>\n",
       "    <tr>\n",
       "      <th>319842</th>\n",
       "      <td>175</td>\n",
       "      <td>Que pinche necesidad del vecino de prender su ...</td>\n",
       "      <td>6-or</td>\n",
       "    </tr>\n",
       "    <tr>\n",
       "      <th>241292</th>\n",
       "      <td>4</td>\n",
       "      <td>@EITopete @JLozanoA Como fiel chairo siempre t...</td>\n",
       "      <td>5-id</td>\n",
       "    </tr>\n",
       "  </tbody>\n",
       "</table>\n",
       "<p>1000 rows × 3 columns</p>\n",
       "</div>"
      ],
      "text/plain": [
       "       Unnamed: 0                                          full_text categoria\n",
       "10193           5  Vida para ser eterna jodido  https://t.co/9Jqp...      1-ap\n",
       "293914         25  ojo que dijo P O R D E S G R A C I A \\nque put...      6-or\n",
       "28481          83  Tengo un amigo que siempre me dice que no cojo...     2-dis\n",
       "298565         20  Cuando me peso y perdi % de musculo por no com...      6-or\n",
       "89727         133  @ChinaBarraza @VicGarciaDice Puta si eso es ci...     4-gen\n",
       "...           ...                                                ...       ...\n",
       "14072          11  @jesusarroyo39 @roberta_diazv @Fernilalanina E...      1-ap\n",
       "167641         61      Ofrecele cafe a tu puta madre pinche anciano.     4-gen\n",
       "57677         150                           Maxi es una puta mentira     4-gen\n",
       "319842        175  Que pinche necesidad del vecino de prender su ...      6-or\n",
       "241292          4  @EITopete @JLozanoA Como fiel chairo siempre t...      5-id\n",
       "\n",
       "[1000 rows x 3 columns]"
      ]
     },
     "execution_count": 105,
     "metadata": {},
     "output_type": "execute_result"
    }
   ],
   "source": [
    "data = data.iloc[0:1000]\n",
    "data"
   ]
  },
  {
   "cell_type": "code",
   "execution_count": 106,
   "metadata": {},
   "outputs": [],
   "source": [
    "obj_Discr.str_StopWords='StopWords.p'\n",
    "obj_Discr.CargarStopWords()\n",
    "\n",
    "data = obj_Discr.LimpiarDataFrame(data)\n",
    "data = obj_Discr.QuitarStopWordsDataFrame(data)"
   ]
  },
  {
   "cell_type": "code",
   "execution_count": 107,
   "metadata": {},
   "outputs": [
    {
     "data": {
      "text/plain": [
       "4-gen    473\n",
       "6-or     259\n",
       "5-id      93\n",
       "1-ap      83\n",
       "2-dis     68\n",
       "3-ed      19\n",
       "7-rel      5\n",
       "Name: categoria, dtype: int64"
      ]
     },
     "execution_count": 107,
     "metadata": {},
     "output_type": "execute_result"
    }
   ],
   "source": [
    "data[\"categoria\"].value_counts()"
   ]
  },
  {
   "cell_type": "code",
   "execution_count": 108,
   "metadata": {},
   "outputs": [
    {
     "name": "stdout",
     "output_type": "stream",
     "text": [
      "(800, 3)\n",
      "(200, 3)\n"
     ]
    },
    {
     "data": {
      "text/plain": [
       "array(['6-or', '4-gen', '3-ed', '2-dis', '1-ap', '5-id', '7-rel'],\n",
       "      dtype=object)"
      ]
     },
     "execution_count": 108,
     "metadata": {},
     "output_type": "execute_result"
    }
   ],
   "source": [
    "train, test = train_test_split(data, test_size=0.2)\n",
    "print(train.shape)\n",
    "print(test.shape)\n",
    "test.categoria.unique()"
   ]
  },
  {
   "cell_type": "code",
   "execution_count": 109,
   "metadata": {},
   "outputs": [
    {
     "data": {
      "text/plain": [
       "(800, 300)"
      ]
     },
     "execution_count": 109,
     "metadata": {},
     "output_type": "execute_result"
    }
   ],
   "source": [
    "npEmbeddings = np.empty([0, 300])\n",
    "\n",
    "for texto in train['full_text']:\n",
    "    \n",
    "    #print(texto)\n",
    "    \n",
    "    # process a sentence using the model\n",
    "    doc = nlp(texto)\n",
    "    \n",
    "    # print(doc.vector.shape)\n",
    "    if doc.vector.shape[0]==300:\n",
    "        npEmbeddings = np.append(npEmbeddings, [doc.vector], axis = 0)\n",
    "    else:\n",
    "        npAux = np.empty([1, 300])\n",
    "        npEmbeddings = np.append(npEmbeddings, npAux, axis = 0)\n",
    "\n",
    "npEmbeddings.shape"
   ]
  },
  {
   "cell_type": "code",
   "execution_count": 110,
   "metadata": {},
   "outputs": [
    {
     "name": "stdout",
     "output_type": "stream",
     "text": [
      "Fitting 2 folds for each of 16 candidates, totalling 32 fits\n"
     ]
    },
    {
     "name": "stderr",
     "output_type": "stream",
     "text": [
      "[Parallel(n_jobs=-1)]: Using backend LokyBackend with 12 concurrent workers.\n",
      "[Parallel(n_jobs=-1)]: Done   8 tasks      | elapsed:    1.4s\n",
      "[Parallel(n_jobs=-1)]: Done  20 out of  32 | elapsed:    1.5s remaining:    0.9s\n",
      "[Parallel(n_jobs=-1)]: Done  32 out of  32 | elapsed:    2.0s finished\n",
      "[Parallel(n_jobs=-1)]: Using backend LokyBackend with 12 concurrent workers.\n"
     ]
    },
    {
     "name": "stdout",
     "output_type": "stream",
     "text": [
      "grid_search.best_params_:  {'max_depth': 4, 'max_features': 'sqrt', 'min_samples_leaf': 7, 'min_samples_split': 4}\n",
      "grid_search.best_score_:  0.5925\n",
      "Fitting 2 folds for each of 16 candidates, totalling 32 fits\n"
     ]
    },
    {
     "name": "stderr",
     "output_type": "stream",
     "text": [
      "[Parallel(n_jobs=-1)]: Done   8 tasks      | elapsed:    0.4s\n",
      "[Parallel(n_jobs=-1)]: Done  20 out of  32 | elapsed:    0.8s remaining:    0.5s\n",
      "[Parallel(n_jobs=-1)]: Done  32 out of  32 | elapsed:    1.0s finished\n",
      "/home/francisco/anaconda3/envs/discriminamometro/lib/python3.7/site-packages/sklearn/model_selection/_search.py:739: DataConversionWarning: A column-vector y was passed when a 1d array was expected. Please change the shape of y to (n_samples,), for example using ravel().\n",
      "  self.best_estimator_.fit(X, y, **fit_params)\n"
     ]
    },
    {
     "name": "stdout",
     "output_type": "stream",
     "text": [
      "grid_search.best_params_:  {'max_depth': 7, 'max_features': 'sqrt', 'min_samples_leaf': 3, 'min_samples_split': 4, 'n_estimators': 50}\n",
      "grid_search.best_score_:  0.7537499999999999\n",
      "Fitting 2 folds for each of 504 candidates, totalling 1008 fits\n"
     ]
    },
    {
     "name": "stderr",
     "output_type": "stream",
     "text": [
      "[Parallel(n_jobs=-1)]: Using backend LokyBackend with 12 concurrent workers.\n",
      "[Parallel(n_jobs=-1)]: Done   8 tasks      | elapsed:    3.5s\n",
      "[Parallel(n_jobs=-1)]: Done 104 tasks      | elapsed:   26.3s\n",
      "[Parallel(n_jobs=-1)]: Done 264 tasks      | elapsed:  1.2min\n",
      "[Parallel(n_jobs=-1)]: Done 488 tasks      | elapsed:  1.9min\n",
      "[Parallel(n_jobs=-1)]: Done 776 tasks      | elapsed:  2.7min\n",
      "[Parallel(n_jobs=-1)]: Done 1008 out of 1008 | elapsed:  4.0min finished\n",
      "/home/francisco/anaconda3/envs/discriminamometro/lib/python3.7/site-packages/sklearn/ensemble/_gb.py:1454: DataConversionWarning: A column-vector y was passed when a 1d array was expected. Please change the shape of y to (n_samples, ), for example using ravel().\n",
      "  y = column_or_1d(y, warn=True)\n"
     ]
    },
    {
     "name": "stdout",
     "output_type": "stream",
     "text": [
      "grid_search.best_params_:  {'learning_rate': 0.1, 'max_depth': 3, 'max_features': 'log2', 'min_samples_leaf': 7, 'min_samples_split': 16, 'n_estimators': 150}\n",
      "grid_search.best_score_:  0.8225\n"
     ]
    }
   ],
   "source": [
    "X_train = pd.DataFrame(npEmbeddings)\n",
    "Y_train = pd.DataFrame(train.categoria)\n",
    "arrModelos = Prep_Modelos(npNombreModelos)\n",
    "\n",
    "# #Se corre el magic loop para realizar las predicciones con los parámetros previamente establecidos\n",
    "best_model,npGridSearchCv = Correr_Magic_Loop(arrModelos,\n",
    "                                    npDictHiperParam,\n",
    "                                    X_train,\n",
    "                                    Y_train,\n",
    "                                    2,\n",
    "                                    'accuracy')\n",
    "\n",
    "npArrBestScores = np.array([])\n",
    "npArrBestParams = np.array([])\n",
    "\n",
    "# Barremos el arreglo de GridSearchCV´s para sacar los mejores scores y parámetros\n",
    "for grid in npGridSearchCv:\n",
    "    npArrBestScores = np.append(npArrBestScores, grid.best_score_)\n",
    "    npArrBestParams = np.append(npArrBestParams, grid.best_params_)"
   ]
  },
  {
   "cell_type": "code",
   "execution_count": 111,
   "metadata": {},
   "outputs": [
    {
     "data": {
      "text/plain": [
       "GradientBoostingClassifier(ccp_alpha=0.0, criterion='friedman_mse', init=None,\n",
       "                           learning_rate=0.1, loss='deviance', max_depth=3,\n",
       "                           max_features='log2', max_leaf_nodes=None,\n",
       "                           min_impurity_decrease=0.0, min_impurity_split=None,\n",
       "                           min_samples_leaf=7, min_samples_split=16,\n",
       "                           min_weight_fraction_leaf=0.0, n_estimators=150,\n",
       "                           n_iter_no_change=None, presort='deprecated',\n",
       "                           random_state=None, subsample=1.0, tol=0.0001,\n",
       "                           validation_fraction=0.1, verbose=0,\n",
       "                           warm_start=False)"
      ]
     },
     "execution_count": 111,
     "metadata": {},
     "output_type": "execute_result"
    }
   ],
   "source": [
    "# Obtenemos el índice del mejor score\n",
    "nbrIndiceGanador = np.argmax(npArrBestScores, axis=0)\n",
    "\n",
    "# Mostramos el modelo, parámetros y score ganador\n",
    "# print(\"Modelo ganador: \\n\", arrModelos[nbrIndiceGanador])\n",
    "# print(\"Score del modelo ganador: \\n\", npArrBestScores[nbrIndiceGanador])\n",
    "# print(\"Parametros del modelo ganador: \\n\", npArrBestParams[nbrIndiceGanador])\n",
    "\n",
    "# Se instancia el modelo ganador\n",
    "# self.ModeloGanadorMagicLoop = objEda.InstanciarModeloDinamico(npNombreModelos, nbrIndiceGanador, npArrBestParams[nbrIndiceGanador])\n",
    "ModeloGanadorMagicLoop = best_model\n",
    "ModeloGanadorMagicLoop"
   ]
  },
  {
   "cell_type": "markdown",
   "metadata": {},
   "source": [
    "# Test"
   ]
  },
  {
   "cell_type": "code",
   "execution_count": 112,
   "metadata": {},
   "outputs": [
    {
     "data": {
      "text/plain": [
       "(200, 300)"
      ]
     },
     "execution_count": 112,
     "metadata": {},
     "output_type": "execute_result"
    }
   ],
   "source": [
    "npEmbeddings2 = np.empty([0, 300])\n",
    "for texto in test['full_text']:\n",
    "    \n",
    "    #print(frase)\n",
    "    \n",
    "    # process a sentence using the model\n",
    "    doc = nlp(texto)\n",
    "    \n",
    "    # print(doc.vector.shape)\n",
    "    #print(npEmbeddings.shape)\n",
    "    #print(doc.vector.shape)\n",
    "    \n",
    "    if doc.vector.shape[0]==300:\n",
    "        npEmbeddings2 = np.append(npEmbeddings2, [doc.vector], axis = 0)\n",
    "    else:\n",
    "        npAux = np.empty([1, 300])\n",
    "        doc = nlp('prueba')\n",
    "        #npEmbeddings = np.append(npEmbeddings, npAux, axis = 0)\n",
    "        npEmbeddings2 = np.append(npEmbeddings2, [doc.vector], axis = 0)\n",
    "        predicted_svm = clf.predict([doc.vector])\n",
    "        \n",
    "npEmbeddings2.shape"
   ]
  },
  {
   "cell_type": "code",
   "execution_count": 113,
   "metadata": {},
   "outputs": [],
   "source": [
    "classifier = ModeloGanadorMagicLoop\n",
    "X_test = npEmbeddings2 #pensé que era por eso el error jajaja ntp ahorita veoq ue show\n",
    "y_test = test.categoria\n",
    "class_names = ['1-ap','2-dis','3-ed', '4-gen',\n",
    "               '5-id', '6-or', '7-rel']"
   ]
  },
  {
   "cell_type": "code",
   "execution_count": 114,
   "metadata": {},
   "outputs": [
    {
     "name": "stdout",
     "output_type": "stream",
     "text": [
      "(200, 300)\n",
      "(200,)\n"
     ]
    },
    {
     "data": {
      "text/plain": [
       "array(['6-or', '4-gen', '3-ed', '2-dis', '1-ap', '5-id', '7-rel'],\n",
       "      dtype=object)"
      ]
     },
     "execution_count": 114,
     "metadata": {},
     "output_type": "execute_result"
    }
   ],
   "source": [
    "print(X_test.shape)\n",
    "print(y_test.shape)\n",
    "test.categoria.unique()\n"
   ]
  },
  {
   "cell_type": "code",
   "execution_count": 115,
   "metadata": {},
   "outputs": [
    {
     "name": "stdout",
     "output_type": "stream",
     "text": [
      "Confusion matrix, without normalization\n",
      "[[  8   0   0   2   0   6   0]\n",
      " [  1   8   0   4   1   1   0]\n",
      " [  0   0   0   2   0   0   0]\n",
      " [  1   0   0 106   0   0   0]\n",
      " [  0   0   0   2  12   3   0]\n",
      " [  0   0   0   0   1  41   0]\n",
      " [  0   0   0   1   0   0   0]]\n",
      "Normalized confusion matrix\n",
      "[[0.5        0.         0.         0.125      0.         0.375\n",
      "  0.        ]\n",
      " [0.06666667 0.53333333 0.         0.26666667 0.06666667 0.06666667\n",
      "  0.        ]\n",
      " [0.         0.         0.         1.         0.         0.\n",
      "  0.        ]\n",
      " [0.00934579 0.         0.         0.99065421 0.         0.\n",
      "  0.        ]\n",
      " [0.         0.         0.         0.11764706 0.70588235 0.17647059\n",
      "  0.        ]\n",
      " [0.         0.         0.         0.         0.02380952 0.97619048\n",
      "  0.        ]\n",
      " [0.         0.         0.         1.         0.         0.\n",
      "  0.        ]]\n"
     ]
    },
    {
     "data": {
      "image/png": "[encoded data removed]",
      "text/plain": [
       "<Figure size 432x288 with 2 Axes>"
      ]
     },
     "metadata": {
      "needs_background": "light"
     },
     "output_type": "display_data"
    },
    {
     "data": {
      "image/png": "[encoded data removed]",
      "text/plain": [
       "<Figure size 432x288 with 2 Axes>"
      ]
     },
     "metadata": {
      "needs_background": "light"
     },
     "output_type": "display_data"
    }
   ],
   "source": [
    "from sklearn.metrics import plot_confusion_matrix\n",
    "import matplotlib.pyplot as plt\n",
    "\n",
    "# Plot non-normalized confusion matrix\n",
    "titles_options = [(\"Confusion matrix, without normalization\", None),\n",
    "                  (\"Normalized confusion matrix\", 'true')]\n",
    "for title, normalize in titles_options:\n",
    "    disp = plot_confusion_matrix(classifier, X_test, y_test,\n",
    "                                 display_labels=class_names,\n",
    "                                 cmap=plt.cm.Blues,\n",
    "                                 normalize=normalize)\n",
    "    disp.ax_.set_title(title)\n",
    "\n",
    "    print(title)\n",
    "    print(disp.confusion_matrix)\n",
    "\n",
    "plt.show()"
   ]
  },
  {
   "cell_type": "code",
   "execution_count": 97,
   "metadata": {},
   "outputs": [
    {
     "ename": "NameError",
     "evalue": "name 'picklllleFile' is not defined",
     "output_type": "error",
     "traceback": [
      "\u001b[0;31m---------------------------------------------------------------------------\u001b[0m",
      "\u001b[0;31mNameError\u001b[0m                                 Traceback (most recent call last)",
      "\u001b[0;32m<ipython-input-97-8f31f4f1fa35>\u001b[0m in \u001b[0;36m<module>\u001b[0;34m\u001b[0m\n\u001b[1;32m      3\u001b[0m \u001b[0mpickleFile\u001b[0m \u001b[0;34m=\u001b[0m \u001b[0mopen\u001b[0m\u001b[0;34m(\u001b[0m\u001b[0;34m'modelo_multiclase_v1.p'\u001b[0m\u001b[0;34m,\u001b[0m\u001b[0;34m'wb'\u001b[0m\u001b[0;34m)\u001b[0m\u001b[0;34m\u001b[0m\u001b[0;34m\u001b[0m\u001b[0m\n\u001b[1;32m      4\u001b[0m \u001b[0mpickle\u001b[0m\u001b[0;34m.\u001b[0m\u001b[0mdump\u001b[0m\u001b[0;34m(\u001b[0m\u001b[0mModeloGanadorMagicLoop\u001b[0m\u001b[0;34m,\u001b[0m \u001b[0mpickleFile\u001b[0m\u001b[0;34m)\u001b[0m\u001b[0;34m\u001b[0m\u001b[0;34m\u001b[0m\u001b[0m\n\u001b[0;32m----> 5\u001b[0;31m \u001b[0mpicklllleFile\u001b[0m\u001b[0;34m.\u001b[0m\u001b[0mclose\u001b[0m\u001b[0;34m(\u001b[0m\u001b[0;34m)\u001b[0m\u001b[0;34m\u001b[0m\u001b[0;34m\u001b[0m\u001b[0m\n\u001b[0m",
      "\u001b[0;31mNameError\u001b[0m: name 'picklllleFile' is not defined"
     ]
    }
   ],
   "source": [
    "import pickle as pickle\n",
    "\n",
    "pickleFile = open('modelo_multiclase_v1.p','wb')\n",
    "pickle.dump(ModeloGanadorMagicLoop, pickleFile)\n",
    "picklllleFile.close()\n"
   ]
  }
 ],
 "metadata": {
  "kernelspec": {
   "display_name": "Python 3",
   "language": "python",
   "name": "python3"
  },
  "language_info": {
   "codemirror_mode": {
    "name": "ipython",
    "version": 3
   },
   "file_extension": ".py",
   "mimetype": "text/x-python",
   "name": "python",
   "nbconvert_exporter": "python",
   "pygments_lexer": "ipython3",
   "version": "3.7.6"
  }
 },
 "nbformat": 4,
 "nbformat_minor": 4
}
