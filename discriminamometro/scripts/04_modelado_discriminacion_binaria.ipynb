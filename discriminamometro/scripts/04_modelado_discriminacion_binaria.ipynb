{
 "cells": [
  {
   "cell_type": "code",
   "execution_count": 60,
   "metadata": {},
   "outputs": [
    {
     "name": "stdout",
     "output_type": "stream",
     "text": [
      "8\n"
     ]
    }
   ],
   "source": [
    "from Discriminamometro import Utileria, Discriminamometro\n",
    "import pandas as pd\n",
    "import spacy\n",
    "import numpy as np\n",
    "from sklearn.model_selection import train_test_split\n",
    "from sklearn.linear_model import SGDClassifier\n",
    "\n",
    "\n",
    "nlp = spacy.load('./data/tweets/')\n",
    "# Se instancia la clase del Discriminamometro\n",
    "obj_Discr = Discriminamometro('PRUEBA')\n",
    "\n",
    "# Mostramos la cantidad de tweets\n",
    "print(obj_Discr.nbr_TweetsXCorrida)"
   ]
  },
  {
   "cell_type": "code",
   "execution_count": 61,
   "metadata": {},
   "outputs": [],
   "source": [
    "data = pd.read_csv(\"data/Tuits Discriminatorios - jul2020 - Muestra Tuits.csv\")"
   ]
  },
  {
   "cell_type": "code",
   "execution_count": 62,
   "metadata": {},
   "outputs": [],
   "source": [
    "data.columns = ['full_text', 'categoria', 'disc', 'Observaciones']\n",
    "data[\"disc\"] = data[\"disc\"].replace(['???'],'SI')"
   ]
  },
  {
   "cell_type": "code",
   "execution_count": 63,
   "metadata": {},
   "outputs": [
    {
     "data": {
      "text/plain": [
       "NO    631\n",
       "SI    369\n",
       "Name: disc, dtype: int64"
      ]
     },
     "execution_count": 63,
     "metadata": {},
     "output_type": "execute_result"
    }
   ],
   "source": [
    "data[\"disc\"].value_counts()"
   ]
  },
  {
   "cell_type": "code",
   "execution_count": 64,
   "metadata": {},
   "outputs": [],
   "source": [
    "data[\"disc\"] = data[\"disc\"].replace(['SI'],1)\n",
    "data[\"disc\"] = data[\"disc\"].replace(['NO'],0)"
   ]
  },
  {
   "cell_type": "code",
   "execution_count": 65,
   "metadata": {},
   "outputs": [
    {
     "data": {
      "text/html": [
       "<div>\n",
       "<style scoped>\n",
       "    .dataframe tbody tr th:only-of-type {\n",
       "        vertical-align: middle;\n",
       "    }\n",
       "\n",
       "    .dataframe tbody tr th {\n",
       "        vertical-align: top;\n",
       "    }\n",
       "\n",
       "    .dataframe thead th {\n",
       "        text-align: right;\n",
       "    }\n",
       "</style>\n",
       "<table border=\"1\" class=\"dataframe\">\n",
       "  <thead>\n",
       "    <tr style=\"text-align: right;\">\n",
       "      <th></th>\n",
       "      <th>full_text</th>\n",
       "      <th>categoria</th>\n",
       "      <th>disc</th>\n",
       "      <th>Observaciones</th>\n",
       "    </tr>\n",
       "  </thead>\n",
       "  <tbody>\n",
       "    <tr>\n",
       "      <th>0</th>\n",
       "      <td>!Viva la \"diversidad\"! [?] \\n\\n!Proximamente e...</td>\n",
       "      <td>apariencia</td>\n",
       "      <td>0</td>\n",
       "      <td>capaz que la imagen es discriminatoria</td>\n",
       "    </tr>\n",
       "    <tr>\n",
       "      <th>1</th>\n",
       "      <td>@tennissucios @TenochHuerta Jajajaja... Muy ac...</td>\n",
       "      <td>apariencia</td>\n",
       "      <td>0</td>\n",
       "      <td>NaN</td>\n",
       "    </tr>\n",
       "    <tr>\n",
       "      <th>2</th>\n",
       "      <td>Hay momentos de la vida en los que te das cuen...</td>\n",
       "      <td>apariencia</td>\n",
       "      <td>0</td>\n",
       "      <td>NaN</td>\n",
       "    </tr>\n",
       "    <tr>\n",
       "      <th>3</th>\n",
       "      <td>@hornyboysmex @Hombres_sexgay Hermoso guerito !</td>\n",
       "      <td>apariencia</td>\n",
       "      <td>0</td>\n",
       "      <td>sextuiter es un mundo raro</td>\n",
       "    </tr>\n",
       "    <tr>\n",
       "      <th>4</th>\n",
       "      <td>Que restriccion tiene @DrGiammattei preparado ...</td>\n",
       "      <td>apariencia</td>\n",
       "      <td>0</td>\n",
       "      <td>NaN</td>\n",
       "    </tr>\n",
       "  </tbody>\n",
       "</table>\n",
       "</div>"
      ],
      "text/plain": [
       "                                           full_text   categoria  disc  \\\n",
       "0  !Viva la \"diversidad\"! [?] \\n\\n!Proximamente e...  apariencia     0   \n",
       "1  @tennissucios @TenochHuerta Jajajaja... Muy ac...  apariencia     0   \n",
       "2  Hay momentos de la vida en los que te das cuen...  apariencia     0   \n",
       "3    @hornyboysmex @Hombres_sexgay Hermoso guerito !  apariencia     0   \n",
       "4  Que restriccion tiene @DrGiammattei preparado ...  apariencia     0   \n",
       "\n",
       "                            Observaciones  \n",
       "0  capaz que la imagen es discriminatoria  \n",
       "1                                     NaN  \n",
       "2                                     NaN  \n",
       "3              sextuiter es un mundo raro  \n",
       "4                                     NaN  "
      ]
     },
     "execution_count": 65,
     "metadata": {},
     "output_type": "execute_result"
    }
   ],
   "source": [
    "data.head()"
   ]
  },
  {
   "cell_type": "code",
   "execution_count": 66,
   "metadata": {},
   "outputs": [],
   "source": [
    "obj_Discr.str_StopWords='StopWords.p'\n",
    "obj_Discr.CargarStopWords()\n",
    "\n",
    "data = obj_Discr.LimpiarDataFrame(data)\n",
    "data = obj_Discr.QuitarStopWordsDataFrame(data)"
   ]
  },
  {
   "cell_type": "code",
   "execution_count": 67,
   "metadata": {},
   "outputs": [],
   "source": [
    "train, test = train_test_split(data, test_size=0.2)"
   ]
  },
  {
   "cell_type": "code",
   "execution_count": 68,
   "metadata": {},
   "outputs": [
    {
     "data": {
      "text/plain": [
       "(800, 300)"
      ]
     },
     "execution_count": 68,
     "metadata": {},
     "output_type": "execute_result"
    }
   ],
   "source": [
    "npEmbeddings = np.empty([0, 300])\n",
    "\n",
    "for texto in train['full_text']:\n",
    "    \n",
    "    #print(texto)\n",
    "    \n",
    "    # process a sentence using the model\n",
    "    doc = nlp(texto)\n",
    "    \n",
    "    # print(doc.vector.shape)\n",
    "    if doc.vector.shape[0]==300:\n",
    "        npEmbeddings = np.append(npEmbeddings, [doc.vector], axis = 0)\n",
    "    else:\n",
    "        npAux = np.empty([1, 300])\n",
    "        npEmbeddings = np.append(npEmbeddings, npAux, axis = 0)\n",
    "\n",
    "npEmbeddings.shape"
   ]
  },
  {
   "cell_type": "code",
   "execution_count": 69,
   "metadata": {},
   "outputs": [],
   "source": [
    "import numpy as np\n",
    "from sklearn.ensemble import GradientBoostingClassifier\n",
    "from sklearn.ensemble import RandomForestClassifier\n",
    "from sklearn.model_selection import GridSearchCV\n",
    "from sklearn import tree\n",
    "import pandas as pd\n",
    "import os"
   ]
  },
  {
   "cell_type": "code",
   "execution_count": 70,
   "metadata": {},
   "outputs": [],
   "source": [
    "def Correr_Magic_Loop( npClassifier, npDictHyperParams, X_train, Y_train, nbrCv, strScoring):\n",
    "\n",
    "        npResultados = np.array([])\n",
    "        for i, classifier in enumerate(npClassifier):\n",
    "            dictHyperParams = npDictHyperParams[i]\n",
    "            grid_search = GridSearchCV(classifier,\n",
    "                                       dictHyperParams,\n",
    "                                       scoring=strScoring,\n",
    "                                       cv=nbrCv,\n",
    "                                       n_jobs=-1,\n",
    "                                       verbose=3\n",
    "                                       )\n",
    "            grid_search.fit(X_train, Y_train)\n",
    "            npResultados = np.append(npResultados, grid_search)\n",
    "\n",
    "            # de los valores posibles que pusimos en el grid, cuáles fueron los mejores\n",
    "            print('grid_search.best_params_: ', grid_search.best_params_)\n",
    "\n",
    "            # mejor score asociado a los modelos generados con los diferentes hiperparametros\n",
    "            # corresponde al promedio de los scores generados con los cv\n",
    "            print('grid_search.best_score_: ', grid_search.best_score_)\n",
    "\n",
    "            best_model = grid_search.best_estimator_\n",
    "\n",
    "\n",
    "        return best_model, npResultados"
   ]
  },
  {
   "cell_type": "code",
   "execution_count": 71,
   "metadata": {},
   "outputs": [],
   "source": [
    "def Prep_Modelos(npModelos):\n",
    "\n",
    "    npArrayModelos = np.array([])\n",
    "    for strModelo in npModelos:\n",
    "\n",
    "        if strModelo == 'DECTREE':\n",
    "            classifier = tree.DecisionTreeClassifier()\n",
    "        if strModelo == 'RANDOMF':\n",
    "            classifier = RandomForestClassifier()\n",
    "        if strModelo == 'XGBOOST':\n",
    "            classifier = GradientBoostingClassifier()\n",
    "\n",
    "        npArrayModelos = np.append(npArrayModelos, classifier)\n",
    "\n",
    "    return npArrayModelos"
   ]
  },
  {
   "cell_type": "code",
   "execution_count": 72,
   "metadata": {},
   "outputs": [],
   "source": [
    "npDictHiperParam = np.array([]) \n",
    "# Parametrización para Árboles\n",
    "dictHyperParams = {'max_depth': [4,7],  # \n",
    "                   'min_samples_split': [4,16],  # \n",
    "                   'min_samples_leaf': [3,7],  # \n",
    "                   'max_features': ['sqrt','log2']  # \n",
    "                   }\n",
    "npDictHiperParam = np.append(npDictHiperParam, dictHyperParams)\n",
    "\n",
    "# Parametrización para Bosques\n",
    "dictHyperParams = {'n_estimators': [50],  # Se redujo a 50\n",
    "                   'max_depth': [4,7],  # \n",
    "                   'max_features': ['sqrt','log2'],\n",
    "                   'min_samples_split': [4,16],\n",
    "                   'min_samples_leaf': [3,7]\n",
    "                   }\n",
    "npDictHiperParam = np.append(npDictHiperParam, dictHyperParams)\n",
    "\n",
    "# Parametrización para XGBoost\n",
    "dictHyperParams = {'learning_rate': [0.1,0.25, 0.75],\n",
    "                   'n_estimators': [50,100,150],  # Se redujo a 50\n",
    "                   'min_samples_split': [4,16],\n",
    "                   'min_samples_leaf': [3,7],\n",
    "                   'max_depth': [3,4,5,6,7,10,15],\n",
    "                   'max_features': ['sqrt','log2']\n",
    "                   }\n",
    "npDictHiperParam = np.append(npDictHiperParam, dictHyperParams)\n",
    "\n",
    "# Se crean los modelos de clasificaión que se emplearán (en el mismo orden que los diccionarios)\n",
    "npNombreModelos = np.array([])\n",
    "npNombreModelos = np.append(npNombreModelos, 'DECTREE')\n",
    "npNombreModelos = np.append(npNombreModelos, 'RANDOMF')\n",
    "npNombreModelos = np.append(npNombreModelos, 'XGBOOST')"
   ]
  },
  {
   "cell_type": "code",
   "execution_count": 73,
   "metadata": {},
   "outputs": [
    {
     "name": "stdout",
     "output_type": "stream",
     "text": [
      "Fitting 5 folds for each of 16 candidates, totalling 80 fits\n"
     ]
    },
    {
     "name": "stderr",
     "output_type": "stream",
     "text": [
      "[Parallel(n_jobs=-1)]: Using backend LokyBackend with 4 concurrent workers.\n",
      "[Parallel(n_jobs=-1)]: Done  24 tasks      | elapsed:    1.3s\n",
      "[Parallel(n_jobs=-1)]: Done  80 out of  80 | elapsed:    1.5s finished\n",
      "/opt/tljh/user/lib/python3.7/site-packages/numpy/core/fromnumeric.py:90: RuntimeWarning: invalid value encountered in reduce\n",
      "  return ufunc.reduce(obj, axis, dtype, out, **passkwargs)\n"
     ]
    },
    {
     "ename": "ValueError",
     "evalue": "Input contains NaN, infinity or a value too large for dtype('float32').",
     "output_type": "error",
     "traceback": [
      "\u001b[0;31m---------------------------------------------------------------------------\u001b[0m",
      "\u001b[0;31mValueError\u001b[0m                                Traceback (most recent call last)",
      "\u001b[0;32m<ipython-input-73-00d8c0e85d91>\u001b[0m in \u001b[0;36m<module>\u001b[0;34m\u001b[0m\n\u001b[1;32m      9\u001b[0m                                     \u001b[0mY_train\u001b[0m\u001b[0;34m,\u001b[0m\u001b[0;34m\u001b[0m\u001b[0;34m\u001b[0m\u001b[0m\n\u001b[1;32m     10\u001b[0m                                     \u001b[0;36m5\u001b[0m\u001b[0;34m,\u001b[0m\u001b[0;34m\u001b[0m\u001b[0;34m\u001b[0m\u001b[0m\n\u001b[0;32m---> 11\u001b[0;31m                                     'roc_auc')\n\u001b[0m\u001b[1;32m     12\u001b[0m \u001b[0;34m\u001b[0m\u001b[0m\n\u001b[1;32m     13\u001b[0m \u001b[0mnpArrBestScores\u001b[0m \u001b[0;34m=\u001b[0m \u001b[0mnp\u001b[0m\u001b[0;34m.\u001b[0m\u001b[0marray\u001b[0m\u001b[0;34m(\u001b[0m\u001b[0;34m[\u001b[0m\u001b[0;34m]\u001b[0m\u001b[0;34m)\u001b[0m\u001b[0;34m\u001b[0m\u001b[0;34m\u001b[0m\u001b[0m\n",
      "\u001b[0;32m<ipython-input-70-fe51dd623705>\u001b[0m in \u001b[0;36mCorrer_Magic_Loop\u001b[0;34m(npClassifier, npDictHyperParams, X_train, Y_train, nbrCv, strScoring)\u001b[0m\n\u001b[1;32m     11\u001b[0m                                        \u001b[0mverbose\u001b[0m\u001b[0;34m=\u001b[0m\u001b[0;36m3\u001b[0m\u001b[0;34m\u001b[0m\u001b[0;34m\u001b[0m\u001b[0m\n\u001b[1;32m     12\u001b[0m                                        )\n\u001b[0;32m---> 13\u001b[0;31m             \u001b[0mgrid_search\u001b[0m\u001b[0;34m.\u001b[0m\u001b[0mfit\u001b[0m\u001b[0;34m(\u001b[0m\u001b[0mX_train\u001b[0m\u001b[0;34m,\u001b[0m \u001b[0mY_train\u001b[0m\u001b[0;34m)\u001b[0m\u001b[0;34m\u001b[0m\u001b[0;34m\u001b[0m\u001b[0m\n\u001b[0m\u001b[1;32m     14\u001b[0m             \u001b[0mnpResultados\u001b[0m \u001b[0;34m=\u001b[0m \u001b[0mnp\u001b[0m\u001b[0;34m.\u001b[0m\u001b[0mappend\u001b[0m\u001b[0;34m(\u001b[0m\u001b[0mnpResultados\u001b[0m\u001b[0;34m,\u001b[0m \u001b[0mgrid_search\u001b[0m\u001b[0;34m)\u001b[0m\u001b[0;34m\u001b[0m\u001b[0;34m\u001b[0m\u001b[0m\n\u001b[1;32m     15\u001b[0m \u001b[0;34m\u001b[0m\u001b[0m\n",
      "\u001b[0;32m~/.local/lib/python3.7/site-packages/sklearn/utils/validation.py\u001b[0m in \u001b[0;36minner_f\u001b[0;34m(*args, **kwargs)\u001b[0m\n\u001b[1;32m     71\u001b[0m                           FutureWarning)\n\u001b[1;32m     72\u001b[0m         \u001b[0mkwargs\u001b[0m\u001b[0;34m.\u001b[0m\u001b[0mupdate\u001b[0m\u001b[0;34m(\u001b[0m\u001b[0;34m{\u001b[0m\u001b[0mk\u001b[0m\u001b[0;34m:\u001b[0m \u001b[0marg\u001b[0m \u001b[0;32mfor\u001b[0m \u001b[0mk\u001b[0m\u001b[0;34m,\u001b[0m \u001b[0marg\u001b[0m \u001b[0;32min\u001b[0m \u001b[0mzip\u001b[0m\u001b[0;34m(\u001b[0m\u001b[0msig\u001b[0m\u001b[0;34m.\u001b[0m\u001b[0mparameters\u001b[0m\u001b[0;34m,\u001b[0m \u001b[0margs\u001b[0m\u001b[0;34m)\u001b[0m\u001b[0;34m}\u001b[0m\u001b[0;34m)\u001b[0m\u001b[0;34m\u001b[0m\u001b[0;34m\u001b[0m\u001b[0m\n\u001b[0;32m---> 73\u001b[0;31m         \u001b[0;32mreturn\u001b[0m \u001b[0mf\u001b[0m\u001b[0;34m(\u001b[0m\u001b[0;34m**\u001b[0m\u001b[0mkwargs\u001b[0m\u001b[0;34m)\u001b[0m\u001b[0;34m\u001b[0m\u001b[0;34m\u001b[0m\u001b[0m\n\u001b[0m\u001b[1;32m     74\u001b[0m     \u001b[0;32mreturn\u001b[0m \u001b[0minner_f\u001b[0m\u001b[0;34m\u001b[0m\u001b[0;34m\u001b[0m\u001b[0m\n\u001b[1;32m     75\u001b[0m \u001b[0;34m\u001b[0m\u001b[0m\n",
      "\u001b[0;32m~/.local/lib/python3.7/site-packages/sklearn/model_selection/_search.py\u001b[0m in \u001b[0;36mfit\u001b[0;34m(self, X, y, groups, **fit_params)\u001b[0m\n\u001b[1;32m    763\u001b[0m             \u001b[0mrefit_start_time\u001b[0m \u001b[0;34m=\u001b[0m \u001b[0mtime\u001b[0m\u001b[0;34m.\u001b[0m\u001b[0mtime\u001b[0m\u001b[0;34m(\u001b[0m\u001b[0;34m)\u001b[0m\u001b[0;34m\u001b[0m\u001b[0;34m\u001b[0m\u001b[0m\n\u001b[1;32m    764\u001b[0m             \u001b[0;32mif\u001b[0m \u001b[0my\u001b[0m \u001b[0;32mis\u001b[0m \u001b[0;32mnot\u001b[0m \u001b[0;32mNone\u001b[0m\u001b[0;34m:\u001b[0m\u001b[0;34m\u001b[0m\u001b[0;34m\u001b[0m\u001b[0m\n\u001b[0;32m--> 765\u001b[0;31m                 \u001b[0mself\u001b[0m\u001b[0;34m.\u001b[0m\u001b[0mbest_estimator_\u001b[0m\u001b[0;34m.\u001b[0m\u001b[0mfit\u001b[0m\u001b[0;34m(\u001b[0m\u001b[0mX\u001b[0m\u001b[0;34m,\u001b[0m \u001b[0my\u001b[0m\u001b[0;34m,\u001b[0m \u001b[0;34m**\u001b[0m\u001b[0mfit_params\u001b[0m\u001b[0;34m)\u001b[0m\u001b[0;34m\u001b[0m\u001b[0;34m\u001b[0m\u001b[0m\n\u001b[0m\u001b[1;32m    766\u001b[0m             \u001b[0;32melse\u001b[0m\u001b[0;34m:\u001b[0m\u001b[0;34m\u001b[0m\u001b[0;34m\u001b[0m\u001b[0m\n\u001b[1;32m    767\u001b[0m                 \u001b[0mself\u001b[0m\u001b[0;34m.\u001b[0m\u001b[0mbest_estimator_\u001b[0m\u001b[0;34m.\u001b[0m\u001b[0mfit\u001b[0m\u001b[0;34m(\u001b[0m\u001b[0mX\u001b[0m\u001b[0;34m,\u001b[0m \u001b[0;34m**\u001b[0m\u001b[0mfit_params\u001b[0m\u001b[0;34m)\u001b[0m\u001b[0;34m\u001b[0m\u001b[0;34m\u001b[0m\u001b[0m\n",
      "\u001b[0;32m~/.local/lib/python3.7/site-packages/sklearn/tree/_classes.py\u001b[0m in \u001b[0;36mfit\u001b[0;34m(self, X, y, sample_weight, check_input, X_idx_sorted)\u001b[0m\n\u001b[1;32m    892\u001b[0m             \u001b[0msample_weight\u001b[0m\u001b[0;34m=\u001b[0m\u001b[0msample_weight\u001b[0m\u001b[0;34m,\u001b[0m\u001b[0;34m\u001b[0m\u001b[0;34m\u001b[0m\u001b[0m\n\u001b[1;32m    893\u001b[0m             \u001b[0mcheck_input\u001b[0m\u001b[0;34m=\u001b[0m\u001b[0mcheck_input\u001b[0m\u001b[0;34m,\u001b[0m\u001b[0;34m\u001b[0m\u001b[0;34m\u001b[0m\u001b[0m\n\u001b[0;32m--> 894\u001b[0;31m             X_idx_sorted=X_idx_sorted)\n\u001b[0m\u001b[1;32m    895\u001b[0m         \u001b[0;32mreturn\u001b[0m \u001b[0mself\u001b[0m\u001b[0;34m\u001b[0m\u001b[0;34m\u001b[0m\u001b[0m\n\u001b[1;32m    896\u001b[0m \u001b[0;34m\u001b[0m\u001b[0m\n",
      "\u001b[0;32m~/.local/lib/python3.7/site-packages/sklearn/tree/_classes.py\u001b[0m in \u001b[0;36mfit\u001b[0;34m(self, X, y, sample_weight, check_input, X_idx_sorted)\u001b[0m\n\u001b[1;32m    156\u001b[0m             X, y = self._validate_data(X, y,\n\u001b[1;32m    157\u001b[0m                                        validate_separately=(check_X_params,\n\u001b[0;32m--> 158\u001b[0;31m                                                             check_y_params))\n\u001b[0m\u001b[1;32m    159\u001b[0m             \u001b[0;32mif\u001b[0m \u001b[0missparse\u001b[0m\u001b[0;34m(\u001b[0m\u001b[0mX\u001b[0m\u001b[0;34m)\u001b[0m\u001b[0;34m:\u001b[0m\u001b[0;34m\u001b[0m\u001b[0;34m\u001b[0m\u001b[0m\n\u001b[1;32m    160\u001b[0m                 \u001b[0mX\u001b[0m\u001b[0;34m.\u001b[0m\u001b[0msort_indices\u001b[0m\u001b[0;34m(\u001b[0m\u001b[0;34m)\u001b[0m\u001b[0;34m\u001b[0m\u001b[0;34m\u001b[0m\u001b[0m\n",
      "\u001b[0;32m~/.local/lib/python3.7/site-packages/sklearn/base.py\u001b[0m in \u001b[0;36m_validate_data\u001b[0;34m(self, X, y, reset, validate_separately, **check_params)\u001b[0m\n\u001b[1;32m    427\u001b[0m                 \u001b[0;31m# :(\u001b[0m\u001b[0;34m\u001b[0m\u001b[0;34m\u001b[0m\u001b[0;34m\u001b[0m\u001b[0m\n\u001b[1;32m    428\u001b[0m                 \u001b[0mcheck_X_params\u001b[0m\u001b[0;34m,\u001b[0m \u001b[0mcheck_y_params\u001b[0m \u001b[0;34m=\u001b[0m \u001b[0mvalidate_separately\u001b[0m\u001b[0;34m\u001b[0m\u001b[0;34m\u001b[0m\u001b[0m\n\u001b[0;32m--> 429\u001b[0;31m                 \u001b[0mX\u001b[0m \u001b[0;34m=\u001b[0m \u001b[0mcheck_array\u001b[0m\u001b[0;34m(\u001b[0m\u001b[0mX\u001b[0m\u001b[0;34m,\u001b[0m \u001b[0;34m**\u001b[0m\u001b[0mcheck_X_params\u001b[0m\u001b[0;34m)\u001b[0m\u001b[0;34m\u001b[0m\u001b[0;34m\u001b[0m\u001b[0m\n\u001b[0m\u001b[1;32m    430\u001b[0m                 \u001b[0my\u001b[0m \u001b[0;34m=\u001b[0m \u001b[0mcheck_array\u001b[0m\u001b[0;34m(\u001b[0m\u001b[0my\u001b[0m\u001b[0;34m,\u001b[0m \u001b[0;34m**\u001b[0m\u001b[0mcheck_y_params\u001b[0m\u001b[0;34m)\u001b[0m\u001b[0;34m\u001b[0m\u001b[0;34m\u001b[0m\u001b[0m\n\u001b[1;32m    431\u001b[0m             \u001b[0;32melse\u001b[0m\u001b[0;34m:\u001b[0m\u001b[0;34m\u001b[0m\u001b[0;34m\u001b[0m\u001b[0m\n",
      "\u001b[0;32m~/.local/lib/python3.7/site-packages/sklearn/utils/validation.py\u001b[0m in \u001b[0;36minner_f\u001b[0;34m(*args, **kwargs)\u001b[0m\n\u001b[1;32m     71\u001b[0m                           FutureWarning)\n\u001b[1;32m     72\u001b[0m         \u001b[0mkwargs\u001b[0m\u001b[0;34m.\u001b[0m\u001b[0mupdate\u001b[0m\u001b[0;34m(\u001b[0m\u001b[0;34m{\u001b[0m\u001b[0mk\u001b[0m\u001b[0;34m:\u001b[0m \u001b[0marg\u001b[0m \u001b[0;32mfor\u001b[0m \u001b[0mk\u001b[0m\u001b[0;34m,\u001b[0m \u001b[0marg\u001b[0m \u001b[0;32min\u001b[0m \u001b[0mzip\u001b[0m\u001b[0;34m(\u001b[0m\u001b[0msig\u001b[0m\u001b[0;34m.\u001b[0m\u001b[0mparameters\u001b[0m\u001b[0;34m,\u001b[0m \u001b[0margs\u001b[0m\u001b[0;34m)\u001b[0m\u001b[0;34m}\u001b[0m\u001b[0;34m)\u001b[0m\u001b[0;34m\u001b[0m\u001b[0;34m\u001b[0m\u001b[0m\n\u001b[0;32m---> 73\u001b[0;31m         \u001b[0;32mreturn\u001b[0m \u001b[0mf\u001b[0m\u001b[0;34m(\u001b[0m\u001b[0;34m**\u001b[0m\u001b[0mkwargs\u001b[0m\u001b[0;34m)\u001b[0m\u001b[0;34m\u001b[0m\u001b[0;34m\u001b[0m\u001b[0m\n\u001b[0m\u001b[1;32m     74\u001b[0m     \u001b[0;32mreturn\u001b[0m \u001b[0minner_f\u001b[0m\u001b[0;34m\u001b[0m\u001b[0;34m\u001b[0m\u001b[0m\n\u001b[1;32m     75\u001b[0m \u001b[0;34m\u001b[0m\u001b[0m\n",
      "\u001b[0;32m~/.local/lib/python3.7/site-packages/sklearn/utils/validation.py\u001b[0m in \u001b[0;36mcheck_array\u001b[0;34m(array, accept_sparse, accept_large_sparse, dtype, order, copy, force_all_finite, ensure_2d, allow_nd, ensure_min_samples, ensure_min_features, estimator)\u001b[0m\n\u001b[1;32m    644\u001b[0m         \u001b[0;32mif\u001b[0m \u001b[0mforce_all_finite\u001b[0m\u001b[0;34m:\u001b[0m\u001b[0;34m\u001b[0m\u001b[0;34m\u001b[0m\u001b[0m\n\u001b[1;32m    645\u001b[0m             _assert_all_finite(array,\n\u001b[0;32m--> 646\u001b[0;31m                                allow_nan=force_all_finite == 'allow-nan')\n\u001b[0m\u001b[1;32m    647\u001b[0m \u001b[0;34m\u001b[0m\u001b[0m\n\u001b[1;32m    648\u001b[0m     \u001b[0;32mif\u001b[0m \u001b[0mensure_min_samples\u001b[0m \u001b[0;34m>\u001b[0m \u001b[0;36m0\u001b[0m\u001b[0;34m:\u001b[0m\u001b[0;34m\u001b[0m\u001b[0;34m\u001b[0m\u001b[0m\n",
      "\u001b[0;32m~/.local/lib/python3.7/site-packages/sklearn/utils/validation.py\u001b[0m in \u001b[0;36m_assert_all_finite\u001b[0;34m(X, allow_nan, msg_dtype)\u001b[0m\n\u001b[1;32m     98\u001b[0m                     \u001b[0mmsg_err\u001b[0m\u001b[0;34m.\u001b[0m\u001b[0mformat\u001b[0m\u001b[0;34m\u001b[0m\u001b[0;34m\u001b[0m\u001b[0m\n\u001b[1;32m     99\u001b[0m                     (type_err,\n\u001b[0;32m--> 100\u001b[0;31m                      msg_dtype if msg_dtype is not None else X.dtype)\n\u001b[0m\u001b[1;32m    101\u001b[0m             )\n\u001b[1;32m    102\u001b[0m     \u001b[0;31m# for object dtype data, we only check for NaNs (GH-13254)\u001b[0m\u001b[0;34m\u001b[0m\u001b[0;34m\u001b[0m\u001b[0;34m\u001b[0m\u001b[0m\n",
      "\u001b[0;31mValueError\u001b[0m: Input contains NaN, infinity or a value too large for dtype('float32')."
     ]
    }
   ],
   "source": [
    "X_train = pd.DataFrame(npEmbeddings)\n",
    "Y_train = pd.DataFrame(train.disc)\n",
    "arrModelos = Prep_Modelos(npNombreModelos)\n",
    "\n",
    "# #Se corre el magic loop para realizar las predicciones con los parámetros previamente establecidos\n",
    "best_model,npGridSearchCv = Correr_Magic_Loop(arrModelos,\n",
    "                                    npDictHiperParam,\n",
    "                                    X_train,\n",
    "                                    Y_train,\n",
    "                                    5,\n",
    "                                    'roc_auc')\n",
    "\n",
    "npArrBestScores = np.array([])\n",
    "npArrBestParams = np.array([])\n",
    "\n",
    "# Barremos el arreglo de GridSearchCV´s para sacar los mejores scores y parámetros\n",
    "for grid in npGridSearchCv:\n",
    "    npArrBestScores = np.append(npArrBestScores, grid.best_score_)\n",
    "    npArrBestParams = np.append(npArrBestParams, grid.best_params_)"
   ]
  },
  {
   "cell_type": "code",
   "execution_count": 15,
   "metadata": {},
   "outputs": [],
   "source": [
    "# Obtenemos el índice del mejor score\n",
    "nbrIndiceGanador = np.argmax(npArrBestScores, axis=0)\n",
    "\n",
    "# Mostramos el modelo, parámetros y score ganador\n",
    "# print(\"Modelo ganador: \\n\", arrModelos[nbrIndiceGanador])\n",
    "# print(\"Score del modelo ganador: \\n\", npArrBestScores[nbrIndiceGanador])\n",
    "# print(\"Parametros del modelo ganador: \\n\", npArrBestParams[nbrIndiceGanador])\n",
    "\n",
    "# Se instancia el modelo ganador\n",
    "# self.ModeloGanadorMagicLoop = objEda.InstanciarModeloDinamico(npNombreModelos, nbrIndiceGanador, npArrBestParams[nbrIndiceGanador])\n",
    "ModeloGanadorMagicLoop = best_model"
   ]
  },
  {
   "cell_type": "code",
   "execution_count": 16,
   "metadata": {},
   "outputs": [
    {
     "data": {
      "text/plain": [
       "GradientBoostingClassifier(ccp_alpha=0.0, criterion='friedman_mse', init=None,\n",
       "                           learning_rate=0.1, loss='deviance', max_depth=6,\n",
       "                           max_features='log2', max_leaf_nodes=None,\n",
       "                           min_impurity_decrease=0.0, min_impurity_split=None,\n",
       "                           min_samples_leaf=7, min_samples_split=4,\n",
       "                           min_weight_fraction_leaf=0.0, n_estimators=150,\n",
       "                           n_iter_no_change=None, presort='deprecated',\n",
       "                           random_state=None, subsample=1.0, tol=0.0001,\n",
       "                           validation_fraction=0.1, verbose=0,\n",
       "                           warm_start=False)"
      ]
     },
     "execution_count": 16,
     "metadata": {},
     "output_type": "execute_result"
    }
   ],
   "source": [
    "ModeloGanadorMagicLoop"
   ]
  },
  {
   "cell_type": "markdown",
   "metadata": {},
   "source": [
    "### Desempeño en test"
   ]
  },
  {
   "cell_type": "code",
   "execution_count": 18,
   "metadata": {},
   "outputs": [
    {
     "data": {
      "text/plain": [
       "(200, 300)"
      ]
     },
     "execution_count": 18,
     "metadata": {},
     "output_type": "execute_result"
    }
   ],
   "source": [
    "npEmbeddings2 = np.empty([0, 300])\n",
    "for texto in test['full_text']:\n",
    "    \n",
    "    #print(frase)\n",
    "    \n",
    "    # process a sentence using the model\n",
    "    doc = nlp(texto)\n",
    "    \n",
    "    # print(doc.vector.shape)\n",
    "    #print(npEmbeddings.shape)\n",
    "    #print(doc.vector.shape)\n",
    "    \n",
    "    if doc.vector.shape[0]==300:\n",
    "        npEmbeddings2 = np.append(npEmbeddings2, [doc.vector], axis = 0)\n",
    "    else:\n",
    "        npAux = np.empty([1, 300])\n",
    "        doc = nlp('prueba')\n",
    "        #npEmbeddings = np.append(npEmbeddings, npAux, axis = 0)\n",
    "        npEmbeddings2 = np.append(npEmbeddings2, [doc.vector], axis = 0)\n",
    "        predicted_svm = clf.predict([doc.vector])\n",
    "        \n",
    "npEmbeddings2.shape"
   ]
  },
  {
   "cell_type": "code",
   "execution_count": 27,
   "metadata": {},
   "outputs": [
    {
     "data": {
      "text/plain": [
       "0.775"
      ]
     },
     "execution_count": 27,
     "metadata": {},
     "output_type": "execute_result"
    }
   ],
   "source": [
    "predicted_svm = best_model.predict(npEmbeddings2)\n",
    "np.mean(predicted_svm == test.disc)"
   ]
  },
  {
   "cell_type": "code",
   "execution_count": 20,
   "metadata": {},
   "outputs": [
    {
     "data": {
      "text/plain": [
       "array([1])"
      ]
     },
     "execution_count": 20,
     "metadata": {},
     "output_type": "execute_result"
    }
   ],
   "source": [
    "npAux = nlp('malditos amlovers culeros').vector\n",
    "predicted_svm = best_model.predict([npAux])\n",
    "predicted_svm"
   ]
  },
  {
   "cell_type": "code",
   "execution_count": 23,
   "metadata": {},
   "outputs": [],
   "source": [
    "\n",
    "################### Carga de parámetros\n",
    "import pickle as pickle\n",
    "\n",
    "pickleFile = open('modelo_clasificacion_binaria.p', 'rb')\n",
    "modelo2 = pickle.load(pickleFile)\n",
    "pickleFile.close()"
   ]
  },
  {
   "cell_type": "code",
   "execution_count": 78,
   "metadata": {},
   "outputs": [],
   "source": [
    "y_probas = best_model.predict_proba(npEmbeddings2)\n",
    "y_true = test.disc\n",
    "y_prob = pd.DataFrame(y_probas)\n",
    "y_prob.columns = [\"cero\",\"uno\"]\n",
    "y_prob = y_prob[\"uno\"]"
   ]
  },
  {
   "cell_type": "code",
   "execution_count": 79,
   "metadata": {},
   "outputs": [
    {
     "data": {
      "image/png": "[encoded data removed]",
      "text/plain": [
       "<Figure size 432x288 with 1 Axes>"
      ]
     },
     "metadata": {},
     "output_type": "display_data"
    }
   ],
   "source": [
    "from sklearn import metrics\n",
    "from matplotlib import pyplot as plt \n",
    "\n",
    "#Definimos la funcion que graficará la ROC\n",
    "def plot_ROC(test_labels, test_predictions):\n",
    "    fpr, tpr, thresholds = metrics.roc_curve(test_labels, \n",
    "                                             test_predictions, pos_label=1)\n",
    "    auc = \"%.2f\" % metrics.auc(fpr, tpr)\n",
    "    title = 'ROC Curve, AUC = '+str(auc)\n",
    "    with plt.style.context(('seaborn-whitegrid')):\n",
    "        fig, ax = plt.subplots()\n",
    "        ax.plot(fpr, tpr, \"#000099\", label='ROC curve')\n",
    "        ax.plot([0, 1], [0, 1], 'k--', label='Baseline')\n",
    "        plt.xlim([0.0, 1.0])\n",
    "        plt.ylim([0.0, 1.05])\n",
    "        plt.xlabel('False Positive Rate')\n",
    "        plt.ylabel('True Positive Rate')\n",
    "        plt.legend(loc='lower right')\n",
    "        plt.title(title)\n",
    "    return  \n",
    "plot_ROC(y_true, y_prob) "
   ]
  },
  {
   "cell_type": "markdown",
   "metadata": {},
   "source": [
    "# Prueba de categorías"
   ]
  },
  {
   "cell_type": "code",
   "execution_count": 12,
   "metadata": {},
   "outputs": [
    {
     "name": "stderr",
     "output_type": "stream",
     "text": [
      "/opt/tljh/user/lib/python3.7/site-packages/IPython/core/interactiveshell.py:3063: DtypeWarning: Columns (0,1,2) have mixed types.Specify dtype option on import or set low_memory=False.\n",
      "  interactivity=interactivity, compiler=compiler, result=result)\n"
     ]
    },
    {
     "data": {
      "text/html": [
       "<div>\n",
       "<style scoped>\n",
       "    .dataframe tbody tr th:only-of-type {\n",
       "        vertical-align: middle;\n",
       "    }\n",
       "\n",
       "    .dataframe tbody tr th {\n",
       "        vertical-align: top;\n",
       "    }\n",
       "\n",
       "    .dataframe thead th {\n",
       "        text-align: right;\n",
       "    }\n",
       "</style>\n",
       "<table border=\"1\" class=\"dataframe\">\n",
       "  <thead>\n",
       "    <tr style=\"text-align: right;\">\n",
       "      <th></th>\n",
       "      <th>Unnamed: 0</th>\n",
       "      <th>full_text</th>\n",
       "      <th>categoria</th>\n",
       "    </tr>\n",
       "  </thead>\n",
       "  <tbody>\n",
       "    <tr>\n",
       "      <th>0</th>\n",
       "      <td>0</td>\n",
       "      <td>!Viva la \"diversidad\"! [?] \\n\\n!Proximamente e...</td>\n",
       "      <td>apariencia</td>\n",
       "    </tr>\n",
       "    <tr>\n",
       "      <th>1</th>\n",
       "      <td>1</td>\n",
       "      <td>@tennissucios @TenochHuerta Jajajaja... Muy ac...</td>\n",
       "      <td>apariencia</td>\n",
       "    </tr>\n",
       "    <tr>\n",
       "      <th>2</th>\n",
       "      <td>3</td>\n",
       "      <td>Hay momentos de la vida en los  que te das cue...</td>\n",
       "      <td>apariencia</td>\n",
       "    </tr>\n",
       "    <tr>\n",
       "      <th>3</th>\n",
       "      <td>4</td>\n",
       "      <td>@hornyboysmex @Hombres_sexgay Hermoso  guerito !</td>\n",
       "      <td>apariencia</td>\n",
       "    </tr>\n",
       "    <tr>\n",
       "      <th>4</th>\n",
       "      <td>5</td>\n",
       "      <td>Que restriccion tiene @DrGiammattei preparado ...</td>\n",
       "      <td>apariencia</td>\n",
       "    </tr>\n",
       "    <tr>\n",
       "      <th>...</th>\n",
       "      <td>...</td>\n",
       "      <td>...</td>\n",
       "      <td>...</td>\n",
       "    </tr>\n",
       "    <tr>\n",
       "      <th>3160328</th>\n",
       "      <td>360</td>\n",
       "      <td>@tamairycabrera Esa fue tu cara. https://t.co/...</td>\n",
       "      <td>neutro</td>\n",
       "    </tr>\n",
       "    <tr>\n",
       "      <th>3160329</th>\n",
       "      <td>361</td>\n",
       "      <td>no me voy a cansar de felicitar a todos los qu...</td>\n",
       "      <td>neutro</td>\n",
       "    </tr>\n",
       "    <tr>\n",
       "      <th>3160330</th>\n",
       "      <td>362</td>\n",
       "      <td>@CESARRRASCON Se mueren porque se encuentre al...</td>\n",
       "      <td>neutro</td>\n",
       "    </tr>\n",
       "    <tr>\n",
       "      <th>3160331</th>\n",
       "      <td>363</td>\n",
       "      <td>Las ganas son grandes bruh</td>\n",
       "      <td>neutro</td>\n",
       "    </tr>\n",
       "    <tr>\n",
       "      <th>3160332</th>\n",
       "      <td>364</td>\n",
       "      <td>Hasta manana camaradas\\n@Briggittems1 @lrrc202...</td>\n",
       "      <td>neutro</td>\n",
       "    </tr>\n",
       "  </tbody>\n",
       "</table>\n",
       "<p>3160333 rows × 3 columns</p>\n",
       "</div>"
      ],
      "text/plain": [
       "        Unnamed: 0                                          full_text  \\\n",
       "0                0  !Viva la \"diversidad\"! [?] \\n\\n!Proximamente e...   \n",
       "1                1  @tennissucios @TenochHuerta Jajajaja... Muy ac...   \n",
       "2                3  Hay momentos de la vida en los  que te das cue...   \n",
       "3                4   @hornyboysmex @Hombres_sexgay Hermoso  guerito !   \n",
       "4                5  Que restriccion tiene @DrGiammattei preparado ...   \n",
       "...            ...                                                ...   \n",
       "3160328        360  @tamairycabrera Esa fue tu cara. https://t.co/...   \n",
       "3160329        361  no me voy a cansar de felicitar a todos los qu...   \n",
       "3160330        362  @CESARRRASCON Se mueren porque se encuentre al...   \n",
       "3160331        363                         Las ganas son grandes bruh   \n",
       "3160332        364  Hasta manana camaradas\\n@Briggittems1 @lrrc202...   \n",
       "\n",
       "          categoria  \n",
       "0        apariencia  \n",
       "1        apariencia  \n",
       "2        apariencia  \n",
       "3        apariencia  \n",
       "4        apariencia  \n",
       "...             ...  \n",
       "3160328      neutro  \n",
       "3160329      neutro  \n",
       "3160330      neutro  \n",
       "3160331      neutro  \n",
       "3160332      neutro  \n",
       "\n",
       "[3160333 rows x 3 columns]"
      ]
     },
     "execution_count": 12,
     "metadata": {},
     "output_type": "execute_result"
    }
   ],
   "source": [
    "data = pd.read_csv(\"tweets_julio_embeddings.csv\")\n",
    "data"
   ]
  },
  {
   "cell_type": "code",
   "execution_count": 13,
   "metadata": {},
   "outputs": [
    {
     "data": {
      "text/html": [
       "<div>\n",
       "<style scoped>\n",
       "    .dataframe tbody tr th:only-of-type {\n",
       "        vertical-align: middle;\n",
       "    }\n",
       "\n",
       "    .dataframe tbody tr th {\n",
       "        vertical-align: top;\n",
       "    }\n",
       "\n",
       "    .dataframe thead th {\n",
       "        text-align: right;\n",
       "    }\n",
       "</style>\n",
       "<table border=\"1\" class=\"dataframe\">\n",
       "  <thead>\n",
       "    <tr style=\"text-align: right;\">\n",
       "      <th></th>\n",
       "      <th>Unnamed: 0</th>\n",
       "      <th>full_text</th>\n",
       "      <th>categoria</th>\n",
       "    </tr>\n",
       "  </thead>\n",
       "  <tbody>\n",
       "    <tr>\n",
       "      <th>0</th>\n",
       "      <td>0</td>\n",
       "      <td>!Viva la \"diversidad\"! [?] \\n\\n!Proximamente e...</td>\n",
       "      <td>1.0</td>\n",
       "    </tr>\n",
       "    <tr>\n",
       "      <th>1</th>\n",
       "      <td>1</td>\n",
       "      <td>@tennissucios @TenochHuerta Jajajaja... Muy ac...</td>\n",
       "      <td>1.0</td>\n",
       "    </tr>\n",
       "    <tr>\n",
       "      <th>2</th>\n",
       "      <td>3</td>\n",
       "      <td>Hay momentos de la vida en los  que te das cue...</td>\n",
       "      <td>1.0</td>\n",
       "    </tr>\n",
       "    <tr>\n",
       "      <th>3</th>\n",
       "      <td>4</td>\n",
       "      <td>@hornyboysmex @Hombres_sexgay Hermoso  guerito !</td>\n",
       "      <td>1.0</td>\n",
       "    </tr>\n",
       "    <tr>\n",
       "      <th>4</th>\n",
       "      <td>5</td>\n",
       "      <td>Que restriccion tiene @DrGiammattei preparado ...</td>\n",
       "      <td>1.0</td>\n",
       "    </tr>\n",
       "    <tr>\n",
       "      <th>...</th>\n",
       "      <td>...</td>\n",
       "      <td>...</td>\n",
       "      <td>...</td>\n",
       "    </tr>\n",
       "    <tr>\n",
       "      <th>3160328</th>\n",
       "      <td>360</td>\n",
       "      <td>@tamairycabrera Esa fue tu cara. https://t.co/...</td>\n",
       "      <td>8.0</td>\n",
       "    </tr>\n",
       "    <tr>\n",
       "      <th>3160329</th>\n",
       "      <td>361</td>\n",
       "      <td>no me voy a cansar de felicitar a todos los qu...</td>\n",
       "      <td>8.0</td>\n",
       "    </tr>\n",
       "    <tr>\n",
       "      <th>3160330</th>\n",
       "      <td>362</td>\n",
       "      <td>@CESARRRASCON Se mueren porque se encuentre al...</td>\n",
       "      <td>8.0</td>\n",
       "    </tr>\n",
       "    <tr>\n",
       "      <th>3160331</th>\n",
       "      <td>363</td>\n",
       "      <td>Las ganas son grandes bruh</td>\n",
       "      <td>8.0</td>\n",
       "    </tr>\n",
       "    <tr>\n",
       "      <th>3160332</th>\n",
       "      <td>364</td>\n",
       "      <td>Hasta manana camaradas\\n@Briggittems1 @lrrc202...</td>\n",
       "      <td>8.0</td>\n",
       "    </tr>\n",
       "  </tbody>\n",
       "</table>\n",
       "<p>3160333 rows × 3 columns</p>\n",
       "</div>"
      ],
      "text/plain": [
       "        Unnamed: 0                                          full_text  \\\n",
       "0                0  !Viva la \"diversidad\"! [?] \\n\\n!Proximamente e...   \n",
       "1                1  @tennissucios @TenochHuerta Jajajaja... Muy ac...   \n",
       "2                3  Hay momentos de la vida en los  que te das cue...   \n",
       "3                4   @hornyboysmex @Hombres_sexgay Hermoso  guerito !   \n",
       "4                5  Que restriccion tiene @DrGiammattei preparado ...   \n",
       "...            ...                                                ...   \n",
       "3160328        360  @tamairycabrera Esa fue tu cara. https://t.co/...   \n",
       "3160329        361  no me voy a cansar de felicitar a todos los qu...   \n",
       "3160330        362  @CESARRRASCON Se mueren porque se encuentre al...   \n",
       "3160331        363                         Las ganas son grandes bruh   \n",
       "3160332        364  Hasta manana camaradas\\n@Briggittems1 @lrrc202...   \n",
       "\n",
       "         categoria  \n",
       "0              1.0  \n",
       "1              1.0  \n",
       "2              1.0  \n",
       "3              1.0  \n",
       "4              1.0  \n",
       "...            ...  \n",
       "3160328        8.0  \n",
       "3160329        8.0  \n",
       "3160330        8.0  \n",
       "3160331        8.0  \n",
       "3160332        8.0  \n",
       "\n",
       "[3160333 rows x 3 columns]"
      ]
     },
     "execution_count": 13,
     "metadata": {},
     "output_type": "execute_result"
    }
   ],
   "source": [
    "data[\"categoria\"] = data[\"categoria\"].replace(['apariencia'],1)\n",
    "data[\"categoria\"] = data[\"categoria\"].replace(['discapacidad'],2)\n",
    "data[\"categoria\"] = data[\"categoria\"].replace(['edad'],3)\n",
    "data[\"categoria\"] = data[\"categoria\"].replace(['genero'],4)\n",
    "data[\"categoria\"] = data[\"categoria\"].replace(['ideologia'],5)\n",
    "data[\"categoria\"] = data[\"categoria\"].replace(['orientacion'],6)\n",
    "data[\"categoria\"] = data[\"categoria\"].replace(['religion'],7)\n",
    "data[\"categoria\"] = data[\"categoria\"].replace(['neutro'],8)\n",
    "data"
   ]
  },
  {
   "cell_type": "code",
   "execution_count": 14,
   "metadata": {},
   "outputs": [
    {
     "data": {
      "text/html": [
       "<div>\n",
       "<style scoped>\n",
       "    .dataframe tbody tr th:only-of-type {\n",
       "        vertical-align: middle;\n",
       "    }\n",
       "\n",
       "    .dataframe tbody tr th {\n",
       "        vertical-align: top;\n",
       "    }\n",
       "\n",
       "    .dataframe thead th {\n",
       "        text-align: right;\n",
       "    }\n",
       "</style>\n",
       "<table border=\"1\" class=\"dataframe\">\n",
       "  <thead>\n",
       "    <tr style=\"text-align: right;\">\n",
       "      <th></th>\n",
       "      <th>Unnamed: 0</th>\n",
       "      <th>full_text</th>\n",
       "      <th>categoria</th>\n",
       "    </tr>\n",
       "  </thead>\n",
       "  <tbody>\n",
       "    <tr>\n",
       "      <th>0</th>\n",
       "      <td>0</td>\n",
       "      <td>!Viva la \"diversidad\"! [?] \\n\\n!Proximamente e...</td>\n",
       "      <td>1.0</td>\n",
       "    </tr>\n",
       "    <tr>\n",
       "      <th>1</th>\n",
       "      <td>1</td>\n",
       "      <td>@tennissucios @TenochHuerta Jajajaja... Muy ac...</td>\n",
       "      <td>1.0</td>\n",
       "    </tr>\n",
       "    <tr>\n",
       "      <th>2</th>\n",
       "      <td>3</td>\n",
       "      <td>Hay momentos de la vida en los  que te das cue...</td>\n",
       "      <td>1.0</td>\n",
       "    </tr>\n",
       "    <tr>\n",
       "      <th>3</th>\n",
       "      <td>4</td>\n",
       "      <td>@hornyboysmex @Hombres_sexgay Hermoso  guerito !</td>\n",
       "      <td>1.0</td>\n",
       "    </tr>\n",
       "    <tr>\n",
       "      <th>4</th>\n",
       "      <td>5</td>\n",
       "      <td>Que restriccion tiene @DrGiammattei preparado ...</td>\n",
       "      <td>1.0</td>\n",
       "    </tr>\n",
       "    <tr>\n",
       "      <th>...</th>\n",
       "      <td>...</td>\n",
       "      <td>...</td>\n",
       "      <td>...</td>\n",
       "    </tr>\n",
       "    <tr>\n",
       "      <th>3160328</th>\n",
       "      <td>360</td>\n",
       "      <td>@tamairycabrera Esa fue tu cara. https://t.co/...</td>\n",
       "      <td>8.0</td>\n",
       "    </tr>\n",
       "    <tr>\n",
       "      <th>3160329</th>\n",
       "      <td>361</td>\n",
       "      <td>no me voy a cansar de felicitar a todos los qu...</td>\n",
       "      <td>8.0</td>\n",
       "    </tr>\n",
       "    <tr>\n",
       "      <th>3160330</th>\n",
       "      <td>362</td>\n",
       "      <td>@CESARRRASCON Se mueren porque se encuentre al...</td>\n",
       "      <td>8.0</td>\n",
       "    </tr>\n",
       "    <tr>\n",
       "      <th>3160331</th>\n",
       "      <td>363</td>\n",
       "      <td>Las ganas son grandes bruh</td>\n",
       "      <td>8.0</td>\n",
       "    </tr>\n",
       "    <tr>\n",
       "      <th>3160332</th>\n",
       "      <td>364</td>\n",
       "      <td>Hasta manana camaradas\\n@Briggittems1 @lrrc202...</td>\n",
       "      <td>8.0</td>\n",
       "    </tr>\n",
       "  </tbody>\n",
       "</table>\n",
       "<p>1053598 rows × 3 columns</p>\n",
       "</div>"
      ],
      "text/plain": [
       "        Unnamed: 0                                          full_text  \\\n",
       "0                0  !Viva la \"diversidad\"! [?] \\n\\n!Proximamente e...   \n",
       "1                1  @tennissucios @TenochHuerta Jajajaja... Muy ac...   \n",
       "2                3  Hay momentos de la vida en los  que te das cue...   \n",
       "3                4   @hornyboysmex @Hombres_sexgay Hermoso  guerito !   \n",
       "4                5  Que restriccion tiene @DrGiammattei preparado ...   \n",
       "...            ...                                                ...   \n",
       "3160328        360  @tamairycabrera Esa fue tu cara. https://t.co/...   \n",
       "3160329        361  no me voy a cansar de felicitar a todos los qu...   \n",
       "3160330        362  @CESARRRASCON Se mueren porque se encuentre al...   \n",
       "3160331        363                         Las ganas son grandes bruh   \n",
       "3160332        364  Hasta manana camaradas\\n@Briggittems1 @lrrc202...   \n",
       "\n",
       "         categoria  \n",
       "0              1.0  \n",
       "1              1.0  \n",
       "2              1.0  \n",
       "3              1.0  \n",
       "4              1.0  \n",
       "...            ...  \n",
       "3160328        8.0  \n",
       "3160329        8.0  \n",
       "3160330        8.0  \n",
       "3160331        8.0  \n",
       "3160332        8.0  \n",
       "\n",
       "[1053598 rows x 3 columns]"
      ]
     },
     "execution_count": 14,
     "metadata": {},
     "output_type": "execute_result"
    }
   ],
   "source": [
    "data = data[data[\"categoria\"].isnull()==False]\n",
    "data"
   ]
  },
  {
   "cell_type": "code",
   "execution_count": 15,
   "metadata": {},
   "outputs": [
    {
     "data": {
      "text/html": [
       "<div>\n",
       "<style scoped>\n",
       "    .dataframe tbody tr th:only-of-type {\n",
       "        vertical-align: middle;\n",
       "    }\n",
       "\n",
       "    .dataframe tbody tr th {\n",
       "        vertical-align: top;\n",
       "    }\n",
       "\n",
       "    .dataframe thead th {\n",
       "        text-align: right;\n",
       "    }\n",
       "</style>\n",
       "<table border=\"1\" class=\"dataframe\">\n",
       "  <thead>\n",
       "    <tr style=\"text-align: right;\">\n",
       "      <th></th>\n",
       "      <th>Unnamed: 0</th>\n",
       "      <th>full_text</th>\n",
       "      <th>categoria</th>\n",
       "    </tr>\n",
       "  </thead>\n",
       "  <tbody>\n",
       "    <tr>\n",
       "      <th>1262938</th>\n",
       "      <td>188</td>\n",
       "      <td>TURBULENTOS ASPIRANTES MEXIQUESES AL INE. Doy ...</td>\n",
       "      <td>8.0</td>\n",
       "    </tr>\n",
       "    <tr>\n",
       "      <th>1263106</th>\n",
       "      <td>57</td>\n",
       "      <td>Quien sera el hombre que aguante mis dramas ?</td>\n",
       "      <td>8.0</td>\n",
       "    </tr>\n",
       "    <tr>\n",
       "      <th>251647</th>\n",
       "      <td>4</td>\n",
       "      <td>@martinezmau Ufff asi se calla el hocico chair...</td>\n",
       "      <td>5.0</td>\n",
       "    </tr>\n",
       "    <tr>\n",
       "      <th>1328352</th>\n",
       "      <td>286</td>\n",
       "      <td>COMBATIMOS Y VENCEMOS EN VENEZUELA Y EL MUNDO...</td>\n",
       "      <td>8.0</td>\n",
       "    </tr>\n",
       "    <tr>\n",
       "      <th>192517</th>\n",
       "      <td>90</td>\n",
       "      <td>@CDBadajoz Que asco de filiales. Algo habria q...</td>\n",
       "      <td>4.0</td>\n",
       "    </tr>\n",
       "    <tr>\n",
       "      <th>...</th>\n",
       "      <td>...</td>\n",
       "      <td>...</td>\n",
       "      <td>...</td>\n",
       "    </tr>\n",
       "    <tr>\n",
       "      <th>1149119</th>\n",
       "      <td>48</td>\n",
       "      <td>unas ganas de desayunar papas fritas</td>\n",
       "      <td>8.0</td>\n",
       "    </tr>\n",
       "    <tr>\n",
       "      <th>245486</th>\n",
       "      <td>32</td>\n",
       "      <td>@arturo1180 @ahoraonuncaespn @mauriciopedroza ...</td>\n",
       "      <td>5.0</td>\n",
       "    </tr>\n",
       "    <tr>\n",
       "      <th>295675</th>\n",
       "      <td>19</td>\n",
       "      <td>Me puedo quejar de muchas cosas (validas) pero...</td>\n",
       "      <td>6.0</td>\n",
       "    </tr>\n",
       "    <tr>\n",
       "      <th>1342823</th>\n",
       "      <td>225</td>\n",
       "      <td>Los momentos se miden en sonrisas no en numero...</td>\n",
       "      <td>8.0</td>\n",
       "    </tr>\n",
       "    <tr>\n",
       "      <th>15915</th>\n",
       "      <td>4</td>\n",
       "      <td>@inmujeres \"Estudios e investigaciones\" Pues.....</td>\n",
       "      <td>1.0</td>\n",
       "    </tr>\n",
       "  </tbody>\n",
       "</table>\n",
       "<p>1053598 rows × 3 columns</p>\n",
       "</div>"
      ],
      "text/plain": [
       "        Unnamed: 0                                          full_text  \\\n",
       "1262938        188  TURBULENTOS ASPIRANTES MEXIQUESES AL INE. Doy ...   \n",
       "1263106         57     Quien sera el hombre que aguante mis dramas ?    \n",
       "251647           4  @martinezmau Ufff asi se calla el hocico chair...   \n",
       "1328352        286   COMBATIMOS Y VENCEMOS EN VENEZUELA Y EL MUNDO...   \n",
       "192517          90  @CDBadajoz Que asco de filiales. Algo habria q...   \n",
       "...            ...                                                ...   \n",
       "1149119         48               unas ganas de desayunar papas fritas   \n",
       "245486          32  @arturo1180 @ahoraonuncaespn @mauriciopedroza ...   \n",
       "295675          19  Me puedo quejar de muchas cosas (validas) pero...   \n",
       "1342823        225  Los momentos se miden en sonrisas no en numero...   \n",
       "15915            4  @inmujeres \"Estudios e investigaciones\" Pues.....   \n",
       "\n",
       "         categoria  \n",
       "1262938        8.0  \n",
       "1263106        8.0  \n",
       "251647         5.0  \n",
       "1328352        8.0  \n",
       "192517         4.0  \n",
       "...            ...  \n",
       "1149119        8.0  \n",
       "245486         5.0  \n",
       "295675         6.0  \n",
       "1342823        8.0  \n",
       "15915          1.0  \n",
       "\n",
       "[1053598 rows x 3 columns]"
      ]
     },
     "execution_count": 15,
     "metadata": {},
     "output_type": "execute_result"
    }
   ],
   "source": [
    "from sklearn.utils import shuffle\n",
    "data = shuffle(data)\n",
    "data"
   ]
  },
  {
   "cell_type": "code",
   "execution_count": 16,
   "metadata": {},
   "outputs": [
    {
     "data": {
      "text/html": [
       "<div>\n",
       "<style scoped>\n",
       "    .dataframe tbody tr th:only-of-type {\n",
       "        vertical-align: middle;\n",
       "    }\n",
       "\n",
       "    .dataframe tbody tr th {\n",
       "        vertical-align: top;\n",
       "    }\n",
       "\n",
       "    .dataframe thead th {\n",
       "        text-align: right;\n",
       "    }\n",
       "</style>\n",
       "<table border=\"1\" class=\"dataframe\">\n",
       "  <thead>\n",
       "    <tr style=\"text-align: right;\">\n",
       "      <th></th>\n",
       "      <th>Unnamed: 0</th>\n",
       "      <th>full_text</th>\n",
       "      <th>categoria</th>\n",
       "    </tr>\n",
       "  </thead>\n",
       "  <tbody>\n",
       "    <tr>\n",
       "      <th>1262938</th>\n",
       "      <td>188</td>\n",
       "      <td>TURBULENTOS ASPIRANTES MEXIQUESES AL INE. Doy ...</td>\n",
       "      <td>8.0</td>\n",
       "    </tr>\n",
       "    <tr>\n",
       "      <th>1263106</th>\n",
       "      <td>57</td>\n",
       "      <td>Quien sera el hombre que aguante mis dramas ?</td>\n",
       "      <td>8.0</td>\n",
       "    </tr>\n",
       "    <tr>\n",
       "      <th>251647</th>\n",
       "      <td>4</td>\n",
       "      <td>@martinezmau Ufff asi se calla el hocico chair...</td>\n",
       "      <td>5.0</td>\n",
       "    </tr>\n",
       "    <tr>\n",
       "      <th>1328352</th>\n",
       "      <td>286</td>\n",
       "      <td>COMBATIMOS Y VENCEMOS EN VENEZUELA Y EL MUNDO...</td>\n",
       "      <td>8.0</td>\n",
       "    </tr>\n",
       "    <tr>\n",
       "      <th>192517</th>\n",
       "      <td>90</td>\n",
       "      <td>@CDBadajoz Que asco de filiales. Algo habria q...</td>\n",
       "      <td>4.0</td>\n",
       "    </tr>\n",
       "    <tr>\n",
       "      <th>...</th>\n",
       "      <td>...</td>\n",
       "      <td>...</td>\n",
       "      <td>...</td>\n",
       "    </tr>\n",
       "    <tr>\n",
       "      <th>33793</th>\n",
       "      <td>2</td>\n",
       "      <td>@AntiBotsHN Farsante de mierda, nadie es mas c...</td>\n",
       "      <td>2.0</td>\n",
       "    </tr>\n",
       "    <tr>\n",
       "      <th>1255001</th>\n",
       "      <td>34</td>\n",
       "      <td>Nogales, Sonora, Mexico, 1979 (c) Alex Webb, E...</td>\n",
       "      <td>8.0</td>\n",
       "    </tr>\n",
       "    <tr>\n",
       "      <th>310940</th>\n",
       "      <td>33</td>\n",
       "      <td>Si me encuentran colgado el.dia de hoy culpo d...</td>\n",
       "      <td>6.0</td>\n",
       "    </tr>\n",
       "    <tr>\n",
       "      <th>1279131</th>\n",
       "      <td>15</td>\n",
       "      <td>El Centro de Transferencia Canina ha recibido ...</td>\n",
       "      <td>8.0</td>\n",
       "    </tr>\n",
       "    <tr>\n",
       "      <th>1267166</th>\n",
       "      <td>117</td>\n",
       "      <td>Bancada del @PartidoLibre escribe al Embajador...</td>\n",
       "      <td>8.0</td>\n",
       "    </tr>\n",
       "  </tbody>\n",
       "</table>\n",
       "<p>100 rows × 3 columns</p>\n",
       "</div>"
      ],
      "text/plain": [
       "        Unnamed: 0                                          full_text  \\\n",
       "1262938        188  TURBULENTOS ASPIRANTES MEXIQUESES AL INE. Doy ...   \n",
       "1263106         57     Quien sera el hombre que aguante mis dramas ?    \n",
       "251647           4  @martinezmau Ufff asi se calla el hocico chair...   \n",
       "1328352        286   COMBATIMOS Y VENCEMOS EN VENEZUELA Y EL MUNDO...   \n",
       "192517          90  @CDBadajoz Que asco de filiales. Algo habria q...   \n",
       "...            ...                                                ...   \n",
       "33793            2  @AntiBotsHN Farsante de mierda, nadie es mas c...   \n",
       "1255001         34  Nogales, Sonora, Mexico, 1979 (c) Alex Webb, E...   \n",
       "310940          33  Si me encuentran colgado el.dia de hoy culpo d...   \n",
       "1279131         15  El Centro de Transferencia Canina ha recibido ...   \n",
       "1267166        117  Bancada del @PartidoLibre escribe al Embajador...   \n",
       "\n",
       "         categoria  \n",
       "1262938        8.0  \n",
       "1263106        8.0  \n",
       "251647         5.0  \n",
       "1328352        8.0  \n",
       "192517         4.0  \n",
       "...            ...  \n",
       "33793          2.0  \n",
       "1255001        8.0  \n",
       "310940         6.0  \n",
       "1279131        8.0  \n",
       "1267166        8.0  \n",
       "\n",
       "[100 rows x 3 columns]"
      ]
     },
     "execution_count": 16,
     "metadata": {},
     "output_type": "execute_result"
    }
   ],
   "source": [
    "data = data.iloc[0:100]\n",
    "data"
   ]
  },
  {
   "cell_type": "code",
   "execution_count": 17,
   "metadata": {},
   "outputs": [],
   "source": [
    "obj_Discr.str_StopWords='StopWords.p'\n",
    "obj_Discr.CargarStopWords()\n",
    "\n",
    "data = obj_Discr.LimpiarDataFrame(data)\n",
    "data = obj_Discr.QuitarStopWordsDataFrame(data)"
   ]
  },
  {
   "cell_type": "code",
   "execution_count": 18,
   "metadata": {},
   "outputs": [
    {
     "name": "stdout",
     "output_type": "stream",
     "text": [
      "(80, 3)\n",
      "(20, 3)\n"
     ]
    }
   ],
   "source": [
    "train, test = train_test_split(data, test_size=0.2)\n",
    "print(train.shape)\n",
    "print(test.shape)"
   ]
  },
  {
   "cell_type": "code",
   "execution_count": 19,
   "metadata": {},
   "outputs": [
    {
     "data": {
      "text/plain": [
       "(80, 300)"
      ]
     },
     "execution_count": 19,
     "metadata": {},
     "output_type": "execute_result"
    }
   ],
   "source": [
    "npEmbeddings = np.empty([0, 300])\n",
    "\n",
    "for texto in train['full_text']:\n",
    "    \n",
    "    #print(texto)\n",
    "    \n",
    "    # process a sentence using the model\n",
    "    doc = nlp(texto)\n",
    "    \n",
    "    # print(doc.vector.shape)\n",
    "    if doc.vector.shape[0]==300:\n",
    "        npEmbeddings = np.append(npEmbeddings, [doc.vector], axis = 0)\n",
    "    else:\n",
    "        npAux = np.empty([1, 300])\n",
    "        npEmbeddings = np.append(npEmbeddings, npAux, axis = 0)\n",
    "\n",
    "npEmbeddings.shape"
   ]
  },
  {
   "cell_type": "code",
   "execution_count": 106,
   "metadata": {},
   "outputs": [
    {
     "data": {
      "text/html": [
       "<div>\n",
       "<style scoped>\n",
       "    .dataframe tbody tr th:only-of-type {\n",
       "        vertical-align: middle;\n",
       "    }\n",
       "\n",
       "    .dataframe tbody tr th {\n",
       "        vertical-align: top;\n",
       "    }\n",
       "\n",
       "    .dataframe thead th {\n",
       "        text-align: right;\n",
       "    }\n",
       "</style>\n",
       "<table border=\"1\" class=\"dataframe\">\n",
       "  <thead>\n",
       "    <tr style=\"text-align: right;\">\n",
       "      <th></th>\n",
       "      <th>A</th>\n",
       "      <th>B</th>\n",
       "      <th>C</th>\n",
       "      <th>D</th>\n",
       "      <th>Y</th>\n",
       "    </tr>\n",
       "  </thead>\n",
       "  <tbody>\n",
       "    <tr>\n",
       "      <th>0</th>\n",
       "      <td>34</td>\n",
       "      <td>10</td>\n",
       "      <td>54</td>\n",
       "      <td>98</td>\n",
       "      <td>1</td>\n",
       "    </tr>\n",
       "    <tr>\n",
       "      <th>1</th>\n",
       "      <td>78</td>\n",
       "      <td>15</td>\n",
       "      <td>54</td>\n",
       "      <td>88</td>\n",
       "      <td>1</td>\n",
       "    </tr>\n",
       "    <tr>\n",
       "      <th>2</th>\n",
       "      <td>74</td>\n",
       "      <td>14</td>\n",
       "      <td>10</td>\n",
       "      <td>65</td>\n",
       "      <td>1</td>\n",
       "    </tr>\n",
       "    <tr>\n",
       "      <th>3</th>\n",
       "      <td>744</td>\n",
       "      <td>134</td>\n",
       "      <td>110</td>\n",
       "      <td>645</td>\n",
       "      <td>1</td>\n",
       "    </tr>\n",
       "    <tr>\n",
       "      <th>4</th>\n",
       "      <td>734</td>\n",
       "      <td>434</td>\n",
       "      <td>610</td>\n",
       "      <td>675</td>\n",
       "      <td>1</td>\n",
       "    </tr>\n",
       "    <tr>\n",
       "      <th>5</th>\n",
       "      <td>9</td>\n",
       "      <td>41</td>\n",
       "      <td>10</td>\n",
       "      <td>63</td>\n",
       "      <td>2</td>\n",
       "    </tr>\n",
       "    <tr>\n",
       "      <th>6</th>\n",
       "      <td>9</td>\n",
       "      <td>41</td>\n",
       "      <td>10</td>\n",
       "      <td>63</td>\n",
       "      <td>2</td>\n",
       "    </tr>\n",
       "    <tr>\n",
       "      <th>7</th>\n",
       "      <td>91</td>\n",
       "      <td>21</td>\n",
       "      <td>103</td>\n",
       "      <td>43</td>\n",
       "      <td>2</td>\n",
       "    </tr>\n",
       "    <tr>\n",
       "      <th>8</th>\n",
       "      <td>98</td>\n",
       "      <td>461</td>\n",
       "      <td>103</td>\n",
       "      <td>683</td>\n",
       "      <td>2</td>\n",
       "    </tr>\n",
       "    <tr>\n",
       "      <th>9</th>\n",
       "      <td>741</td>\n",
       "      <td>13</td>\n",
       "      <td>114</td>\n",
       "      <td>642</td>\n",
       "      <td>2</td>\n",
       "    </tr>\n",
       "    <tr>\n",
       "      <th>10</th>\n",
       "      <td>19</td>\n",
       "      <td>441</td>\n",
       "      <td>145</td>\n",
       "      <td>66</td>\n",
       "      <td>3</td>\n",
       "    </tr>\n",
       "    <tr>\n",
       "      <th>11</th>\n",
       "      <td>91</td>\n",
       "      <td>481</td>\n",
       "      <td>140</td>\n",
       "      <td>623</td>\n",
       "      <td>3</td>\n",
       "    </tr>\n",
       "    <tr>\n",
       "      <th>12</th>\n",
       "      <td>29</td>\n",
       "      <td>441</td>\n",
       "      <td>150</td>\n",
       "      <td>634</td>\n",
       "      <td>3</td>\n",
       "    </tr>\n",
       "    <tr>\n",
       "      <th>13</th>\n",
       "      <td>294</td>\n",
       "      <td>440</td>\n",
       "      <td>160</td>\n",
       "      <td>634</td>\n",
       "      <td>3</td>\n",
       "    </tr>\n",
       "    <tr>\n",
       "      <th>14</th>\n",
       "      <td>74</td>\n",
       "      <td>13</td>\n",
       "      <td>11</td>\n",
       "      <td>145</td>\n",
       "      <td>3</td>\n",
       "    </tr>\n",
       "  </tbody>\n",
       "</table>\n",
       "</div>"
      ],
      "text/plain": [
       "      A    B    C    D  Y\n",
       "0    34   10   54   98  1\n",
       "1    78   15   54   88  1\n",
       "2    74   14   10   65  1\n",
       "3   744  134  110  645  1\n",
       "4   734  434  610  675  1\n",
       "5     9   41   10   63  2\n",
       "6     9   41   10   63  2\n",
       "7    91   21  103   43  2\n",
       "8    98  461  103  683  2\n",
       "9   741   13  114  642  2\n",
       "10   19  441  145   66  3\n",
       "11   91  481  140  623  3\n",
       "12   29  441  150  634  3\n",
       "13  294  440  160  634  3\n",
       "14   74   13   11  145  3"
      ]
     },
     "execution_count": 106,
     "metadata": {},
     "output_type": "execute_result"
    }
   ],
   "source": [
    "# Import pandas library \n",
    "import pandas as pd \n",
    "  \n",
    "# initialize list of lists \n",
    "data = [[34, 10, 54,  98, 1], [78, 15,54, 88, 1], [74, 14, 10, 65, 1], [744, 134, 110, 645, 1], [734, 434, 610, 675, 1],\n",
    "        [9, 41, 10, 63, 2], [9, 41, 10, 63, 2], [91, 21, 103, 43, 2], [98, 461, 103, 683, 2], [741, 13, 114, 642, 2],\n",
    "        [19, 441, 145, 66, 3], [91, 481, 140, 623, 3], [29, 441, 150, 634, 3], [294, 440, 160, 634, 3], [74, 13, 11, 145, 3]] \n",
    "  \n",
    "# Create the pandas DataFrame \n",
    "df = pd.DataFrame(data, columns = ['A', 'B', 'C', 'D', 'Y']) \n",
    "  \n",
    "X_train = df[['A','B','C','D']]\n",
    "Y_train = df[['Y']]\n",
    "\n",
    "# print dataframe. \n",
    "df"
   ]
  },
  {
   "cell_type": "code",
   "execution_count": 108,
   "metadata": {},
   "outputs": [
    {
     "name": "stdout",
     "output_type": "stream",
     "text": [
      "(7, 5)\n",
      "(8, 5)\n"
     ]
    }
   ],
   "source": [
    "train, test = train_test_split(df, test_size=0.5)\n",
    "print(train.shape)\n",
    "print(test.shape)"
   ]
  },
  {
   "cell_type": "code",
   "execution_count": 109,
   "metadata": {},
   "outputs": [
    {
     "name": "stdout",
     "output_type": "stream",
     "text": [
      "Fitting 2 folds for each of 16 candidates, totalling 32 fits\n",
      "grid_search.best_params_:  {'max_depth': 4, 'max_features': 'sqrt', 'min_samples_leaf': 3, 'min_samples_split': 16}\n",
      "grid_search.best_score_:  0.26785714285714285\n",
      "Fitting 2 folds for each of 16 candidates, totalling 32 fits\n"
     ]
    },
    {
     "name": "stderr",
     "output_type": "stream",
     "text": [
      "[Parallel(n_jobs=-1)]: Using backend LokyBackend with 4 concurrent workers.\n",
      "[Parallel(n_jobs=-1)]: Done  32 out of  32 | elapsed:    0.2s finished\n",
      "[Parallel(n_jobs=-1)]: Using backend LokyBackend with 4 concurrent workers.\n",
      "[Parallel(n_jobs=-1)]: Done  32 out of  32 | elapsed:    1.3s finished\n",
      "/home/jupyter-ronmoy007@gmail.co-0e856/.local/lib/python3.7/site-packages/sklearn/model_selection/_search.py:765: DataConversionWarning: A column-vector y was passed when a 1d array was expected. Please change the shape of y to (n_samples,), for example using ravel().\n",
      "  self.best_estimator_.fit(X, y, **fit_params)\n",
      "[Parallel(n_jobs=-1)]: Using backend LokyBackend with 4 concurrent workers.\n"
     ]
    },
    {
     "name": "stdout",
     "output_type": "stream",
     "text": [
      "grid_search.best_params_:  {'max_depth': 4, 'max_features': 'sqrt', 'min_samples_leaf': 3, 'min_samples_split': 16, 'n_estimators': 50}\n",
      "grid_search.best_score_:  0.26785714285714285\n",
      "Fitting 2 folds for each of 504 candidates, totalling 1008 fits\n"
     ]
    },
    {
     "name": "stderr",
     "output_type": "stream",
     "text": [
      "[Parallel(n_jobs=-1)]: Done  40 tasks      | elapsed:    2.7s\n",
      "[Parallel(n_jobs=-1)]: Done 232 tasks      | elapsed:   14.9s\n",
      "[Parallel(n_jobs=-1)]: Done 552 tasks      | elapsed:   35.3s\n"
     ]
    },
    {
     "name": "stdout",
     "output_type": "stream",
     "text": [
      "grid_search.best_params_:  {'learning_rate': 0.1, 'max_depth': 3, 'max_features': 'sqrt', 'min_samples_leaf': 3, 'min_samples_split': 4, 'n_estimators': 50}\n",
      "grid_search.best_score_:  0.3839285714285714\n"
     ]
    },
    {
     "name": "stderr",
     "output_type": "stream",
     "text": [
      "[Parallel(n_jobs=-1)]: Done 1008 out of 1008 | elapsed:  1.1min finished\n",
      "/home/jupyter-ronmoy007@gmail.co-0e856/.local/lib/python3.7/site-packages/sklearn/utils/validation.py:73: DataConversionWarning: A column-vector y was passed when a 1d array was expected. Please change the shape of y to (n_samples, ), for example using ravel().\n",
      "  return f(**kwargs)\n"
     ]
    }
   ],
   "source": [
    "#X_train = pd.DataFrame(npEmbeddings)\n",
    "#Y_train = pd.DataFrame(train.disc)\n",
    "arrModelos = Prep_Modelos(npNombreModelos)\n",
    "\n",
    "# #Se corre el magic loop para realizar las predicciones con los parámetros previamente establecidos\n",
    "best_model,npGridSearchCv = Correr_Magic_Loop(arrModelos,\n",
    "                                    npDictHiperParam,\n",
    "                                    X_train,\n",
    "                                    Y_train,\n",
    "                                    2,\n",
    "                                    'accuracy')\n",
    "\n",
    "npArrBestScores = np.array([])\n",
    "npArrBestParams = np.array([])\n",
    "\n",
    "# Barremos el arreglo de GridSearchCV´s para sacar los mejores scores y parámetros\n",
    "for grid in npGridSearchCv:\n",
    "    npArrBestScores = np.append(npArrBestScores, grid.best_score_)\n",
    "    npArrBestParams = np.append(npArrBestParams, grid.best_params_)"
   ]
  },
  {
   "cell_type": "code",
   "execution_count": 110,
   "metadata": {},
   "outputs": [
    {
     "data": {
      "text/plain": [
       "GradientBoostingClassifier(max_features='sqrt', min_samples_leaf=3,\n",
       "                           min_samples_split=4, n_estimators=50)"
      ]
     },
     "execution_count": 110,
     "metadata": {},
     "output_type": "execute_result"
    }
   ],
   "source": [
    "# Obtenemos el índice del mejor score\n",
    "nbrIndiceGanador = np.argmax(npArrBestScores, axis=0)\n",
    "\n",
    "# Mostramos el modelo, parámetros y score ganador\n",
    "# print(\"Modelo ganador: \\n\", arrModelos[nbrIndiceGanador])\n",
    "# print(\"Score del modelo ganador: \\n\", npArrBestScores[nbrIndiceGanador])\n",
    "# print(\"Parametros del modelo ganador: \\n\", npArrBestParams[nbrIndiceGanador])\n",
    "\n",
    "# Se instancia el modelo ganador\n",
    "# self.ModeloGanadorMagicLoop = objEda.InstanciarModeloDinamico(npNombreModelos, nbrIndiceGanador, npArrBestParams[nbrIndiceGanador])\n",
    "ModeloGanadorMagicLoop = best_model\n",
    "ModeloGanadorMagicLoop"
   ]
  },
  {
   "cell_type": "markdown",
   "metadata": {},
   "source": [
    "# Test"
   ]
  },
  {
   "cell_type": "code",
   "execution_count": null,
   "metadata": {},
   "outputs": [],
   "source": [
    "npEmbeddings2 = np.empty([0, 300])\n",
    "for texto in test['full_text']:\n",
    "    \n",
    "    #print(frase)\n",
    "    \n",
    "    # process a sentence using the model\n",
    "    doc = nlp(texto)\n",
    "    \n",
    "    # print(doc.vector.shape)\n",
    "    #print(npEmbeddings.shape)\n",
    "    #print(doc.vector.shape)\n",
    "    \n",
    "    if doc.vector.shape[0]==300:\n",
    "        npEmbeddings2 = np.append(npEmbeddings2, [doc.vector], axis = 0)\n",
    "    else:\n",
    "        npAux = np.empty([1, 300])\n",
    "        doc = nlp('prueba')\n",
    "        #npEmbeddings = np.append(npEmbeddings, npAux, axis = 0)\n",
    "        npEmbeddings2 = np.append(npEmbeddings2, [doc.vector], axis = 0)\n",
    "        predicted_svm = clf.predict([doc.vector])\n",
    "        \n",
    "npEmbeddings2.shape"
   ]
  },
  {
   "cell_type": "code",
   "execution_count": 111,
   "metadata": {},
   "outputs": [],
   "source": [
    "classifier = ModeloGanadorMagicLoop\n",
    "X_test = test[['A','B','C','D']]\n",
    "y_test = test.Y\n",
    "class_names = ['clase1','clase2','clase3']"
   ]
  },
  {
   "cell_type": "code",
   "execution_count": null,
   "metadata": {},
   "outputs": [],
   "source": []
  },
  {
   "cell_type": "code",
   "execution_count": 112,
   "metadata": {},
   "outputs": [
    {
     "name": "stdout",
     "output_type": "stream",
     "text": [
      "Confusion matrix, without normalization\n",
      "[[1 0 0]\n",
      " [0 3 0]\n",
      " [0 0 4]]\n",
      "Normalized confusion matrix\n",
      "[[1. 0. 0.]\n",
      " [0. 1. 0.]\n",
      " [0. 0. 1.]]\n"
     ]
    },
    {
     "data": {
      "image/png": "[encoded data removed]",
      "text/plain": [
       "<Figure size 432x288 with 2 Axes>"
      ]
     },
     "metadata": {
      "needs_background": "light"
     },
     "output_type": "display_data"
    },
    {
     "data": {
      "image/png": "[encoded data removed]",
      "text/plain": [
       "<Figure size 432x288 with 2 Axes>"
      ]
     },
     "metadata": {
      "needs_background": "light"
     },
     "output_type": "display_data"
    }
   ],
   "source": [
    "from sklearn.metrics import plot_confusion_matrix\n",
    "import matplotlib.pyplot as plt\n",
    "\n",
    "# Plot non-normalized confusion matrix\n",
    "titles_options = [(\"Confusion matrix, without normalization\", None),\n",
    "                  (\"Normalized confusion matrix\", 'true')]\n",
    "for title, normalize in titles_options:\n",
    "    disp = plot_confusion_matrix(classifier, X_test, y_test,\n",
    "                                 display_labels=class_names,\n",
    "                                 cmap=plt.cm.Blues,\n",
    "                                 normalize=normalize)\n",
    "    disp.ax_.set_title(title)\n",
    "\n",
    "    print(title)\n",
    "    print(disp.confusion_matrix)\n",
    "\n",
    "plt.show()"
   ]
  }
 ],
 "metadata": {
  "kernelspec": {
   "display_name": "Python 3",
   "language": "python",
   "name": "python3"
  },
  "language_info": {
   "codemirror_mode": {
    "name": "ipython",
    "version": 3
   },
   "file_extension": ".py",
   "mimetype": "text/x-python",
   "name": "python",
   "nbconvert_exporter": "python",
   "pygments_lexer": "ipython3",
   "version": "3.7.6"
  }
 },
 "nbformat": 4,
 "nbformat_minor": 4
}
