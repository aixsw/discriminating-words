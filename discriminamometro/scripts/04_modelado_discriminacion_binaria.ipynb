{
 "cells": [
  {
   "cell_type": "code",
   "execution_count": 1,
   "metadata": {},
   "outputs": [
    {
     "name": "stdout",
     "output_type": "stream",
     "text": [
      "8\n"
     ]
    }
   ],
   "source": [
    "from Discriminamometro import Utileria, Discriminamometro\n",
    "import pandas as pd\n",
    "import spacy\n",
    "import numpy as np\n",
    "from sklearn.model_selection import train_test_split\n",
    "from sklearn.linear_model import SGDClassifier\n",
    "\n",
    "\n",
    "nlp = spacy.load('./data/tweets/')\n",
    "# Se instancia la clase del Discriminamometro\n",
    "obj_Discr = Discriminamometro('PRUEBA')\n",
    "\n",
    "# Mostramos la cantidad de tweets\n",
    "print(obj_Discr.nbr_TweetsXCorrida)"
   ]
  },
  {
   "cell_type": "code",
   "execution_count": 25,
   "metadata": {},
   "outputs": [],
   "source": [
    "data = pd.read_csv(\"data/Tuits Discriminatorios - jul2020 - Muestra Tuits.csv\")"
   ]
  },
  {
   "cell_type": "code",
   "execution_count": 26,
   "metadata": {},
   "outputs": [],
   "source": [
    "data.columns = ['full_text', 'categoria', 'disc', 'Observaciones']\n",
    "data[\"disc\"] = data[\"disc\"].replace(['???'],'SI')"
   ]
  },
  {
   "cell_type": "code",
   "execution_count": 27,
   "metadata": {},
   "outputs": [
    {
     "data": {
      "text/plain": [
       "NO    631\n",
       "SI    369\n",
       "Name: disc, dtype: int64"
      ]
     },
     "execution_count": 27,
     "metadata": {},
     "output_type": "execute_result"
    }
   ],
   "source": [
    "data[\"disc\"].value_counts()"
   ]
  },
  {
   "cell_type": "code",
   "execution_count": 28,
   "metadata": {},
   "outputs": [],
   "source": [
    "data[\"disc\"] = data[\"disc\"].replace(['SI'],1)\n",
    "data[\"disc\"] = data[\"disc\"].replace(['NO'],0)"
   ]
  },
  {
   "cell_type": "code",
   "execution_count": 29,
   "metadata": {},
   "outputs": [
    {
     "data": {
      "text/html": [
       "<div>\n",
       "<style scoped>\n",
       "    .dataframe tbody tr th:only-of-type {\n",
       "        vertical-align: middle;\n",
       "    }\n",
       "\n",
       "    .dataframe tbody tr th {\n",
       "        vertical-align: top;\n",
       "    }\n",
       "\n",
       "    .dataframe thead th {\n",
       "        text-align: right;\n",
       "    }\n",
       "</style>\n",
       "<table border=\"1\" class=\"dataframe\">\n",
       "  <thead>\n",
       "    <tr style=\"text-align: right;\">\n",
       "      <th></th>\n",
       "      <th>full_text</th>\n",
       "      <th>categoria</th>\n",
       "      <th>disc</th>\n",
       "      <th>Observaciones</th>\n",
       "    </tr>\n",
       "  </thead>\n",
       "  <tbody>\n",
       "    <tr>\n",
       "      <th>0</th>\n",
       "      <td>!Viva la \"diversidad\"! [?] \\n\\n!Proximamente e...</td>\n",
       "      <td>apariencia</td>\n",
       "      <td>0</td>\n",
       "      <td>capaz que la imagen es discriminatoria</td>\n",
       "    </tr>\n",
       "    <tr>\n",
       "      <th>1</th>\n",
       "      <td>@tennissucios @TenochHuerta Jajajaja... Muy ac...</td>\n",
       "      <td>apariencia</td>\n",
       "      <td>0</td>\n",
       "      <td>NaN</td>\n",
       "    </tr>\n",
       "    <tr>\n",
       "      <th>2</th>\n",
       "      <td>Hay momentos de la vida en los que te das cuen...</td>\n",
       "      <td>apariencia</td>\n",
       "      <td>0</td>\n",
       "      <td>NaN</td>\n",
       "    </tr>\n",
       "    <tr>\n",
       "      <th>3</th>\n",
       "      <td>@hornyboysmex @Hombres_sexgay Hermoso guerito !</td>\n",
       "      <td>apariencia</td>\n",
       "      <td>0</td>\n",
       "      <td>sextuiter es un mundo raro</td>\n",
       "    </tr>\n",
       "    <tr>\n",
       "      <th>4</th>\n",
       "      <td>Que restriccion tiene @DrGiammattei preparado ...</td>\n",
       "      <td>apariencia</td>\n",
       "      <td>0</td>\n",
       "      <td>NaN</td>\n",
       "    </tr>\n",
       "  </tbody>\n",
       "</table>\n",
       "</div>"
      ],
      "text/plain": [
       "                                           full_text   categoria  disc  \\\n",
       "0  !Viva la \"diversidad\"! [?] \\n\\n!Proximamente e...  apariencia     0   \n",
       "1  @tennissucios @TenochHuerta Jajajaja... Muy ac...  apariencia     0   \n",
       "2  Hay momentos de la vida en los que te das cuen...  apariencia     0   \n",
       "3    @hornyboysmex @Hombres_sexgay Hermoso guerito !  apariencia     0   \n",
       "4  Que restriccion tiene @DrGiammattei preparado ...  apariencia     0   \n",
       "\n",
       "                            Observaciones  \n",
       "0  capaz que la imagen es discriminatoria  \n",
       "1                                     NaN  \n",
       "2                                     NaN  \n",
       "3              sextuiter es un mundo raro  \n",
       "4                                     NaN  "
      ]
     },
     "execution_count": 29,
     "metadata": {},
     "output_type": "execute_result"
    }
   ],
   "source": [
    "data.head()"
   ]
  },
  {
   "cell_type": "code",
   "execution_count": 30,
   "metadata": {},
   "outputs": [],
   "source": [
    "obj_Discr.str_StopWords='StopWords.p'\n",
    "obj_Discr.CargarStopWords()\n",
    "\n",
    "data = obj_Discr.LimpiarDataFrame(data)\n",
    "data = obj_Discr.QuitarStopWordsDataFrame(data)"
   ]
  },
  {
   "cell_type": "code",
   "execution_count": 31,
   "metadata": {},
   "outputs": [],
   "source": [
    "train, test = train_test_split(data, test_size=0.2,random_state = 202008)"
   ]
  },
  {
   "cell_type": "code",
   "execution_count": 32,
   "metadata": {},
   "outputs": [
    {
     "data": {
      "text/plain": [
       "(800, 300)"
      ]
     },
     "execution_count": 32,
     "metadata": {},
     "output_type": "execute_result"
    }
   ],
   "source": [
    "npEmbeddings = np.empty([0, 300])\n",
    "\n",
    "for texto in train['full_text']:\n",
    "    \n",
    "    #print(texto)\n",
    "    \n",
    "    # process a sentence using the model\n",
    "    doc = nlp(texto)\n",
    "    \n",
    "    # print(doc.vector.shape)\n",
    "    if doc.vector.shape[0]==300:\n",
    "        npEmbeddings = np.append(npEmbeddings, [doc.vector], axis = 0)\n",
    "    else:\n",
    "        npAux = np.empty([1, 300])\n",
    "        npEmbeddings = np.append(npEmbeddings, npAux, axis = 0)\n",
    "\n",
    "npEmbeddings.shape"
   ]
  },
  {
   "cell_type": "code",
   "execution_count": 33,
   "metadata": {},
   "outputs": [],
   "source": [
    "import numpy as np\n",
    "from sklearn.ensemble import GradientBoostingClassifier\n",
    "from sklearn.ensemble import RandomForestClassifier\n",
    "from sklearn.model_selection import GridSearchCV\n",
    "from sklearn import tree\n",
    "import pandas as pd\n",
    "import os"
   ]
  },
  {
   "cell_type": "code",
   "execution_count": 34,
   "metadata": {},
   "outputs": [],
   "source": [
    "def Correr_Magic_Loop( npClassifier, npDictHyperParams, X_train, Y_train, nbrCv, strScoring):\n",
    "\n",
    "        npResultados = np.array([])\n",
    "        for i, classifier in enumerate(npClassifier):\n",
    "            dictHyperParams = npDictHyperParams[i]\n",
    "            grid_search = GridSearchCV(classifier,\n",
    "                                       dictHyperParams,\n",
    "                                       scoring=strScoring,\n",
    "                                       cv=nbrCv,\n",
    "                                       n_jobs=-1,\n",
    "                                       verbose=3\n",
    "                                       )\n",
    "            grid_search.fit(X_train, Y_train)\n",
    "            npResultados = np.append(npResultados, grid_search)\n",
    "\n",
    "            # de los valores posibles que pusimos en el grid, cuáles fueron los mejores\n",
    "            print('grid_search.best_params_: ', grid_search.best_params_)\n",
    "\n",
    "            # mejor score asociado a los modelos generados con los diferentes hiperparametros\n",
    "            # corresponde al promedio de los scores generados con los cv\n",
    "            print('grid_search.best_score_: ', grid_search.best_score_)\n",
    "\n",
    "            best_model = grid_search.best_estimator_\n",
    "\n",
    "\n",
    "        return best_model, npResultados"
   ]
  },
  {
   "cell_type": "code",
   "execution_count": 35,
   "metadata": {},
   "outputs": [],
   "source": [
    "def Prep_Modelos(npModelos):\n",
    "\n",
    "    npArrayModelos = np.array([])\n",
    "    for strModelo in npModelos:\n",
    "\n",
    "        if strModelo == 'DECTREE':\n",
    "            classifier = tree.DecisionTreeClassifier()\n",
    "        if strModelo == 'RANDOMF':\n",
    "            classifier = RandomForestClassifier()\n",
    "        if strModelo == 'XGBOOST':\n",
    "            classifier = GradientBoostingClassifier()\n",
    "\n",
    "        npArrayModelos = np.append(npArrayModelos, classifier)\n",
    "\n",
    "    return npArrayModelos"
   ]
  },
  {
   "cell_type": "code",
   "execution_count": 36,
   "metadata": {},
   "outputs": [],
   "source": [
    "npDictHiperParam = np.array([]) \n",
    "# Parametrización para Árboles\n",
    "dictHyperParams = {'max_depth': [4,7],  # \n",
    "                   'min_samples_split': [4,16],  # \n",
    "                   'min_samples_leaf': [3,7],  # \n",
    "                   'max_features': ['sqrt','log2']  # \n",
    "                   }\n",
    "npDictHiperParam = np.append(npDictHiperParam, dictHyperParams)\n",
    "\n",
    "# Parametrización para Bosques\n",
    "dictHyperParams = {'n_estimators': [50],  # Se redujo a 50\n",
    "                   'max_depth': [4,7],  # \n",
    "                   'max_features': ['sqrt','log2'],\n",
    "                   'min_samples_split': [4,16],\n",
    "                   'min_samples_leaf': [3,7]\n",
    "                   }\n",
    "npDictHiperParam = np.append(npDictHiperParam, dictHyperParams)\n",
    "\n",
    "# Parametrización para XGBoost\n",
    "dictHyperParams = {'learning_rate': [0.1,0.25, 0.75],\n",
    "                   'n_estimators': [50,100,150],  # Se redujo a 50\n",
    "                   'min_samples_split': [4,16],\n",
    "                   'min_samples_leaf': [3,7],\n",
    "                   'max_depth': [3,4,5,6,7,10,15],\n",
    "                   'max_features': ['sqrt','log2']\n",
    "                   }\n",
    "npDictHiperParam = np.append(npDictHiperParam, dictHyperParams)\n",
    "\n",
    "# Se crean los modelos de clasificaión que se emplearán (en el mismo orden que los diccionarios)\n",
    "npNombreModelos = np.array([])\n",
    "npNombreModelos = np.append(npNombreModelos, 'DECTREE')\n",
    "npNombreModelos = np.append(npNombreModelos, 'RANDOMF')\n",
    "npNombreModelos = np.append(npNombreModelos, 'XGBOOST')"
   ]
  },
  {
   "cell_type": "code",
   "execution_count": 37,
   "metadata": {},
   "outputs": [
    {
     "name": "stdout",
     "output_type": "stream",
     "text": [
      "Fitting 5 folds for each of 16 candidates, totalling 80 fits\n"
     ]
    },
    {
     "name": "stderr",
     "output_type": "stream",
     "text": [
      "[Parallel(n_jobs=-1)]: Using backend LokyBackend with 12 concurrent workers.\n",
      "[Parallel(n_jobs=-1)]: Done   8 tasks      | elapsed:    1.2s\n",
      "[Parallel(n_jobs=-1)]: Done  80 out of  80 | elapsed:    1.5s finished\n",
      "[Parallel(n_jobs=-1)]: Using backend LokyBackend with 12 concurrent workers.\n"
     ]
    },
    {
     "name": "stdout",
     "output_type": "stream",
     "text": [
      "grid_search.best_params_:  {'max_depth': 4, 'max_features': 'sqrt', 'min_samples_leaf': 7, 'min_samples_split': 16}\n",
      "grid_search.best_score_:  0.7520890895085314\n",
      "Fitting 5 folds for each of 16 candidates, totalling 80 fits\n"
     ]
    },
    {
     "name": "stderr",
     "output_type": "stream",
     "text": [
      "[Parallel(n_jobs=-1)]: Done   8 tasks      | elapsed:    0.4s\n",
      "[Parallel(n_jobs=-1)]: Done  80 out of  80 | elapsed:    2.5s finished\n",
      "/home/francisco/anaconda3/envs/discriminamometro/lib/python3.7/site-packages/sklearn/model_selection/_search.py:739: DataConversionWarning: A column-vector y was passed when a 1d array was expected. Please change the shape of y to (n_samples,), for example using ravel().\n",
      "  self.best_estimator_.fit(X, y, **fit_params)\n"
     ]
    },
    {
     "name": "stdout",
     "output_type": "stream",
     "text": [
      "grid_search.best_params_:  {'max_depth': 7, 'max_features': 'log2', 'min_samples_leaf': 7, 'min_samples_split': 16, 'n_estimators': 50}\n",
      "grid_search.best_score_:  0.8454783708508027\n",
      "Fitting 5 folds for each of 504 candidates, totalling 2520 fits\n"
     ]
    },
    {
     "name": "stderr",
     "output_type": "stream",
     "text": [
      "[Parallel(n_jobs=-1)]: Using backend LokyBackend with 12 concurrent workers.\n",
      "[Parallel(n_jobs=-1)]: Done   8 tasks      | elapsed:    0.6s\n",
      "[Parallel(n_jobs=-1)]: Done 104 tasks      | elapsed:    4.7s\n",
      "[Parallel(n_jobs=-1)]: Done 264 tasks      | elapsed:   14.3s\n",
      "[Parallel(n_jobs=-1)]: Done 488 tasks      | elapsed:   32.2s\n",
      "[Parallel(n_jobs=-1)]: Done 776 tasks      | elapsed:  1.1min\n",
      "[Parallel(n_jobs=-1)]: Done 1128 tasks      | elapsed:  1.6min\n",
      "[Parallel(n_jobs=-1)]: Done 1544 tasks      | elapsed:  2.1min\n",
      "[Parallel(n_jobs=-1)]: Done 2024 tasks      | elapsed:  2.6min\n",
      "[Parallel(n_jobs=-1)]: Done 2520 out of 2520 | elapsed:  3.1min finished\n",
      "/home/francisco/anaconda3/envs/discriminamometro/lib/python3.7/site-packages/sklearn/ensemble/_gb.py:1454: DataConversionWarning: A column-vector y was passed when a 1d array was expected. Please change the shape of y to (n_samples, ), for example using ravel().\n",
      "  y = column_or_1d(y, warn=True)\n"
     ]
    },
    {
     "name": "stdout",
     "output_type": "stream",
     "text": [
      "grid_search.best_params_:  {'learning_rate': 0.25, 'max_depth': 15, 'max_features': 'log2', 'min_samples_leaf': 3, 'min_samples_split': 4, 'n_estimators': 150}\n",
      "grid_search.best_score_:  0.8761027603430745\n"
     ]
    }
   ],
   "source": [
    "X_train = pd.DataFrame(npEmbeddings)\n",
    "Y_train = pd.DataFrame(train.disc)\n",
    "arrModelos = Prep_Modelos(npNombreModelos)\n",
    "\n",
    "# #Se corre el magic loop para realizar las predicciones con los parámetros previamente establecidos\n",
    "best_model,npGridSearchCv = Correr_Magic_Loop(arrModelos,\n",
    "                                    npDictHiperParam,\n",
    "                                    X_train,\n",
    "                                    Y_train,\n",
    "                                    5,\n",
    "                                    'roc_auc')\n",
    "\n",
    "npArrBestScores = np.array([])\n",
    "npArrBestParams = np.array([])\n",
    "\n",
    "# Barremos el arreglo de GridSearchCV´s para sacar los mejores scores y parámetros\n",
    "for grid in npGridSearchCv:\n",
    "    npArrBestScores = np.append(npArrBestScores, grid.best_score_)\n",
    "    npArrBestParams = np.append(npArrBestParams, grid.best_params_)"
   ]
  },
  {
   "cell_type": "code",
   "execution_count": 38,
   "metadata": {},
   "outputs": [],
   "source": [
    "# Obtenemos el índice del mejor score\n",
    "nbrIndiceGanador = np.argmax(npArrBestScores, axis=0)\n",
    "\n",
    "# Mostramos el modelo, parámetros y score ganador\n",
    "# print(\"Modelo ganador: \\n\", arrModelos[nbrIndiceGanador])\n",
    "# print(\"Score del modelo ganador: \\n\", npArrBestScores[nbrIndiceGanador])\n",
    "# print(\"Parametros del modelo ganador: \\n\", npArrBestParams[nbrIndiceGanador])\n",
    "\n",
    "# Se instancia el modelo ganador\n",
    "# self.ModeloGanadorMagicLoop = objEda.InstanciarModeloDinamico(npNombreModelos, nbrIndiceGanador, npArrBestParams[nbrIndiceGanador])\n",
    "ModeloGanadorMagicLoop = best_model"
   ]
  },
  {
   "cell_type": "code",
   "execution_count": 39,
   "metadata": {},
   "outputs": [
    {
     "data": {
      "text/plain": [
       "GradientBoostingClassifier(ccp_alpha=0.0, criterion='friedman_mse', init=None,\n",
       "                           learning_rate=0.25, loss='deviance', max_depth=15,\n",
       "                           max_features='log2', max_leaf_nodes=None,\n",
       "                           min_impurity_decrease=0.0, min_impurity_split=None,\n",
       "                           min_samples_leaf=3, min_samples_split=4,\n",
       "                           min_weight_fraction_leaf=0.0, n_estimators=150,\n",
       "                           n_iter_no_change=None, presort='deprecated',\n",
       "                           random_state=None, subsample=1.0, tol=0.0001,\n",
       "                           validation_fraction=0.1, verbose=0,\n",
       "                           warm_start=False)"
      ]
     },
     "execution_count": 39,
     "metadata": {},
     "output_type": "execute_result"
    }
   ],
   "source": [
    "ModeloGanadorMagicLoop"
   ]
  },
  {
   "cell_type": "markdown",
   "metadata": {},
   "source": [
    "### Desempeño en test"
   ]
  },
  {
   "cell_type": "code",
   "execution_count": 40,
   "metadata": {},
   "outputs": [
    {
     "data": {
      "text/plain": [
       "(200, 300)"
      ]
     },
     "execution_count": 40,
     "metadata": {},
     "output_type": "execute_result"
    }
   ],
   "source": [
    "npEmbeddings2 = np.empty([0, 300])\n",
    "for texto in test['full_text']:\n",
    "    \n",
    "    #print(frase)\n",
    "    \n",
    "    # process a sentence using the model\n",
    "    doc = nlp(texto)\n",
    "    \n",
    "    # print(doc.vector.shape)\n",
    "    #print(npEmbeddings.shape)\n",
    "    #print(doc.vector.shape)\n",
    "    \n",
    "    if doc.vector.shape[0]==300:\n",
    "        npEmbeddings2 = np.append(npEmbeddings2, [doc.vector], axis = 0)\n",
    "    else:\n",
    "        npAux = np.empty([1, 300])\n",
    "        doc = nlp('prueba')\n",
    "        #npEmbeddings = np.append(npEmbeddings, npAux, axis = 0)\n",
    "        npEmbeddings2 = np.append(npEmbeddings2, [doc.vector], axis = 0)\n",
    "        predicted_svm = clf.predict([doc.vector])\n",
    "        \n",
    "npEmbeddings2.shape"
   ]
  },
  {
   "cell_type": "code",
   "execution_count": 52,
   "metadata": {},
   "outputs": [],
   "source": [
    "import pickle as pickle\n",
    "\n",
    "pickleFile = open('modelo_clasificacion_binaria_2.p', 'wb')\n",
    "pickle.dump(best_model, pickleFile)\n",
    "pickleFile.close()"
   ]
  },
  {
   "cell_type": "code",
   "execution_count": 8,
   "metadata": {},
   "outputs": [],
   "source": [
    "\n",
    "################### Carga de parámetros\n",
    "import pickle as pickle\n",
    "\n",
    "pickleFile = open('modelo_clasificacion_binaria_2_ori.p', 'rb')\n",
    "best_model = pickle.load(pickleFile)\n",
    "pickleFile.close()"
   ]
  },
  {
   "cell_type": "code",
   "execution_count": 4,
   "metadata": {},
   "outputs": [
    {
     "ename": "NameError",
     "evalue": "name 'npEmbeddings2' is not defined",
     "output_type": "error",
     "traceback": [
      "\u001b[0;31m---------------------------------------------------------------------------\u001b[0m",
      "\u001b[0;31mNameError\u001b[0m                                 Traceback (most recent call last)",
      "\u001b[0;32m<ipython-input-4-38310c664cd6>\u001b[0m in \u001b[0;36m<module>\u001b[0;34m\u001b[0m\n\u001b[0;32m----> 1\u001b[0;31m \u001b[0mpredicted_svm\u001b[0m \u001b[0;34m=\u001b[0m \u001b[0mbest_model\u001b[0m\u001b[0;34m.\u001b[0m\u001b[0mpredict\u001b[0m\u001b[0;34m(\u001b[0m\u001b[0mnpEmbeddings2\u001b[0m\u001b[0;34m)\u001b[0m\u001b[0;34m\u001b[0m\u001b[0;34m\u001b[0m\u001b[0m\n\u001b[0m\u001b[1;32m      2\u001b[0m \u001b[0mnp\u001b[0m\u001b[0;34m.\u001b[0m\u001b[0mmean\u001b[0m\u001b[0;34m(\u001b[0m\u001b[0mpredicted_svm\u001b[0m \u001b[0;34m==\u001b[0m \u001b[0mtest\u001b[0m\u001b[0;34m.\u001b[0m\u001b[0mdisc\u001b[0m\u001b[0;34m)\u001b[0m\u001b[0;34m\u001b[0m\u001b[0;34m\u001b[0m\u001b[0m\n",
      "\u001b[0;31mNameError\u001b[0m: name 'npEmbeddings2' is not defined"
     ]
    }
   ],
   "source": [
    "predicted_svm = best_model.predict(npEmbeddings2)\n",
    "np.mean(predicted_svm == test.disc)"
   ]
  },
  {
   "cell_type": "code",
   "execution_count": 12,
   "metadata": {},
   "outputs": [
    {
     "name": "stdout",
     "output_type": "stream",
     "text": [
      "[[9.99869593e-01 1.30406645e-04]]\n",
      "No discriminación\n"
     ]
    }
   ],
   "source": [
    "tweet = 'cojo rico'\n",
    "npAux = nlp(tweet).vector\n",
    "predicted_svm = best_model.predict([npAux])\n",
    "predicted_prob = best_model.predict_proba([npAux])\n",
    "print(predicted_prob)\n",
    "if(predicted_svm==0):\n",
    "    print('No discriminación')\n",
    "else:\n",
    "    print('Si discrimina')"
   ]
  },
  {
   "cell_type": "code",
   "execution_count": 43,
   "metadata": {},
   "outputs": [],
   "source": [
    "y_probas = best_model.predict_proba(npEmbeddings2)\n",
    "y_true = test.disc\n",
    "y_prob = pd.DataFrame(y_probas)\n",
    "y_prob.columns = [\"cero\",\"uno\"]\n",
    "y_prob = y_prob[\"uno\"]"
   ]
  },
  {
   "cell_type": "code",
   "execution_count": 44,
   "metadata": {},
   "outputs": [
    {
     "data": {
      "image/png": "[encoded data removed]",
      "text/plain": [
       "<Figure size 432x288 with 1 Axes>"
      ]
     },
     "metadata": {},
     "output_type": "display_data"
    }
   ],
   "source": [
    "from sklearn import metrics\n",
    "from matplotlib import pyplot as plt \n",
    "\n",
    "#Definimos la funcion que graficará la ROC\n",
    "def plot_ROC(test_labels, test_predictions):\n",
    "    fpr, tpr, thresholds = metrics.roc_curve(test_labels, \n",
    "                                             test_predictions, pos_label=1)\n",
    "    auc = \"%.2f\" % metrics.auc(fpr, tpr)\n",
    "    title = 'ROC Curve, AUC = '+str(auc)\n",
    "    with plt.style.context(('seaborn-whitegrid')):\n",
    "        fig, ax = plt.subplots()\n",
    "        ax.plot(fpr, tpr, \"#000099\", label='ROC curve')\n",
    "        ax.plot([0, 1], [0, 1], 'k--', label='Baseline')\n",
    "        plt.xlim([0.0, 1.0])\n",
    "        plt.ylim([0.0, 1.05])\n",
    "        plt.xlabel('False Positive Rate')\n",
    "        plt.ylabel('True Positive Rate')\n",
    "        plt.legend(loc='lower right')\n",
    "        plt.title(title)\n",
    "    return  \n",
    "plot_ROC(y_true, y_prob) "
   ]
  }
 ],
 "metadata": {
  "kernelspec": {
   "display_name": "Python 3",
   "language": "python",
   "name": "python3"
  },
  "language_info": {
   "codemirror_mode": {
    "name": "ipython",
    "version": 3
   },
   "file_extension": ".py",
   "mimetype": "text/x-python",
   "name": "python",
   "nbconvert_exporter": "python",
   "pygments_lexer": "ipython3",
   "version": "3.7.6"
  }
 },
 "nbformat": 4,
 "nbformat_minor": 4
}
