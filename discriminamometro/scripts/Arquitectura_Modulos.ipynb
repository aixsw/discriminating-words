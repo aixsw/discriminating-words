{
 "cells": [
  {
   "cell_type": "markdown",
   "metadata": {},
   "source": [
    "## Arquitectura de módulos del discriminamómetro\n",
    "\n",
    "Desde este notebook se expone la arquitectura general del proyecto \"Discriminamómetro\", esto es con la intención de poder correr algún proceso en específico de manera rápida y sencilla."
   ]
  },
  {
   "cell_type": "markdown",
   "metadata": {},
   "source": [
    "# ETL\n",
    "En el módulo ETL se encuentra: \n",
    "\n",
    "-El proceso de descarga recurrente que deberá estar programado para ejecutarse cada 15 minutos mediante un cron.\n",
    " \n",
    "-El proceso de obtención de tweets ya sea por usuario, o hashtag/palabras específicas"
   ]
  },
  {
   "cell_type": "code",
   "execution_count": 1,
   "metadata": {},
   "outputs": [
    {
     "name": "stdout",
     "output_type": "stream",
     "text": [
      "8\n",
      "Entra a descarga_recurrente_tweets\n",
      "str_ArchivoEnvio:  /home/jupyter-ronmoy007@gmail.co-0e856/discriminamometro/discriminamometro/scripts/json_apariencia_20200825_023344766864.txt\n",
      "str_NombreArchivoEnS3:  00_pruebas/json_apariencia_20200825_023344766864.txt\n",
      "Enviando el archivo a S3...\n",
      "Envío completado\n",
      "str_ArchivoEnvio:  /home/jupyter-ronmoy007@gmail.co-0e856/discriminamometro/discriminamometro/scripts/json_discapacidad_20200825_023345485418.txt\n",
      "str_NombreArchivoEnS3:  00_pruebas/json_discapacidad_20200825_023345485418.txt\n",
      "Enviando el archivo a S3...\n",
      "Envío completado\n",
      "str_ArchivoEnvio:  /home/jupyter-ronmoy007@gmail.co-0e856/discriminamometro/discriminamometro/scripts/json_edad_20200825_023346120519.txt\n",
      "str_NombreArchivoEnS3:  00_pruebas/json_edad_20200825_023346120519.txt\n",
      "Enviando el archivo a S3...\n",
      "Envío completado\n",
      "str_ArchivoEnvio:  /home/jupyter-ronmoy007@gmail.co-0e856/discriminamometro/discriminamometro/scripts/json_genero_20200825_023346745604.txt\n",
      "str_NombreArchivoEnS3:  00_pruebas/json_genero_20200825_023346745604.txt\n",
      "Enviando el archivo a S3...\n",
      "Envío completado\n",
      "str_ArchivoEnvio:  /home/jupyter-ronmoy007@gmail.co-0e856/discriminamometro/discriminamometro/scripts/json_ideologia_20200825_023347340377.txt\n",
      "str_NombreArchivoEnS3:  00_pruebas/json_ideologia_20200825_023347340377.txt\n",
      "Enviando el archivo a S3...\n",
      "Envío completado\n",
      "str_ArchivoEnvio:  /home/jupyter-ronmoy007@gmail.co-0e856/discriminamometro/discriminamometro/scripts/json_orientacion_20200825_023347913475.txt\n",
      "str_NombreArchivoEnS3:  00_pruebas/json_orientacion_20200825_023347913475.txt\n",
      "Enviando el archivo a S3...\n",
      "Envío completado\n",
      "str_ArchivoEnvio:  /home/jupyter-ronmoy007@gmail.co-0e856/discriminamometro/discriminamometro/scripts/json_religion_20200825_023348508298.txt\n",
      "str_NombreArchivoEnS3:  00_pruebas/json_religion_20200825_023348508298.txt\n",
      "Enviando el archivo a S3...\n",
      "Envío completado\n",
      "str_ArchivoEnvio:  /home/jupyter-ronmoy007@gmail.co-0e856/discriminamometro/discriminamometro/scripts/json_neutro_20200825_023349169239.txt\n",
      "str_NombreArchivoEnS3:  00_pruebas/json_neutro_20200825_023349169239.txt\n",
      "Enviando el archivo a S3...\n",
      "Envío completado\n"
     ]
    }
   ],
   "source": [
    "import Discrim.etl as etl\n",
    "\n",
    "obj_etl = etl.Etl('PRUEBA')\n",
    "print(obj_etl.nbr_TweetsXCorrida)\n",
    "\n",
    "obj_etl.descarga_recurrente_tweets()"
   ]
  },
  {
   "cell_type": "markdown",
   "metadata": {},
   "source": [
    "# Train\n",
    "El \"Discriminamómetro\" está constituido por 2 capas, en la primer capa se evalúa mediante un modelo si un tweet discrimina o no. En caso de que un tweet sea discriminatorio, en la segunda capa se evaluarán 7 modelos (uno por cada categoría) para determinar el grado de pertenencia a cada una de ellas. Además de ello, para lograr capturar el contexto de cada palabra, se incluye una fase de generación de embeddings que servirá para entrenar los modelos"
   ]
  },
  {
   "cell_type": "markdown",
   "metadata": {},
   "source": [
    "## Embeddings"
   ]
  },
  {
   "cell_type": "code",
   "execution_count": 3,
   "metadata": {},
   "outputs": [
    {
     "name": "stderr",
     "output_type": "stream",
     "text": [
      "[nltk_data] Downloading package punkt to /home/jupyter-\n",
      "[nltk_data]     ronmoy007@gmail.co-0e856/nltk_data...\n",
      "[nltk_data]   Package punkt is already up-to-date!\n"
     ]
    },
    {
     "name": "stdout",
     "output_type": "stream",
     "text": [
      "str_ArchivoEnvio:  ./data/word2vec_Embeddings.txt\n",
      "str_NombreArchivoEnS3:  00_entrenamiento/embeddings/word2vec_Embeddings.txt\n",
      "Enviando el archivo a S3...\n",
      "Envío completado\n"
     ]
    }
   ],
   "source": [
    "import Discrim.Train.embeddings as emb\n",
    "\n",
    "obj_emb = emb.Embeddings()\n",
    "\n",
    "obj_emb.descargar_archivo_fuente()\n",
    "obj_emb.transformar_dataset()\n",
    "obj_emb.generar_embeddings()\n",
    "obj_emb.enviar_embeddings_s3()"
   ]
  },
  {
   "cell_type": "markdown",
   "metadata": {},
   "source": [
    "# Capa1"
   ]
  },
  {
   "cell_type": "code",
   "execution_count": 5,
   "metadata": {},
   "outputs": [],
   "source": [
    "! gzip ./data/word2vec_Embeddings.txt"
   ]
  },
  {
   "cell_type": "code",
   "execution_count": 6,
   "metadata": {},
   "outputs": [
    {
     "name": "stdout",
     "output_type": "stream",
     "text": [
      "\u001b[2K\u001b[38;5;2m✔ Successfully created model\u001b[0m\n",
      "53549it [00:09, 5552.76it/s]word2vec_Embeddings.txt.gz\n",
      "\u001b[2K\u001b[38;5;2m✔ Loaded vectors from data/word2vec_Embeddings.txt.gz\u001b[0m\n",
      "\u001b[38;5;2m✔ Sucessfully compiled vocab\u001b[0m\n",
      "53767 entries, 53549 vectors\n"
     ]
    }
   ],
   "source": [
    "! python -m spacy init-model es data --vectors-loc ./data/word2vec_Embeddings.txt.gz"
   ]
  },
  {
   "cell_type": "code",
   "execution_count": 1,
   "metadata": {},
   "outputs": [
    {
     "name": "stderr",
     "output_type": "stream",
     "text": [
      "[nltk_data] Downloading package punkt to /home/jupyter-\n",
      "[nltk_data]     ronmoy007@gmail.co-0e856/nltk_data...\n",
      "[nltk_data]   Package punkt is already up-to-date!\n"
     ]
    },
    {
     "name": "stdout",
     "output_type": "stream",
     "text": [
      "Fitting 5 folds for each of 16 candidates, totalling 80 fits\n"
     ]
    },
    {
     "name": "stderr",
     "output_type": "stream",
     "text": [
      "[Parallel(n_jobs=-1)]: Using backend LokyBackend with 4 concurrent workers.\n",
      "[Parallel(n_jobs=-1)]: Done  24 tasks      | elapsed:    1.5s\n",
      "[Parallel(n_jobs=-1)]: Done  80 out of  80 | elapsed:    2.0s finished\n",
      "[Parallel(n_jobs=-1)]: Using backend LokyBackend with 4 concurrent workers.\n"
     ]
    },
    {
     "name": "stdout",
     "output_type": "stream",
     "text": [
      "grid_search.best_params_:  {'max_depth': 4, 'max_features': 'sqrt', 'min_samples_leaf': 3, 'min_samples_split': 4}\n",
      "grid_search.best_score_:  0.6472299043463667\n",
      "Fitting 5 folds for each of 16 candidates, totalling 80 fits\n"
     ]
    },
    {
     "name": "stderr",
     "output_type": "stream",
     "text": [
      "[Parallel(n_jobs=-1)]: Done  24 tasks      | elapsed:    2.2s\n",
      "[Parallel(n_jobs=-1)]: Done  80 out of  80 | elapsed:    7.3s finished\n",
      "/home/jupyter-ronmoy007@gmail.co-0e856/.local/lib/python3.7/site-packages/sklearn/model_selection/_search.py:765: DataConversionWarning: A column-vector y was passed when a 1d array was expected. Please change the shape of y to (n_samples,), for example using ravel().\n",
      "  self.best_estimator_.fit(X, y, **fit_params)\n"
     ]
    },
    {
     "name": "stdout",
     "output_type": "stream",
     "text": [
      "grid_search.best_params_:  {'max_depth': 7, 'max_features': 'sqrt', 'min_samples_leaf': 7, 'min_samples_split': 4, 'n_estimators': 50}\n",
      "grid_search.best_score_:  0.677574089612351\n",
      "Fitting 5 folds for each of 48 candidates, totalling 240 fits\n"
     ]
    },
    {
     "name": "stderr",
     "output_type": "stream",
     "text": [
      "[Parallel(n_jobs=-1)]: Using backend LokyBackend with 4 concurrent workers.\n",
      "[Parallel(n_jobs=-1)]: Done  24 tasks      | elapsed:    2.7s\n",
      "[Parallel(n_jobs=-1)]: Done 120 tasks      | elapsed:   17.1s\n",
      "[Parallel(n_jobs=-1)]: Done 240 out of 240 | elapsed:   34.2s finished\n",
      "/home/jupyter-ronmoy007@gmail.co-0e856/.local/lib/python3.7/site-packages/sklearn/utils/validation.py:73: DataConversionWarning: A column-vector y was passed when a 1d array was expected. Please change the shape of y to (n_samples, ), for example using ravel().\n",
      "  return f(**kwargs)\n"
     ]
    },
    {
     "name": "stdout",
     "output_type": "stream",
     "text": [
      "grid_search.best_params_:  {'learning_rate': 0.1, 'max_depth': 4, 'max_features': 'sqrt', 'min_samples_leaf': 7, 'min_samples_split': 16, 'n_estimators': 50}\n",
      "grid_search.best_score_:  0.6936801476757846\n",
      "str_ArchivoEnvio:  modelo_capa1.p\n",
      "str_NombreArchivoEnS3:  01_modelos/capa1/modelo_capa1.p\n",
      "Enviando el archivo a S3...\n",
      "Envío completado\n"
     ]
    }
   ],
   "source": [
    "import Discrim.Train.capa1 as cp1\n",
    "\n",
    "obj_capa1 = cp1.capa1()\n",
    "obj_capa1.descargar_tweets_entrenamiento()\n",
    "obj_capa1.transformar_dataset()\n",
    "obj_capa1.train()\n",
    "obj_capa1.crear_pickle()\n",
    "obj_capa1.mandar_pickle_s3()"
   ]
  },
  {
   "cell_type": "code",
   "execution_count": 2,
   "metadata": {},
   "outputs": [
    {
     "data": {
      "text/plain": [
       "0.665"
      ]
     },
     "execution_count": 2,
     "metadata": {},
     "output_type": "execute_result"
    }
   ],
   "source": [
    "import numpy as np\n",
    "\n",
    "npEmbeddings = obj_capa1.generar_embeddings(obj_capa1.test)\n",
    "\n",
    "predicted = obj_capa1.best_model.predict(npEmbeddings)\n",
    "\n",
    "np.mean(predicted == obj_capa1.test.label)"
   ]
  },
  {
   "cell_type": "code",
   "execution_count": 2,
   "metadata": {},
   "outputs": [
    {
     "name": "stdout",
     "output_type": "stream",
     "text": [
      "str_ArchivoEnvio:  modelo_capa1.p\n",
      "str_NombreArchivoEnS3:  01_modelos/capa1/modelo_capa1.p\n",
      "Enviando el archivo a S3...\n",
      "Envío completado\n"
     ]
    }
   ],
   "source": []
  },
  {
   "cell_type": "markdown",
   "metadata": {},
   "source": [
    "# Capa2\n",
    "En la segunda capa, se evaluarán 7 modelos"
   ]
  },
  {
   "cell_type": "code",
   "execution_count": 1,
   "metadata": {},
   "outputs": [],
   "source": [
    "import Discrim.Train.Capa2.apariencia as apa\n",
    "\n",
    "obj_apariencia = apa.Apariencia()\n",
    "obj_apariencia.descargar_tweets_entrenamiento()\n",
    "obj_apariencia.transformar_dataset()\n",
    "obj_apariencia.train()\n",
    "#obj_apariencia.crear_pickle()\n",
    "#obj_apariencia.mandar_pickle_s3()"
   ]
  },
  {
   "cell_type": "code",
   "execution_count": 2,
   "metadata": {},
   "outputs": [],
   "source": [
    "import Discrim.Train.Capa2.discapacidad as disc\n",
    "\n",
    "obj_discapacidad = disc.Discapacidad()\n",
    "obj_discapacidad.descargar_tweets_entrenamiento()\n",
    "obj_discapacidad.transformar_dataset()\n",
    "obj_discapacidad.train()\n",
    "#obj_discapacidad.crear_pickle()\n",
    "#obj_discapacidad.mandar_pickle_s3()"
   ]
  },
  {
   "cell_type": "code",
   "execution_count": 3,
   "metadata": {},
   "outputs": [],
   "source": [
    "import Discrim.Train.Capa2.edad as edad\n",
    "\n",
    "obj_edad = edad.Edad()\n",
    "obj_edad.descargar_tweets_entrenamiento()\n",
    "obj_edad.transformar_dataset()\n",
    "obj_edad.train()\n",
    "#obj_edad.crear_pickle()\n",
    "#obj_edad.mandar_pickle_s3()"
   ]
  },
  {
   "cell_type": "code",
   "execution_count": null,
   "metadata": {},
   "outputs": [],
   "source": [
    "import Discrim.Train.Capa2.genero as gen\n",
    "\n",
    "obj_genero = gen.Genero()\n",
    "obj_genero.descargar_tweets_entrenamiento()\n",
    "obj_genero.transformar_dataset()\n",
    "obj_genero.train()\n",
    "#obj_genero.crear_pickle()\n",
    "#obj_genero.mandar_pickle_s3()"
   ]
  },
  {
   "cell_type": "code",
   "execution_count": 4,
   "metadata": {},
   "outputs": [],
   "source": [
    "import Discrim.Train.Capa2.ideologia as ideo\n",
    "\n",
    "obj_ideologia = ideo.Ideologia()\n",
    "obj_ideologia.descargar_tweets_entrenamiento()\n",
    "obj_ideologia.transformar_dataset()\n",
    "obj_ideologia.train()\n",
    "#obj_ideologia.crear_pickle()\n",
    "#obj_ideologia.mandar_pickle_s3()"
   ]
  },
  {
   "cell_type": "code",
   "execution_count": 5,
   "metadata": {},
   "outputs": [],
   "source": [
    "import Discrim.Train.Capa2.orientacion as orien\n",
    "\n",
    "obj_orientacion = orien.Orientacion()\n",
    "obj_orientacion.descargar_tweets_entrenamiento()\n",
    "obj_orientacion.transformar_dataset()\n",
    "obj_orientacion.train()\n",
    "#obj_orientacion.crear_pickle()\n",
    "#obj_orientacion.mandar_pickle_s3()"
   ]
  },
  {
   "cell_type": "code",
   "execution_count": null,
   "metadata": {},
   "outputs": [],
   "source": [
    "import Discrim.Train.Capa2.religion as relig\n",
    "\n",
    "obj_religion = relig.Religion()\n",
    "obj_religion.descargar_tweets_entrenamiento()\n",
    "obj_religion.transformar_dataset()\n",
    "obj_religion.train()\n",
    "#obj_religion.crear_pickle()\n",
    "#obj_religion.mandar_pickle_s3()"
   ]
  },
  {
   "cell_type": "markdown",
   "metadata": {},
   "source": [
    "# Predict\n",
    "\n",
    "Se creará una clase concentradora que tendrá instanciados todos los modelos para que únicamente sea necesario crear un objeto que tenga acceso a todos los clasificadores."
   ]
  },
  {
   "cell_type": "code",
   "execution_count": 1,
   "metadata": {},
   "outputs": [
    {
     "name": "stderr",
     "output_type": "stream",
     "text": [
      "/home/jupyter-ronmoy007@gmail.co-0e856/.local/lib/python3.7/site-packages/sklearn/base.py:334: UserWarning: Trying to unpickle estimator DummyClassifier from version 0.22.1 when using version 0.23.1. This might lead to breaking code or invalid results. Use at your own risk.\n",
      "  UserWarning)\n",
      "/home/jupyter-ronmoy007@gmail.co-0e856/.local/lib/python3.7/site-packages/sklearn/base.py:334: UserWarning: Trying to unpickle estimator DecisionTreeRegressor from version 0.22.1 when using version 0.23.1. This might lead to breaking code or invalid results. Use at your own risk.\n",
      "  UserWarning)\n",
      "/home/jupyter-ronmoy007@gmail.co-0e856/.local/lib/python3.7/site-packages/sklearn/base.py:334: UserWarning: Trying to unpickle estimator GradientBoostingClassifier from version 0.22.1 when using version 0.23.1. This might lead to breaking code or invalid results. Use at your own risk.\n",
      "  UserWarning)\n"
     ]
    }
   ],
   "source": [
    "import Discrim.Predict.modelos as mod\n",
    "\n",
    "obj_modelos = mod.Modelos()"
   ]
  },
  {
   "cell_type": "code",
   "execution_count": 2,
   "metadata": {},
   "outputs": [
    {
     "name": "stdout",
     "output_type": "stream",
     "text": [
      "obj_modelos.discr.modelo\n",
      "GradientBoostingClassifier(max_depth=4, max_features='sqrt', min_samples_leaf=7,\n",
      "                           min_samples_split=16, n_estimators=50)\n",
      "obj_modelos.apar.modelo\n",
      "GradientBoostingClassifier(learning_rate=0.25, max_depth=7, max_features='sqrt',\n",
      "                           min_samples_leaf=7, min_samples_split=16,\n",
      "                           n_estimators=150)\n",
      "obj_modelos.discap.modelo\n",
      "GradientBoostingClassifier(max_depth=7, max_features='sqrt', min_samples_leaf=3,\n",
      "                           min_samples_split=4)\n",
      "obj_modelos.edad.modelo\n",
      "GradientBoostingClassifier(learning_rate=0.75, max_depth=6, max_features='sqrt',\n",
      "                           min_samples_leaf=3, min_samples_split=16)\n",
      "obj_modelos.genero.modelo\n",
      "GradientBoostingClassifier(max_depth=7, max_features='sqrt', min_samples_leaf=3,\n",
      "                           min_samples_split=4)\n",
      "obj_modelos.ideo.modelo\n",
      "GradientBoostingClassifier(max_depth=7, max_features='sqrt', min_samples_leaf=3,\n",
      "                           min_samples_split=16)\n",
      "obj_modelos.orien.modelo\n",
      "GradientBoostingClassifier(max_depth=7, max_features='sqrt', min_samples_leaf=3,\n",
      "                           min_samples_split=4)\n",
      "obj_modelos.relig.modelo\n",
      "GradientBoostingClassifier(learning_rate=0.75, max_features='sqrt',\n",
      "                           min_samples_leaf=7, min_samples_split=16,\n",
      "                           n_estimators=150)\n"
     ]
    }
   ],
   "source": [
    "# Capa1\n",
    "print('obj_modelos.discr.modelo')\n",
    "print(obj_modelos.discr.modelo)\n",
    "\n",
    "# Capa2\n",
    "print('obj_modelos.apar.modelo')\n",
    "print(obj_modelos.apar.modelo)\n",
    "\n",
    "print('obj_modelos.discap.modelo')\n",
    "print(obj_modelos.discap.modelo)\n",
    "\n",
    "print('obj_modelos.edad.modelo')\n",
    "print(obj_modelos.edad.modelo)\n",
    "\n",
    "print('obj_modelos.genero.modelo')\n",
    "print(obj_modelos.genero.modelo)\n",
    "\n",
    "print('obj_modelos.ideo.modelo')\n",
    "print(obj_modelos.ideo.modelo)\n",
    "\n",
    "print('obj_modelos.orien.modelo')\n",
    "print(obj_modelos.orien.modelo)\n",
    "\n",
    "print('obj_modelos.relig.modelo')\n",
    "print(obj_modelos.relig.modelo)"
   ]
  },
  {
   "cell_type": "markdown",
   "metadata": {},
   "source": [
    "# API\n",
    "\n",
    "La clase API está diseñada para efecutar los 4 tipo de predicciones:\n",
    "\n",
    "- Predicciones de las últimas horas (en construcción)\n",
    "- Predicciones por un hashtag (lista)\n",
    "- Predicciones por un usuario (lista)\n",
    "- Predicciones de un texto capturado (lista)\n",
    "\n",
    "Todos los métidos devuelven un diccionario que contiene el resultado de todos los modelos"
   ]
  },
  {
   "cell_type": "code",
   "execution_count": 1,
   "metadata": {},
   "outputs": [
    {
     "name": "stderr",
     "output_type": "stream",
     "text": [
      "/home/jupyter-ronmoy007@gmail.co-0e856/.local/lib/python3.7/site-packages/sklearn/base.py:334: UserWarning: Trying to unpickle estimator DummyClassifier from version 0.22.1 when using version 0.23.1. This might lead to breaking code or invalid results. Use at your own risk.\n",
      "  UserWarning)\n",
      "/home/jupyter-ronmoy007@gmail.co-0e856/.local/lib/python3.7/site-packages/sklearn/base.py:334: UserWarning: Trying to unpickle estimator DecisionTreeRegressor from version 0.22.1 when using version 0.23.1. This might lead to breaking code or invalid results. Use at your own risk.\n",
      "  UserWarning)\n",
      "/home/jupyter-ronmoy007@gmail.co-0e856/.local/lib/python3.7/site-packages/sklearn/base.py:334: UserWarning: Trying to unpickle estimator GradientBoostingClassifier from version 0.22.1 when using version 0.23.1. This might lead to breaking code or invalid results. Use at your own risk.\n",
      "  UserWarning)\n",
      "[nltk_data] Downloading package punkt to /home/jupyter-\n",
      "[nltk_data]     ronmoy007@gmail.co-0e856/nltk_data...\n",
      "[nltk_data]   Package punkt is already up-to-date!\n"
     ]
    }
   ],
   "source": [
    "import Discrim.api as api\n",
    "\n",
    "# El objeto api recibe la cantidad de tweets que se desean extraer de twitter de acuerdo al tipo de búsqueda\n",
    "obj_api = api.API(nbr_tweets_x_hrs = 2, nbr_tweets_x_ht = 3, nbr_tweets_x_usr = 4)"
   ]
  },
  {
   "cell_type": "code",
   "execution_count": 2,
   "metadata": {},
   "outputs": [
    {
     "data": {
      "text/plain": [
       "{'discriminacion': [[0.5444648862930812, 0.45553511370691874],\n",
       "  [0.9187096849133349, 0.08129031508666501]],\n",
       " 'apariencia': [[0.8437734998571413, 0.15622650014285863],\n",
       "  [0.9277879686787409, 0.07221203132125913]],\n",
       " 'discapacidad': [[0.9207046288857942, 0.07929537111420586],\n",
       "  [0.9500442965859587, 0.04995570341404137]],\n",
       " 'edad': [[0.1307144215778484, 0.8692855784221516],\n",
       "  [0.9960905058499538, 0.0039094941500461364]],\n",
       " 'genero': [[0.9923863316163615, 0.007613668383638492],\n",
       "  [0.9940541628418847, 0.005945837158115218]],\n",
       " 'ideologia': [[0.7367168304735721, 0.26328316952642794],\n",
       "  [0.8803519263951829, 0.11964807360481709]],\n",
       " 'orientacion': [[0.9822597141023248, 0.017740285897675144],\n",
       "  [0.9770046095523691, 0.022995390447630864]],\n",
       " 'religion': [[0.8159222911776753, 0.1840777088223246],\n",
       "  [0.9568643210585475, 0.043135678941452545]]}"
      ]
     },
     "execution_count": 2,
     "metadata": {},
     "output_type": "execute_result"
    }
   ],
   "source": [
    "resultado = obj_api.clasificar_x_horas(-48)\n",
    "resultado"
   ]
  },
  {
   "cell_type": "code",
   "execution_count": 3,
   "metadata": {},
   "outputs": [
    {
     "data": {
      "text/plain": [
       "{'discriminacion': [[0.8230788426016198, 0.17692115739838027],\n",
       "  [0.36746363010552496, 0.632536369894475],\n",
       "  [0.9102956879619056, 0.08970431203809437]],\n",
       " 'apariencia': [[0.7949051396815692, 0.20509486031843077],\n",
       "  [0.9554016953922145, 0.044598304607785424],\n",
       "  [0.6723764029316641, 0.3276235970683358]],\n",
       " 'discapacidad': [[0.8641583685206731, 0.13584163147932693],\n",
       "  [0.9503374334648361, 0.04966256653516392],\n",
       "  [0.9187353991634108, 0.08126460083658918]],\n",
       " 'edad': [[0.981312707648005, 0.01868729235199492],\n",
       "  [0.9963053799704662, 0.0036946200295338238],\n",
       "  [0.9928073919479843, 0.007192608052015758]],\n",
       " 'genero': [[0.9941727260717221, 0.005827273928277826],\n",
       "  [0.9970250894508034, 0.0029749105491965783],\n",
       "  [0.9874768098382237, 0.012523190161776278]],\n",
       " 'ideologia': [[0.8689720533428221, 0.1310279466571779],\n",
       "  [0.8734078401582422, 0.12659215984175778],\n",
       "  [0.8357304129703806, 0.16426958702961938]],\n",
       " 'orientacion': [[0.9710372877187464, 0.0289627122812536],\n",
       "  [0.9745580750186313, 0.025441924981368696],\n",
       "  [0.9765749468364509, 0.023425053163549116]],\n",
       " 'religion': [[0.996078335439098, 0.003921664560902042],\n",
       "  [0.9721736144713008, 0.027826385528699215],\n",
       "  [0.9935522376370175, 0.006447762362982466]]}"
      ]
     },
     "execution_count": 3,
     "metadata": {},
     "output_type": "execute_result"
    }
   ],
   "source": [
    "resultado = obj_api.clasificar_x_ht('#AMLO')\n",
    "resultado"
   ]
  },
  {
   "cell_type": "code",
   "execution_count": 9,
   "metadata": {},
   "outputs": [
    {
     "data": {
      "text/plain": [
       "{'discriminacion': array([[0.36524777, 0.63475223],\n",
       "        [0.78139488, 0.21860512]]),\n",
       " 'apariencia': array([[0.89057011, 0.10942989],\n",
       "        [0.42667337, 0.57332663]]),\n",
       " 'discapacidad': array([[0.94288938, 0.05711062],\n",
       "        [0.76988538, 0.23011462]]),\n",
       " 'edad': array([[0.986909 , 0.013091 ],\n",
       "        [0.1907501, 0.8092499]]),\n",
       " 'genero': array([[0.99677552, 0.00322448],\n",
       "        [0.99487672, 0.00512328]]),\n",
       " 'ideologia': array([[0.84315266, 0.15684734],\n",
       "        [0.78263179, 0.21736821]]),\n",
       " 'orientacion': array([[0.97147292, 0.02852708],\n",
       "        [0.96743147, 0.03256853]]),\n",
       " 'religion': array([[0.97786001, 0.02213999],\n",
       "        [0.99756776, 0.00243224]])}"
      ]
     },
     "execution_count": 9,
     "metadata": {},
     "output_type": "execute_result"
    }
   ],
   "source": [
    "resultado = obj_api.clasificar_x_usuario('@ChumelTorres')\n",
    "resultado"
   ]
  },
  {
   "cell_type": "code",
   "execution_count": 2,
   "metadata": {},
   "outputs": [
    {
     "data": {
      "text/plain": [
       "{'discriminacion': [[0.27225924445015426, 0.7277407555498457]],\n",
       " 'apariencia': [[0.3712523336132679, 0.6287476663867321]],\n",
       " 'discapacidad': [[0.9067630268506349, 0.09323697314936506]],\n",
       " 'edad': [[0.2602797200558844, 0.7397202799441156]],\n",
       " 'genero': [[0.9962268110763076, 0.0037731889236923876]],\n",
       " 'ideologia': [[0.8704969763088051, 0.12950302369119493]],\n",
       " 'orientacion': [[0.9804331777476608, 0.01956682225233921]],\n",
       " 'religion': [[0.5762506723688756, 0.42374932763112433]]}"
      ]
     },
     "execution_count": 2,
     "metadata": {},
     "output_type": "execute_result"
    }
   ],
   "source": [
    "resultado = obj_api.clasificar_x_texto('Que chingue a su madre el américa')\n",
    "resultado"
   ]
  },
  {
   "cell_type": "code",
   "execution_count": 10,
   "metadata": {},
   "outputs": [
    {
     "data": {
      "text/plain": [
       "[{'user_id': '120835612',\n",
       "  'name': 'Chumel Torres',\n",
       "  'screen_name': 'ChumelTorres',\n",
       "  'full_text': 'Cristo de bondad lo chillones que estan por el despido de Ackerman de Proceso.\\n\\nHaganle como uno. Tomenlo con dignidad. https://t.co/85w3wuM40f',\n",
       "  'location': 'CDMX'},\n",
       " {'user_id': '120835612',\n",
       "  'name': 'Chumel Torres',\n",
       "  'screen_name': 'ChumelTorres',\n",
       "  'full_text': '@jgnaredo @proceso @EnriqueKrauze @aguilarcamin Ahora dilo sin llorar.',\n",
       "  'location': 'CDMX'}]"
      ]
     },
     "execution_count": 10,
     "metadata": {},
     "output_type": "execute_result"
    }
   ],
   "source": [
    "obj_api.list_data"
   ]
  },
  {
   "cell_type": "code",
   "execution_count": 11,
   "metadata": {},
   "outputs": [
    {
     "data": {
      "text/html": [
       "<div>\n",
       "<style scoped>\n",
       "    .dataframe tbody tr th:only-of-type {\n",
       "        vertical-align: middle;\n",
       "    }\n",
       "\n",
       "    .dataframe tbody tr th {\n",
       "        vertical-align: top;\n",
       "    }\n",
       "\n",
       "    .dataframe thead th {\n",
       "        text-align: right;\n",
       "    }\n",
       "</style>\n",
       "<table border=\"1\" class=\"dataframe\">\n",
       "  <thead>\n",
       "    <tr style=\"text-align: right;\">\n",
       "      <th></th>\n",
       "      <th>user_id</th>\n",
       "      <th>name</th>\n",
       "      <th>screen_name</th>\n",
       "      <th>full_text</th>\n",
       "      <th>location</th>\n",
       "      <th>embeddings</th>\n",
       "    </tr>\n",
       "  </thead>\n",
       "  <tbody>\n",
       "    <tr>\n",
       "      <th>0</th>\n",
       "      <td>120835612</td>\n",
       "      <td>Chumel Torres</td>\n",
       "      <td>ChumelTorres</td>\n",
       "      <td>cristo bondad chillones estan despido ackerman...</td>\n",
       "      <td>CDMX</td>\n",
       "      <td>[-0.2492830455303192, 0.16176076233386993, -0....</td>\n",
       "    </tr>\n",
       "    <tr>\n",
       "      <th>1</th>\n",
       "      <td>120835612</td>\n",
       "      <td>Chumel Torres</td>\n",
       "      <td>ChumelTorres</td>\n",
       "      <td>ahora dilo llorar</td>\n",
       "      <td>CDMX</td>\n",
       "      <td>[-0.6474771499633789, 0.4220397174358368, -0.2...</td>\n",
       "    </tr>\n",
       "  </tbody>\n",
       "</table>\n",
       "</div>"
      ],
      "text/plain": [
       "     user_id           name   screen_name  \\\n",
       "0  120835612  Chumel Torres  ChumelTorres   \n",
       "1  120835612  Chumel Torres  ChumelTorres   \n",
       "\n",
       "                                           full_text location  \\\n",
       "0  cristo bondad chillones estan despido ackerman...     CDMX   \n",
       "1                                  ahora dilo llorar     CDMX   \n",
       "\n",
       "                                          embeddings  \n",
       "0  [-0.2492830455303192, 0.16176076233386993, -0....  \n",
       "1  [-0.6474771499633789, 0.4220397174358368, -0.2...  "
      ]
     },
     "execution_count": 11,
     "metadata": {},
     "output_type": "execute_result"
    }
   ],
   "source": [
    "obj_api.df"
   ]
  },
  {
   "cell_type": "code",
   "execution_count": 12,
   "metadata": {},
   "outputs": [
    {
     "data": {
      "text/plain": [
       "[array([-2.49283046e-01,  1.61760762e-01, -1.01963378e-01, -6.05144724e-02,\n",
       "        -3.79346864e-04,  2.57731110e-01,  1.43005699e-02, -8.18011463e-02,\n",
       "         1.63993359e-01,  1.17667988e-01,  4.00251076e-02, -1.39445901e-01,\n",
       "        -3.49892117e-02,  3.84578072e-02, -9.70307365e-02,  1.39213102e-02,\n",
       "        -3.54281403e-02,  1.72622934e-01, -1.14829794e-01, -2.00621814e-01,\n",
       "         7.21444786e-02,  4.13204543e-02,  8.55631456e-02,  1.37675375e-01,\n",
       "        -6.09088130e-02,  1.72165111e-01, -1.10027157e-01,  1.77993216e-02,\n",
       "         1.44955784e-01,  4.52657826e-02, -4.86774966e-02,  9.50034484e-02,\n",
       "        -8.98902565e-02, -7.44117647e-02,  1.85505357e-02, -2.62994319e-01,\n",
       "        -3.69041413e-02, -5.28958552e-02,  1.15877666e-01, -1.55869678e-01,\n",
       "         4.96116653e-02, -1.15810767e-01,  1.94760412e-01, -1.68578535e-01,\n",
       "         1.82956949e-01, -8.35286267e-03, -2.33858169e-04,  1.02224752e-01,\n",
       "         1.74121350e-01, -1.93008274e-01,  6.88781887e-02, -7.71545386e-03,\n",
       "         1.24876358e-01,  4.56032567e-02, -6.92105736e-04,  7.46454373e-02,\n",
       "         6.55010194e-02,  6.51224703e-03, -1.55640334e-01,  1.06528979e-02,\n",
       "        -1.96147665e-01, -6.04432039e-02,  6.79444224e-02,  3.81779447e-02,\n",
       "         2.69626025e-02, -1.06871560e-01, -2.21499167e-02,  2.14658692e-01,\n",
       "         7.50195757e-02, -1.52912050e-01, -7.07513243e-02, -1.13217175e-01,\n",
       "         1.73318341e-01,  3.99940507e-03, -1.19495904e-02,  7.94976354e-02,\n",
       "         2.08083123e-01, -7.59075508e-02, -1.52573977e-02,  1.40484437e-01,\n",
       "         1.02220558e-01,  2.15880662e-01,  9.55486298e-02,  9.21748281e-02,\n",
       "        -6.91099539e-02, -1.52315021e-01, -1.43953964e-01,  3.20571614e-03,\n",
       "        -3.33786532e-02,  4.28257398e-02,  4.34108041e-02,  1.89688519e-01,\n",
       "         1.34739473e-01,  5.67143448e-02, -2.17777640e-02,  8.05641562e-02,\n",
       "         1.48289293e-01, -7.20398277e-02,  4.30546328e-02,  1.02850236e-01,\n",
       "        -1.47722095e-01, -3.85647751e-02, -1.47611529e-01, -2.31223572e-02,\n",
       "         3.30100358e-02, -4.11035940e-02, -6.17427342e-02, -1.28238529e-01,\n",
       "        -1.49759755e-01, -9.53986049e-02,  8.84902477e-02,  2.48502463e-01,\n",
       "        -6.34537488e-02,  1.62062589e-02, -3.47350724e-02,  9.94923413e-02,\n",
       "         1.14550292e-01,  1.57765616e-02, -9.34337005e-02, -2.20889002e-01,\n",
       "         5.12129776e-02, -1.19381379e-02,  1.27379432e-01,  3.60655109e-03,\n",
       "        -4.48148809e-02,  1.38378739e-01,  1.35043830e-01, -2.29030680e-02,\n",
       "         1.98548302e-01, -2.44009763e-01,  8.10096115e-02,  4.99872267e-02,\n",
       "         5.37774991e-03, -1.44316051e-02, -1.80262074e-01,  9.16323438e-02,\n",
       "         3.80613618e-02,  1.13155111e-03, -3.80346775e-02, -9.70109850e-02,\n",
       "         6.66237026e-02,  1.24533772e-01, -7.72784576e-02, -2.56011786e-04,\n",
       "         2.03070447e-01, -2.41239127e-02, -1.73010290e-01, -1.70614913e-01,\n",
       "        -7.17734545e-02,  1.20086513e-01, -7.06014410e-02,  5.84476180e-02,\n",
       "        -1.07299879e-01,  4.49761301e-02, -5.08335121e-02, -9.69657823e-02,\n",
       "        -6.19328506e-02,  6.41939556e-03,  7.78997168e-02, -6.46432787e-02,\n",
       "         1.00593910e-01, -8.31800699e-02,  1.66320503e-01, -6.34890795e-02,\n",
       "         4.02357392e-02, -1.40202090e-01, -5.41821830e-02, -8.30204785e-02,\n",
       "        -1.68918088e-01, -1.10558078e-01,  2.71275997e-01, -2.06934363e-01,\n",
       "        -1.40613437e-01,  4.11680862e-02,  1.71089977e-01, -5.42788915e-02,\n",
       "         7.71675706e-02,  1.28466515e-02,  4.78893593e-02, -8.56228359e-03,\n",
       "        -2.31746398e-02, -3.35138962e-02, -1.63776383e-01,  8.14917013e-02,\n",
       "         1.15030490e-01, -3.85528617e-02, -2.65376624e-02, -6.41374588e-02,\n",
       "         5.70174083e-02,  3.73234972e-02,  1.26599073e-01,  2.06194997e-01,\n",
       "         1.03115916e-01,  9.90569293e-02, -2.59980261e-02, -1.03141675e-02,\n",
       "        -1.47906125e-01,  1.43299356e-01,  1.31324768e-01,  7.96644688e-02,\n",
       "         2.71896631e-01, -8.76882300e-02, -9.33477432e-02, -5.01888692e-02,\n",
       "         1.40871495e-01,  7.44083971e-02, -1.36644185e-01,  1.76719539e-02,\n",
       "         1.54490456e-01, -1.78507760e-01,  1.39189631e-01,  4.95761223e-02,\n",
       "        -4.31903340e-02,  4.28443216e-02, -9.83463153e-02,  2.47343313e-02,\n",
       "        -7.22964257e-02, -1.49589553e-01,  1.53710380e-01, -1.44332021e-01,\n",
       "        -8.63408223e-02, -5.94437346e-02, -3.10609750e-02,  5.62440529e-02,\n",
       "        -1.05416492e-01,  5.00893593e-02,  1.21100046e-01, -1.84176832e-01,\n",
       "         1.12898290e-01, -2.47345250e-02,  2.79164724e-02, -1.23075232e-01,\n",
       "        -1.18523978e-01,  8.88344571e-02, -7.87156671e-02, -3.48778889e-02,\n",
       "        -9.33170505e-03,  6.34878427e-02,  1.35088321e-02,  1.36239026e-02,\n",
       "         6.95782760e-03, -2.24753004e-03, -8.25655982e-02,  3.52796167e-03,\n",
       "         1.07866146e-01,  9.00139213e-02, -1.14354208e-01, -9.06222090e-02,\n",
       "         4.23332825e-02, -5.89241013e-02, -8.95659029e-02, -1.35877222e-01,\n",
       "         2.28974670e-02, -3.83338146e-02,  9.67328399e-02,  1.26455873e-01,\n",
       "        -5.69248311e-02, -7.73318410e-02,  4.93370816e-02,  6.44621700e-02,\n",
       "         2.26719044e-02, -9.40581411e-02,  1.34830862e-01, -2.96350513e-02,\n",
       "         1.08357772e-01,  4.50230129e-02,  5.60844541e-02, -2.80585252e-02,\n",
       "         2.05985717e-02,  1.06367126e-01, -5.25168367e-02,  4.31001261e-02,\n",
       "         4.32593450e-02,  4.09711115e-02, -6.24583755e-03,  1.31644815e-01,\n",
       "         2.00810581e-01, -1.31737188e-01,  9.38474387e-02,  7.09745213e-02,\n",
       "        -9.70020145e-02, -1.21842520e-02, -1.58196166e-01,  5.57396635e-02,\n",
       "        -1.54329628e-01,  1.45966023e-01,  1.85577422e-01, -7.12821353e-03,\n",
       "        -1.16346046e-01,  8.51664692e-02, -3.24517190e-02, -1.42880350e-01,\n",
       "        -1.12957284e-01, -9.29025561e-02,  7.95348138e-02, -3.58578153e-02,\n",
       "        -3.30958739e-02, -1.25319183e-01,  2.21190616e-01, -1.18635759e-01]),\n",
       " array([-6.47477150e-01,  4.22039717e-01, -2.84513116e-01, -1.54272422e-01,\n",
       "        -1.04564391e-02,  6.58305705e-01,  4.25388366e-02, -2.11032405e-01,\n",
       "         4.35321927e-01,  2.91978002e-01,  1.00186653e-01, -3.58052462e-01,\n",
       "        -9.70557928e-02,  1.02815114e-01, -2.33803511e-01,  4.01353799e-02,\n",
       "        -8.39939341e-02,  4.45474058e-01, -2.83397168e-01, -4.98272508e-01,\n",
       "         1.59698948e-01,  9.62804332e-02,  2.63904005e-01,  3.43233347e-01,\n",
       "        -1.69938326e-01,  4.47491884e-01, -2.80710936e-01,  4.38736491e-02,\n",
       "         3.97186905e-01,  1.04001977e-01, -1.46600261e-01,  2.44260147e-01,\n",
       "        -2.20493451e-01, -1.92168161e-01,  2.90823132e-02, -6.84028566e-01,\n",
       "        -8.32886621e-02, -1.30733654e-01,  2.94479042e-01, -4.17973131e-01,\n",
       "         1.13907374e-01, -2.93811351e-01,  4.90764409e-01, -4.11935478e-01,\n",
       "         4.77589726e-01, -3.01414076e-02, -9.77893546e-03,  2.61823773e-01,\n",
       "         4.65080708e-01, -4.89585310e-01,  1.95823595e-01, -6.84790174e-03,\n",
       "         3.03108394e-01,  1.09870978e-01, -1.49713429e-02,  1.67522594e-01,\n",
       "         1.54983357e-01, -1.50756883e-02, -4.18664664e-01,  4.69466485e-02,\n",
       "        -5.17836392e-01, -1.68683112e-01,  1.78665340e-01,  1.04548901e-01,\n",
       "         6.45221919e-02, -2.81022280e-01, -6.77109584e-02,  5.69768369e-01,\n",
       "         1.99171498e-01, -3.72229218e-01, -1.94868580e-01, -2.91874260e-01,\n",
       "         4.58735824e-01,  2.73275673e-02, -3.46238874e-02,  1.98302209e-01,\n",
       "         5.15435040e-01, -2.00049028e-01, -4.76787537e-02,  3.80765200e-01,\n",
       "         2.59187698e-01,  5.49375415e-01,  2.31051683e-01,  2.55071312e-01,\n",
       "        -1.78717032e-01, -3.87896389e-01, -3.84591728e-01,  6.92091510e-03,\n",
       "        -1.14215396e-01,  1.12300687e-01,  1.23051338e-01,  4.71157640e-01,\n",
       "         3.19090843e-01,  1.26535371e-01, -6.59536049e-02,  2.00277910e-01,\n",
       "         3.94960076e-01, -1.95865080e-01,  9.53100100e-02,  2.62211978e-01,\n",
       "        -3.65402907e-01, -9.40080881e-02, -3.87509108e-01, -5.70760183e-02,\n",
       "         9.77740064e-02, -1.01250947e-01, -1.80192485e-01, -3.24095249e-01,\n",
       "        -3.68981034e-01, -2.54045129e-01,  2.45308533e-01,  6.31347358e-01,\n",
       "        -1.60627082e-01,  5.60191683e-02, -8.71843472e-02,  2.65329570e-01,\n",
       "         3.01831812e-01,  4.80810516e-02, -2.25610182e-01, -5.59322059e-01,\n",
       "         1.56886294e-01, -5.33272512e-02,  3.18024069e-01,  2.25389730e-02,\n",
       "        -8.87681842e-02,  3.47851753e-01,  3.61481279e-01, -6.94350004e-02,\n",
       "         5.32860339e-01, -6.34402454e-01,  2.25045100e-01,  1.09862156e-01,\n",
       "         2.10584756e-02, -4.62710150e-02, -4.83277321e-01,  2.39135072e-01,\n",
       "         1.05638355e-01,  1.09570548e-02, -8.60945582e-02, -2.42935196e-01,\n",
       "         1.51500329e-01,  2.99792647e-01, -1.92813873e-01, -8.38664651e-04,\n",
       "         5.35062253e-01, -6.17421456e-02, -4.47888851e-01, -4.40084010e-01,\n",
       "        -1.96505845e-01,  3.08307797e-01, -1.59674540e-01,  1.36305466e-01,\n",
       "        -2.70342141e-01,  1.30033121e-01, -1.37082770e-01, -2.32389107e-01,\n",
       "        -1.80959463e-01,  1.69300791e-02,  1.78730562e-01, -1.77100971e-01,\n",
       "         2.41676807e-01, -2.20336422e-01,  4.09236759e-01, -1.71954259e-01,\n",
       "         1.03053816e-01, -3.52764726e-01, -1.24278687e-01, -2.14325860e-01,\n",
       "        -4.37436342e-01, -2.74772555e-01,  7.12373972e-01, -5.51199913e-01,\n",
       "        -3.56157392e-01,  8.50278065e-02,  4.40607786e-01, -1.36353925e-01,\n",
       "         1.99188039e-01,  4.26978059e-02,  1.30270228e-01,  1.20661817e-02,\n",
       "        -6.54519573e-02, -1.02160655e-01, -4.40568089e-01,  2.20094442e-01,\n",
       "         2.97837168e-01, -7.48456940e-02, -7.46183917e-02, -1.79447591e-01,\n",
       "         1.58960104e-01,  1.17437601e-01,  3.36099774e-01,  5.59981406e-01,\n",
       "         2.67876744e-01,  2.62869596e-01, -6.89004809e-02, -1.82294641e-02,\n",
       "        -3.77360344e-01,  3.63915443e-01,  3.51753354e-01,  1.85654238e-01,\n",
       "         6.99962914e-01, -2.36030862e-01, -2.30577230e-01, -1.36709124e-01,\n",
       "         3.49926978e-01,  2.26454318e-01, -3.49733800e-01,  3.24537270e-02,\n",
       "         3.89010191e-01, -4.55128878e-01,  3.79522562e-01,  1.39014289e-01,\n",
       "        -8.71221721e-02,  8.52811113e-02, -2.42917061e-01,  7.08824173e-02,\n",
       "        -1.85357928e-01, -3.73905540e-01,  3.79753917e-01, -3.76917511e-01,\n",
       "        -2.28326082e-01, -1.43726572e-01, -9.35945734e-02,  1.47360429e-01,\n",
       "        -2.76753128e-01,  1.13104939e-01,  3.44736457e-01, -4.56473827e-01,\n",
       "         2.97150761e-01, -6.56926483e-02,  7.32951164e-02, -3.09160143e-01,\n",
       "        -2.97729343e-01,  2.47635052e-01, -1.96871921e-01, -1.21032558e-01,\n",
       "        -1.52382776e-02,  1.73948660e-01,  5.25908954e-02,  5.88098280e-02,\n",
       "         8.45887978e-03,  8.85670912e-03, -2.34772325e-01, -3.97813827e-04,\n",
       "         2.82606930e-01,  2.18390703e-01, -3.02381963e-01, -2.24798009e-01,\n",
       "         1.05809487e-01, -1.53038368e-01, -2.35218689e-01, -3.78627896e-01,\n",
       "         5.62337488e-02, -1.27268210e-01,  2.31409192e-01,  3.30678016e-01,\n",
       "        -1.45286605e-01, -2.06185386e-01,  1.22154661e-01,  1.74610063e-01,\n",
       "         4.48798351e-02, -2.66723543e-01,  3.59377623e-01, -7.50811845e-02,\n",
       "         3.00273508e-01,  1.25105724e-01,  1.47331282e-01, -2.99689714e-02,\n",
       "         6.99479580e-02,  2.98743635e-01, -1.57786220e-01,  9.89815965e-02,\n",
       "         1.24169946e-01,  1.25741675e-01, -4.40812223e-02,  3.63231659e-01,\n",
       "         5.25764287e-01, -3.21961552e-01,  2.39410684e-01,  1.70703307e-01,\n",
       "        -2.26572111e-01, -3.12668458e-02, -4.11737561e-01,  1.36348963e-01,\n",
       "        -3.88613671e-01,  3.74788672e-01,  4.68666703e-01, -2.42761686e-03,\n",
       "        -2.84305692e-01,  2.26000145e-01, -7.37359598e-02, -3.65621001e-01,\n",
       "        -2.81211942e-01, -2.54053831e-01,  2.00061604e-01, -8.59866142e-02,\n",
       "        -7.72573650e-02, -3.20729375e-01,  5.77889383e-01, -2.89803505e-01])]"
      ]
     },
     "execution_count": 12,
     "metadata": {},
     "output_type": "execute_result"
    }
   ],
   "source": [
    "obj_api.X_predict"
   ]
  },
  {
   "cell_type": "markdown",
   "metadata": {},
   "source": [
    "# Dashboard"
   ]
  },
  {
   "cell_type": "code",
   "execution_count": 6,
   "metadata": {},
   "outputs": [],
   "source": [
    "import Discrim.Dashboard as dash"
   ]
  }
 ],
 "metadata": {
  "kernelspec": {
   "display_name": "Python 3",
   "language": "python",
   "name": "python3"
  },
  "language_info": {
   "codemirror_mode": {
    "name": "ipython",
    "version": 3
   },
   "file_extension": ".py",
   "mimetype": "text/x-python",
   "name": "python",
   "nbconvert_exporter": "python",
   "pygments_lexer": "ipython3",
   "version": "3.7.6"
  }
 },
 "nbformat": 4,
 "nbformat_minor": 4
}
