{
 "cells": [
  {
   "cell_type": "markdown",
   "metadata": {},
   "source": [
    "## Arquitectura de módulos del discriminamómetro\n",
    "\n",
    "Desde este notebook se expone la arquitectura general del proyecto \"Discriminamómetro\", esto es con la intención de poder correr algún proceso en específico de manera rápida y sencilla."
   ]
  },
  {
   "cell_type": "markdown",
   "metadata": {},
   "source": [
    "# ETL\n",
    "En el módulo ETL se encuentra: \n",
    "\n",
    "-El proceso de descarga recurrente que deberá estar programado para ejecutarse cada 15 minutos mediante un cron.\n",
    " \n",
    "-El proceso de obtención de tweets ya sea por usuario, o hashtag/palabras específicas"
   ]
  },
  {
   "cell_type": "code",
   "execution_count": 1,
   "metadata": {},
   "outputs": [
    {
     "name": "stdout",
     "output_type": "stream",
     "text": [
      "8\n",
      "Entra a descarga_recurrente_tweets\n",
      "str_ArchivoEnvio:  /home/jupyter-ronmoy007@gmail.co-0e856/discriminamometro/discriminamometro/scripts/json_apariencia_20200814_214627607720.txt\n",
      "str_NombreArchivoEnS3:  00_pruebas/json_apariencia_20200814_214627607720.txt\n",
      "Enviando el archivo a S3...\n",
      "str_ArchivoEnvio:  /home/jupyter-ronmoy007@gmail.co-0e856/discriminamometro/discriminamometro/scripts/json_discapacidad_20200814_214628281254.txt\n",
      "str_NombreArchivoEnS3:  00_pruebas/json_discapacidad_20200814_214628281254.txt\n",
      "Enviando el archivo a S3...\n",
      "str_ArchivoEnvio:  /home/jupyter-ronmoy007@gmail.co-0e856/discriminamometro/discriminamometro/scripts/json_edad_20200814_214628901932.txt\n",
      "str_NombreArchivoEnS3:  00_pruebas/json_edad_20200814_214628901932.txt\n",
      "Enviando el archivo a S3...\n",
      "str_ArchivoEnvio:  /home/jupyter-ronmoy007@gmail.co-0e856/discriminamometro/discriminamometro/scripts/json_genero_20200814_214629529213.txt\n",
      "str_NombreArchivoEnS3:  00_pruebas/json_genero_20200814_214629529213.txt\n",
      "Enviando el archivo a S3...\n",
      "str_ArchivoEnvio:  /home/jupyter-ronmoy007@gmail.co-0e856/discriminamometro/discriminamometro/scripts/json_ideologia_20200814_214630169612.txt\n",
      "str_NombreArchivoEnS3:  00_pruebas/json_ideologia_20200814_214630169612.txt\n",
      "Enviando el archivo a S3...\n",
      "str_ArchivoEnvio:  /home/jupyter-ronmoy007@gmail.co-0e856/discriminamometro/discriminamometro/scripts/json_orientacion_20200814_214630780436.txt\n",
      "str_NombreArchivoEnS3:  00_pruebas/json_orientacion_20200814_214630780436.txt\n",
      "Enviando el archivo a S3...\n",
      "str_ArchivoEnvio:  /home/jupyter-ronmoy007@gmail.co-0e856/discriminamometro/discriminamometro/scripts/json_religion_20200814_214631379778.txt\n",
      "str_NombreArchivoEnS3:  00_pruebas/json_religion_20200814_214631379778.txt\n",
      "Enviando el archivo a S3...\n",
      "str_ArchivoEnvio:  /home/jupyter-ronmoy007@gmail.co-0e856/discriminamometro/discriminamometro/scripts/json_neutro_20200814_214631929960.txt\n",
      "str_NombreArchivoEnS3:  00_pruebas/json_neutro_20200814_214631929960.txt\n",
      "Enviando el archivo a S3...\n"
     ]
    }
   ],
   "source": [
    "import Discrim.etl as etl\n",
    "\n",
    "obj_etl = etl.etl('PRUEBA')\n",
    "print(obj_etl.nbr_TweetsXCorrida)\n",
    "\n",
    "obj_etl.descarga_recurrente_tweets()"
   ]
  },
  {
   "cell_type": "markdown",
   "metadata": {},
   "source": [
    "# Train\n",
    "El \"Discriminamómetro\" está constituido por 2 capas, en la primer capa se evalúa mediante un modelo si un tweet discrimina o no. En caso de que un tweet sea discriminatorio, en la segunda capa se evaluarán 7 modelos (uno por cada categoría) para determinar el grado de pertenencia a cada una de ellas. Además de ello, para lograr capturar el contexto de cada palabra, se incluye una fase de generación de embeddings que servirá para entrenar los modelos"
   ]
  },
  {
   "cell_type": "markdown",
   "metadata": {},
   "source": [
    "## Embeddings"
   ]
  },
  {
   "cell_type": "code",
   "execution_count": 3,
   "metadata": {},
   "outputs": [
    {
     "name": "stderr",
     "output_type": "stream",
     "text": [
      "[nltk_data] Downloading package punkt to /home/jupyter-\n",
      "[nltk_data]     ronmoy007@gmail.co-0e856/nltk_data...\n",
      "[nltk_data]   Package punkt is already up-to-date!\n"
     ]
    },
    {
     "name": "stdout",
     "output_type": "stream",
     "text": [
      "str_ArchivoEnvio:  ./data/word2vec_Embeddings.txt\n",
      "str_NombreArchivoEnS3:  00_entrenamiento/embeddings/word2vec_Embeddings.txt\n",
      "Enviando el archivo a S3...\n",
      "Envío completado\n"
     ]
    }
   ],
   "source": [
    "import Discrim.Train.embeddings as emb\n",
    "\n",
    "obj_emb = emb.Embeddings()\n",
    "\n",
    "obj_emb.descargar_archivo_fuente()\n",
    "obj_emb.transformar_dataset()\n",
    "obj_emb.generar_embeddings()\n",
    "obj_emb.enviar_embeddings_s3()"
   ]
  },
  {
   "cell_type": "markdown",
   "metadata": {},
   "source": [
    "# Capa1"
   ]
  },
  {
   "cell_type": "code",
   "execution_count": 5,
   "metadata": {},
   "outputs": [],
   "source": [
    "! gzip ./data/word2vec_Embeddings.txt"
   ]
  },
  {
   "cell_type": "code",
   "execution_count": 6,
   "metadata": {},
   "outputs": [
    {
     "name": "stdout",
     "output_type": "stream",
     "text": [
      "\u001b[2K\u001b[38;5;2m✔ Successfully created model\u001b[0m\n",
      "53549it [00:09, 5552.76it/s]word2vec_Embeddings.txt.gz\n",
      "\u001b[2K\u001b[38;5;2m✔ Loaded vectors from data/word2vec_Embeddings.txt.gz\u001b[0m\n",
      "\u001b[38;5;2m✔ Sucessfully compiled vocab\u001b[0m\n",
      "53767 entries, 53549 vectors\n"
     ]
    }
   ],
   "source": [
    "! python -m spacy init-model es data --vectors-loc ./data/word2vec_Embeddings.txt.gz"
   ]
  },
  {
   "cell_type": "code",
   "execution_count": 1,
   "metadata": {},
   "outputs": [
    {
     "name": "stderr",
     "output_type": "stream",
     "text": [
      "[nltk_data] Downloading package punkt to /home/jupyter-\n",
      "[nltk_data]     ronmoy007@gmail.co-0e856/nltk_data...\n",
      "[nltk_data]   Package punkt is already up-to-date!\n"
     ]
    },
    {
     "name": "stdout",
     "output_type": "stream",
     "text": [
      "Fitting 5 folds for each of 16 candidates, totalling 80 fits\n"
     ]
    },
    {
     "name": "stderr",
     "output_type": "stream",
     "text": [
      "[Parallel(n_jobs=-1)]: Using backend LokyBackend with 4 concurrent workers.\n",
      "[Parallel(n_jobs=-1)]: Done  24 tasks      | elapsed:    1.5s\n",
      "[Parallel(n_jobs=-1)]: Done  80 out of  80 | elapsed:    2.0s finished\n",
      "[Parallel(n_jobs=-1)]: Using backend LokyBackend with 4 concurrent workers.\n"
     ]
    },
    {
     "name": "stdout",
     "output_type": "stream",
     "text": [
      "grid_search.best_params_:  {'max_depth': 4, 'max_features': 'sqrt', 'min_samples_leaf': 3, 'min_samples_split': 4}\n",
      "grid_search.best_score_:  0.6472299043463667\n",
      "Fitting 5 folds for each of 16 candidates, totalling 80 fits\n"
     ]
    },
    {
     "name": "stderr",
     "output_type": "stream",
     "text": [
      "[Parallel(n_jobs=-1)]: Done  24 tasks      | elapsed:    2.2s\n",
      "[Parallel(n_jobs=-1)]: Done  80 out of  80 | elapsed:    7.3s finished\n",
      "/home/jupyter-ronmoy007@gmail.co-0e856/.local/lib/python3.7/site-packages/sklearn/model_selection/_search.py:765: DataConversionWarning: A column-vector y was passed when a 1d array was expected. Please change the shape of y to (n_samples,), for example using ravel().\n",
      "  self.best_estimator_.fit(X, y, **fit_params)\n"
     ]
    },
    {
     "name": "stdout",
     "output_type": "stream",
     "text": [
      "grid_search.best_params_:  {'max_depth': 7, 'max_features': 'sqrt', 'min_samples_leaf': 7, 'min_samples_split': 4, 'n_estimators': 50}\n",
      "grid_search.best_score_:  0.677574089612351\n",
      "Fitting 5 folds for each of 48 candidates, totalling 240 fits\n"
     ]
    },
    {
     "name": "stderr",
     "output_type": "stream",
     "text": [
      "[Parallel(n_jobs=-1)]: Using backend LokyBackend with 4 concurrent workers.\n",
      "[Parallel(n_jobs=-1)]: Done  24 tasks      | elapsed:    2.7s\n",
      "[Parallel(n_jobs=-1)]: Done 120 tasks      | elapsed:   17.1s\n",
      "[Parallel(n_jobs=-1)]: Done 240 out of 240 | elapsed:   34.2s finished\n",
      "/home/jupyter-ronmoy007@gmail.co-0e856/.local/lib/python3.7/site-packages/sklearn/utils/validation.py:73: DataConversionWarning: A column-vector y was passed when a 1d array was expected. Please change the shape of y to (n_samples, ), for example using ravel().\n",
      "  return f(**kwargs)\n"
     ]
    },
    {
     "name": "stdout",
     "output_type": "stream",
     "text": [
      "grid_search.best_params_:  {'learning_rate': 0.1, 'max_depth': 4, 'max_features': 'sqrt', 'min_samples_leaf': 7, 'min_samples_split': 16, 'n_estimators': 50}\n",
      "grid_search.best_score_:  0.6936801476757846\n",
      "str_ArchivoEnvio:  modelo_capa1.p\n",
      "str_NombreArchivoEnS3:  01_modelos/capa1/modelo_capa1.p\n",
      "Enviando el archivo a S3...\n",
      "Envío completado\n"
     ]
    }
   ],
   "source": [
    "import Discrim.Train.capa1 as cp1\n",
    "\n",
    "obj_capa1 = cp1.capa1()\n",
    "obj_capa1.descargar_tweets_entrenamiento()\n",
    "obj_capa1.transformar_dataset()\n",
    "obj_capa1.train()\n",
    "obj_capa1.crear_pickle()\n",
    "obj_capa1.mandar_pickle_s3()"
   ]
  },
  {
   "cell_type": "code",
   "execution_count": 2,
   "metadata": {},
   "outputs": [
    {
     "data": {
      "text/plain": [
       "0.665"
      ]
     },
     "execution_count": 2,
     "metadata": {},
     "output_type": "execute_result"
    }
   ],
   "source": [
    "import numpy as np\n",
    "\n",
    "npEmbeddings = obj_capa1.generar_embeddings(obj_capa1.test)\n",
    "\n",
    "predicted = obj_capa1.best_model.predict(npEmbeddings)\n",
    "\n",
    "np.mean(predicted == obj_capa1.test.label)"
   ]
  },
  {
   "cell_type": "code",
   "execution_count": 2,
   "metadata": {},
   "outputs": [
    {
     "name": "stdout",
     "output_type": "stream",
     "text": [
      "str_ArchivoEnvio:  modelo_capa1.p\n",
      "str_NombreArchivoEnS3:  01_modelos/capa1/modelo_capa1.p\n",
      "Enviando el archivo a S3...\n",
      "Envío completado\n"
     ]
    }
   ],
   "source": []
  },
  {
   "cell_type": "markdown",
   "metadata": {},
   "source": [
    "# Capa2\n",
    "En la segunda capa, se evaluarán 7 modelos"
   ]
  },
  {
   "cell_type": "code",
   "execution_count": 1,
   "metadata": {},
   "outputs": [],
   "source": [
    "import Discrim.Train.Capa2.apariencia as apa\n",
    "\n",
    "obj_apariencia = apa.Apariencia()\n",
    "obj_apariencia.descargar_tweets_entrenamiento()\n",
    "obj_apariencia.transformar_dataset()\n",
    "obj_apariencia.train()\n",
    "obj_apariencia.crear_pickle()\n",
    "obj_apariencia.mandar_pickle_s3()"
   ]
  },
  {
   "cell_type": "code",
   "execution_count": 2,
   "metadata": {},
   "outputs": [],
   "source": [
    "import Discrim.Train.Capa2.discapacidad as disc\n",
    "\n",
    "obj_discapacidad = disc.Discapacidad()\n",
    "obj_discapacidad.descargar_tweets_entrenamiento()\n",
    "obj_discapacidad.transformar_dataset()\n",
    "obj_discapacidad.train()\n",
    "obj_discapacidad.crear_pickle()\n",
    "obj_discapacidad.mandar_pickle_s3()"
   ]
  },
  {
   "cell_type": "code",
   "execution_count": 3,
   "metadata": {},
   "outputs": [],
   "source": [
    "import Discrim.Train.Capa2.edad as edad\n",
    "\n",
    "obj_edad = edad.Edad()\n",
    "obj_edad.descargar_tweets_entrenamiento()\n",
    "obj_edad.transformar_dataset()\n",
    "obj_edad.train()\n",
    "obj_edad.crear_pickle()\n",
    "obj_edad.mandar_pickle_s3()"
   ]
  },
  {
   "cell_type": "code",
   "execution_count": 5,
   "metadata": {},
   "outputs": [
    {
     "name": "stderr",
     "output_type": "stream",
     "text": [
      "[nltk_data] Downloading package punkt to /home/jupyter-\n",
      "[nltk_data]     ronmoy007@gmail.co-0e856/nltk_data...\n",
      "[nltk_data]   Package punkt is already up-to-date!\n"
     ]
    },
    {
     "name": "stdout",
     "output_type": "stream",
     "text": [
      "Fitting 5 folds for each of 16 candidates, totalling 80 fits\n"
     ]
    },
    {
     "name": "stderr",
     "output_type": "stream",
     "text": [
      "[Parallel(n_jobs=-1)]: Using backend LokyBackend with 4 concurrent workers.\n",
      "[Parallel(n_jobs=-1)]: Done  24 tasks      | elapsed:    1.4s\n",
      "[Parallel(n_jobs=-1)]: Done  80 out of  80 | elapsed:    1.8s finished\n",
      "[Parallel(n_jobs=-1)]: Using backend LokyBackend with 4 concurrent workers.\n"
     ]
    },
    {
     "name": "stdout",
     "output_type": "stream",
     "text": [
      "grid_search.best_params_:  {'max_depth': 4, 'max_features': 'sqrt', 'min_samples_leaf': 3, 'min_samples_split': 16}\n",
      "grid_search.best_score_:  0.5657705206378987\n",
      "Fitting 5 folds for each of 16 candidates, totalling 80 fits\n"
     ]
    },
    {
     "name": "stderr",
     "output_type": "stream",
     "text": [
      "[Parallel(n_jobs=-1)]: Done  24 tasks      | elapsed:    1.6s\n",
      "[Parallel(n_jobs=-1)]: Done  80 out of  80 | elapsed:    5.2s finished\n",
      "/home/jupyter-ronmoy007@gmail.co-0e856/.local/lib/python3.7/site-packages/sklearn/model_selection/_search.py:765: DataConversionWarning: A column-vector y was passed when a 1d array was expected. Please change the shape of y to (n_samples,), for example using ravel().\n",
      "  self.best_estimator_.fit(X, y, **fit_params)\n",
      "[Parallel(n_jobs=-1)]: Using backend LokyBackend with 4 concurrent workers.\n"
     ]
    },
    {
     "name": "stdout",
     "output_type": "stream",
     "text": [
      "grid_search.best_params_:  {'max_depth': 4, 'max_features': 'sqrt', 'min_samples_leaf': 7, 'min_samples_split': 4, 'n_estimators': 50}\n",
      "grid_search.best_score_:  0.5509621638524078\n",
      "Fitting 5 folds for each of 48 candidates, totalling 240 fits\n"
     ]
    },
    {
     "name": "stderr",
     "output_type": "stream",
     "text": [
      "[Parallel(n_jobs=-1)]: Done  40 tasks      | elapsed:    2.6s\n",
      "[Parallel(n_jobs=-1)]: Done 240 out of 240 | elapsed:   18.2s finished\n",
      "/home/jupyter-ronmoy007@gmail.co-0e856/.local/lib/python3.7/site-packages/sklearn/utils/validation.py:73: DataConversionWarning: A column-vector y was passed when a 1d array was expected. Please change the shape of y to (n_samples, ), for example using ravel().\n",
      "  return f(**kwargs)\n"
     ]
    },
    {
     "name": "stdout",
     "output_type": "stream",
     "text": [
      "grid_search.best_params_:  {'learning_rate': 0.1, 'max_depth': 3, 'max_features': 'sqrt', 'min_samples_leaf': 3, 'min_samples_split': 16, 'n_estimators': 50}\n",
      "grid_search.best_score_:  0.5678391963727331\n",
      "str_ArchivoEnvio:  modelo_capa2_genero.p\n",
      "str_NombreArchivoEnS3:  01_modelos/capa2/genero/modelo_capa2_genero.p\n",
      "Enviando el archivo a S3...\n",
      "Envío completado\n"
     ]
    }
   ],
   "source": [
    "import Discrim.Train.Capa2.genero as gen\n",
    "\n",
    "obj_genero = gen.Genero()\n",
    "obj_genero.descargar_tweets_entrenamiento()\n",
    "obj_genero.transformar_dataset()\n",
    "obj_genero.train()\n",
    "obj_genero.crear_pickle()\n",
    "obj_genero.mandar_pickle_s3()"
   ]
  },
  {
   "cell_type": "code",
   "execution_count": 4,
   "metadata": {},
   "outputs": [],
   "source": [
    "import Discrim.Train.Capa2.ideologia as ideo\n",
    "\n",
    "obj_ideologia = ideo.Ideologia()\n",
    "obj_ideologia.descargar_tweets_entrenamiento()\n",
    "obj_ideologia.transformar_dataset()\n",
    "obj_ideologia.train()\n",
    "obj_ideologia.crear_pickle()\n",
    "obj_ideologia.mandar_pickle_s3()"
   ]
  },
  {
   "cell_type": "code",
   "execution_count": 5,
   "metadata": {},
   "outputs": [],
   "source": [
    "import Discrim.Train.Capa2.orientacion as orien\n",
    "\n",
    "obj_orientacion = orien.Orientacion()\n",
    "obj_orientacion.descargar_tweets_entrenamiento()\n",
    "obj_orientacion.transformar_dataset()\n",
    "obj_orientacion.train()\n",
    "obj_orientacion.crear_pickle()\n",
    "obj_orientacion.mandar_pickle_s3()"
   ]
  },
  {
   "cell_type": "code",
   "execution_count": 6,
   "metadata": {},
   "outputs": [],
   "source": [
    "import Discrim.Train.Capa2.religion as relig\n",
    "\n",
    "obj_religion = relig.Religion()\n",
    "obj_religion.descargar_tweets_entrenamiento()\n",
    "obj_religion.transformar_dataset()\n",
    "obj_religion.train()\n",
    "obj_religion.crear_pickle()\n",
    "obj_religion.mandar_pickle_s3()"
   ]
  },
  {
   "cell_type": "code",
   "execution_count": 6,
   "metadata": {},
   "outputs": [
    {
     "data": {
      "text/plain": [
       "GradientBoostingClassifier(max_features='sqrt', min_samples_leaf=3,\n",
       "                           min_samples_split=16, n_estimators=50)"
      ]
     },
     "execution_count": 6,
     "metadata": {},
     "output_type": "execute_result"
    }
   ],
   "source": [
    "obj_genero.best_model"
   ]
  },
  {
   "cell_type": "code",
   "execution_count": 3,
   "metadata": {},
   "outputs": [
    {
     "data": {
      "text/html": [
       "<div>\n",
       "<style scoped>\n",
       "    .dataframe tbody tr th:only-of-type {\n",
       "        vertical-align: middle;\n",
       "    }\n",
       "\n",
       "    .dataframe tbody tr th {\n",
       "        vertical-align: top;\n",
       "    }\n",
       "\n",
       "    .dataframe thead th {\n",
       "        text-align: right;\n",
       "    }\n",
       "</style>\n",
       "<table border=\"1\" class=\"dataframe\">\n",
       "  <thead>\n",
       "    <tr style=\"text-align: right;\">\n",
       "      <th></th>\n",
       "      <th>Unnamed: 0</th>\n",
       "      <th>full_text</th>\n",
       "      <th>categoria_1-ap</th>\n",
       "      <th>categoria_2-dis</th>\n",
       "      <th>categoria_3-ed</th>\n",
       "      <th>label</th>\n",
       "      <th>categoria_5-id</th>\n",
       "      <th>categoria_6-or</th>\n",
       "      <th>categoria_7-rel</th>\n",
       "    </tr>\n",
       "  </thead>\n",
       "  <tbody>\n",
       "    <tr>\n",
       "      <th>0</th>\n",
       "      <td>0</td>\n",
       "      <td>[] proximamente rd jodido el4tobate</td>\n",
       "      <td>1</td>\n",
       "      <td>0</td>\n",
       "      <td>0</td>\n",
       "      <td>0</td>\n",
       "      <td>0</td>\n",
       "      <td>0</td>\n",
       "      <td>0</td>\n",
       "    </tr>\n",
       "    <tr>\n",
       "      <th>1</th>\n",
       "      <td>1</td>\n",
       "      <td>jajajaja acomplejado guerito rockero ja facil ...</td>\n",
       "      <td>1</td>\n",
       "      <td>0</td>\n",
       "      <td>0</td>\n",
       "      <td>0</td>\n",
       "      <td>0</td>\n",
       "      <td>0</td>\n",
       "      <td>0</td>\n",
       "    </tr>\n",
       "    <tr>\n",
       "      <th>2</th>\n",
       "      <td>2</td>\n",
       "      <td>momentos cuenta contados dedos personas sincer...</td>\n",
       "      <td>1</td>\n",
       "      <td>0</td>\n",
       "      <td>0</td>\n",
       "      <td>0</td>\n",
       "      <td>0</td>\n",
       "      <td>0</td>\n",
       "      <td>0</td>\n",
       "    </tr>\n",
       "    <tr>\n",
       "      <th>3</th>\n",
       "      <td>3</td>\n",
       "      <td>guerito</td>\n",
       "      <td>1</td>\n",
       "      <td>0</td>\n",
       "      <td>0</td>\n",
       "      <td>0</td>\n",
       "      <td>0</td>\n",
       "      <td>0</td>\n",
       "      <td>0</td>\n",
       "    </tr>\n",
       "    <tr>\n",
       "      <th>4</th>\n",
       "      <td>4</td>\n",
       "      <td>restriccion preparado casos covid-19 suben 15 ...</td>\n",
       "      <td>1</td>\n",
       "      <td>0</td>\n",
       "      <td>0</td>\n",
       "      <td>0</td>\n",
       "      <td>0</td>\n",
       "      <td>0</td>\n",
       "      <td>0</td>\n",
       "    </tr>\n",
       "    <tr>\n",
       "      <th>...</th>\n",
       "      <td>...</td>\n",
       "      <td>...</td>\n",
       "      <td>...</td>\n",
       "      <td>...</td>\n",
       "      <td>...</td>\n",
       "      <td>...</td>\n",
       "      <td>...</td>\n",
       "      <td>...</td>\n",
       "      <td>...</td>\n",
       "    </tr>\n",
       "    <tr>\n",
       "      <th>495</th>\n",
       "      <td>497</td>\n",
       "      <td>parece super nefasto gente llame echando ganas...</td>\n",
       "      <td>1</td>\n",
       "      <td>0</td>\n",
       "      <td>0</td>\n",
       "      <td>0</td>\n",
       "      <td>0</td>\n",
       "      <td>0</td>\n",
       "      <td>0</td>\n",
       "    </tr>\n",
       "    <tr>\n",
       "      <th>496</th>\n",
       "      <td>498</td>\n",
       "      <td>super caga tipo creen super super perrisimas a...</td>\n",
       "      <td>1</td>\n",
       "      <td>0</td>\n",
       "      <td>0</td>\n",
       "      <td>0</td>\n",
       "      <td>0</td>\n",
       "      <td>0</td>\n",
       "      <td>0</td>\n",
       "    </tr>\n",
       "    <tr>\n",
       "      <th>497</th>\n",
       "      <td>499</td>\n",
       "      <td>mejor amlrover incluye chofer come duele mante...</td>\n",
       "      <td>1</td>\n",
       "      <td>0</td>\n",
       "      <td>0</td>\n",
       "      <td>0</td>\n",
       "      <td>0</td>\n",
       "      <td>0</td>\n",
       "      <td>0</td>\n",
       "    </tr>\n",
       "    <tr>\n",
       "      <th>498</th>\n",
       "      <td>500</td>\n",
       "      <td>ahhhhh quedes 1 culpa cajeros 49 cambio sufici...</td>\n",
       "      <td>1</td>\n",
       "      <td>0</td>\n",
       "      <td>0</td>\n",
       "      <td>0</td>\n",
       "      <td>0</td>\n",
       "      <td>0</td>\n",
       "      <td>0</td>\n",
       "    </tr>\n",
       "    <tr>\n",
       "      <th>499</th>\n",
       "      <td>501</td>\n",
       "      <td>amiga decidio tener soltera insemino donador t...</td>\n",
       "      <td>1</td>\n",
       "      <td>0</td>\n",
       "      <td>0</td>\n",
       "      <td>0</td>\n",
       "      <td>0</td>\n",
       "      <td>0</td>\n",
       "      <td>0</td>\n",
       "    </tr>\n",
       "  </tbody>\n",
       "</table>\n",
       "<p>500 rows × 9 columns</p>\n",
       "</div>"
      ],
      "text/plain": [
       "     Unnamed: 0                                          full_text  \\\n",
       "0             0                [] proximamente rd jodido el4tobate   \n",
       "1             1  jajajaja acomplejado guerito rockero ja facil ...   \n",
       "2             2  momentos cuenta contados dedos personas sincer...   \n",
       "3             3                                            guerito   \n",
       "4             4  restriccion preparado casos covid-19 suben 15 ...   \n",
       "..          ...                                                ...   \n",
       "495         497  parece super nefasto gente llame echando ganas...   \n",
       "496         498  super caga tipo creen super super perrisimas a...   \n",
       "497         499  mejor amlrover incluye chofer come duele mante...   \n",
       "498         500  ahhhhh quedes 1 culpa cajeros 49 cambio sufici...   \n",
       "499         501  amiga decidio tener soltera insemino donador t...   \n",
       "\n",
       "     categoria_1-ap  categoria_2-dis  categoria_3-ed  label  categoria_5-id  \\\n",
       "0                 1                0               0      0               0   \n",
       "1                 1                0               0      0               0   \n",
       "2                 1                0               0      0               0   \n",
       "3                 1                0               0      0               0   \n",
       "4                 1                0               0      0               0   \n",
       "..              ...              ...             ...    ...             ...   \n",
       "495               1                0               0      0               0   \n",
       "496               1                0               0      0               0   \n",
       "497               1                0               0      0               0   \n",
       "498               1                0               0      0               0   \n",
       "499               1                0               0      0               0   \n",
       "\n",
       "     categoria_6-or  categoria_7-rel  \n",
       "0                 0                0  \n",
       "1                 0                0  \n",
       "2                 0                0  \n",
       "3                 0                0  \n",
       "4                 0                0  \n",
       "..              ...              ...  \n",
       "495               0                0  \n",
       "496               0                0  \n",
       "497               0                0  \n",
       "498               0                0  \n",
       "499               0                0  \n",
       "\n",
       "[500 rows x 9 columns]"
      ]
     },
     "execution_count": 3,
     "metadata": {},
     "output_type": "execute_result"
    }
   ],
   "source": [
    "obj_genero.pd_fuente"
   ]
  },
  {
   "cell_type": "markdown",
   "metadata": {},
   "source": [
    "# Predict"
   ]
  },
  {
   "cell_type": "code",
   "execution_count": 4,
   "metadata": {},
   "outputs": [],
   "source": [
    "import Discrim.Predict as pr"
   ]
  },
  {
   "cell_type": "markdown",
   "metadata": {},
   "source": [
    "# Dashboard"
   ]
  },
  {
   "cell_type": "code",
   "execution_count": 6,
   "metadata": {},
   "outputs": [],
   "source": [
    "import Discrim.Dashboard as dash"
   ]
  },
  {
   "cell_type": "markdown",
   "metadata": {},
   "source": [
    "# API"
   ]
  },
  {
   "cell_type": "code",
   "execution_count": 7,
   "metadata": {},
   "outputs": [],
   "source": [
    "import Discrim.API as api"
   ]
  }
 ],
 "metadata": {
  "kernelspec": {
   "display_name": "Python 3",
   "language": "python",
   "name": "python3"
  },
  "language_info": {
   "codemirror_mode": {
    "name": "ipython",
    "version": 3
   },
   "file_extension": ".py",
   "mimetype": "text/x-python",
   "name": "python",
   "nbconvert_exporter": "python",
   "pygments_lexer": "ipython3",
   "version": "3.7.6"
  }
 },
 "nbformat": 4,
 "nbformat_minor": 4
}
